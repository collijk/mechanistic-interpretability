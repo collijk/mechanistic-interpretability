{
 "cells": [
  {
   "cell_type": "code",
   "execution_count": 1,
   "id": "f19c0661-3dd5-4c52-b963-232edc1b8ae1",
   "metadata": {
    "execution": {
     "iopub.execute_input": "2024-08-16T02:18:13.451966Z",
     "iopub.status.busy": "2024-08-16T02:18:13.451664Z",
     "iopub.status.idle": "2024-08-16T02:18:26.679911Z",
     "shell.execute_reply": "2024-08-16T02:18:26.679200Z",
     "shell.execute_reply.started": "2024-08-16T02:18:13.451943Z"
    }
   },
   "outputs": [],
   "source": [
    "import os\n",
    "import sys\n",
    "import torch as t\n",
    "from torch import Tensor, optim\n",
    "import torch.nn.functional as F\n",
    "from torchvision import datasets\n",
    "from torch.utils.data import DataLoader, Subset\n",
    "from typing import Callable, Iterable, Tuple, Optional\n",
    "from jaxtyping import Float\n",
    "from dataclasses import dataclass, replace\n",
    "from tqdm.notebook import tqdm\n",
    "from pathlib import Path\n",
    "import numpy as np\n",
    "from IPython.display import display, HTML\n",
    "\n",
    "# Make sure exercises are in the path\n",
    "chapter = r\"chapter0_fundamentals\"\n",
    "exercises_dir = Path(f\"{os.getcwd().split(chapter)[0]}/{chapter}/exercises\").resolve()\n",
    "section_dir = exercises_dir / \"part3_optimization\"\n",
    "if str(exercises_dir) not in sys.path: sys.path.append(str(exercises_dir))\n",
    "\n",
    "from plotly_utils import bar, imshow, plot_train_loss_and_test_accuracy_from_trainer\n",
    "from part2_cnns.solutions import IMAGENET_TRANSFORM, ResNet34\n",
    "from part2_cnns.solutions_bonus import get_resnet_for_feature_extraction\n",
    "from part3_optimization.utils import plot_fn, plot_fn_with_points\n",
    "import part3_optimization.tests as tests\n",
    "\n",
    "device = t.device(\"cuda\" if t.cuda.is_available() else \"cpu\")\n",
    "\n",
    "MAIN = __name__ == \"__main__\""
   ]
  },
  {
   "cell_type": "code",
   "execution_count": 3,
   "id": "2d23c960-17b9-443e-814d-8abaf066d1d5",
   "metadata": {
    "execution": {
     "iopub.execute_input": "2024-08-16T02:56:19.651671Z",
     "iopub.status.busy": "2024-08-16T02:56:19.651384Z",
     "iopub.status.idle": "2024-08-16T02:56:19.851468Z",
     "shell.execute_reply": "2024-08-16T02:56:19.850867Z",
     "shell.execute_reply.started": "2024-08-16T02:56:19.651651Z"
    }
   },
   "outputs": [],
   "source": [
    "def pathological_curve_loss(x: t.Tensor, y: t.Tensor):\n",
    "    # Example of a pathological curvature. There are many more possible, feel free to experiment here!\n",
    "    x_loss = t.tanh(x) ** 2 + 0.01 * t.abs(x)\n",
    "    y_loss = t.sigmoid(y)\n",
    "    return x_loss + y_loss\n",
    "\n",
    "\n",
    "#plot_fn(pathological_curve_loss)"
   ]
  },
  {
   "cell_type": "code",
   "execution_count": null,
   "id": "72ebcbaf-ece1-4156-8494-7d85c4d361e2",
   "metadata": {},
   "outputs": [],
   "source": [
    "def opt_fn_with_sgd(fn: Callable, xy: t.Tensor, lr=0.001, momentum=0.98, n_iters: int = 100):\n",
    "    '''\n",
    "    Optimize the a given function starting from the specified point.\n",
    "\n",
    "    xy: shape (2,). The (x, y) starting point.\n",
    "    n_iters: number of steps.\n",
    "    lr, momentum: parameters passed to the torch.optim.SGD optimizer.\n",
    "\n",
    "    Return: (n_iters, 2). The (x,y) BEFORE each step. So out[0] is the starting point.\n",
    "    '''\n",
    "    pass"
   ]
  }
 ],
 "metadata": {
  "kernelspec": {
   "display_name": "Python 3 (ipykernel)",
   "language": "python",
   "name": "python3"
  },
  "language_info": {
   "codemirror_mode": {
    "name": "ipython",
    "version": 3
   },
   "file_extension": ".py",
   "mimetype": "text/x-python",
   "name": "python",
   "nbconvert_exporter": "python",
   "pygments_lexer": "ipython3",
   "version": "3.12.4"
  }
 },
 "nbformat": 4,
 "nbformat_minor": 5
}
