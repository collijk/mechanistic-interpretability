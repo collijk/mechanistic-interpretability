{
 "cells": [
  {
   "cell_type": "code",
   "execution_count": 1,
   "id": "9ac490e2-e0ef-480c-9543-0f32b822b024",
   "metadata": {
    "execution": {
     "iopub.execute_input": "2024-07-13T18:17:01.861077Z",
     "iopub.status.busy": "2024-07-13T18:17:01.860708Z",
     "iopub.status.idle": "2024-07-13T18:17:09.126684Z",
     "shell.execute_reply": "2024-07-13T18:17:09.126026Z",
     "shell.execute_reply.started": "2024-07-13T18:17:01.861054Z"
    }
   },
   "outputs": [],
   "source": [
    "import os\n",
    "import sys\n",
    "import torch as t\n",
    "from torch import Tensor\n",
    "import einops\n",
    "from ipywidgets import interact\n",
    "import plotly.express as px\n",
    "from ipywidgets import interact\n",
    "from pathlib import Path\n",
    "from IPython.display import display\n",
    "from jaxtyping import Float, Int, Bool, Shaped, jaxtyped\n",
    "import typeguard\n",
    "\n",
    "# Make sure exercises are in the path\n",
    "chapter = r\"chapter0_fundamentals\"\n",
    "exercises_dir = Path(f\"{os.getcwd().split(chapter)[0]}/{chapter}/exercises\").resolve()\n",
    "section_dir = exercises_dir / \"part1_ray_tracing\"\n",
    "if str(exercises_dir) not in sys.path: sys.path.append(str(exercises_dir))\n",
    "\n",
    "from plotly_utils import imshow\n",
    "from part1_ray_tracing.utils import render_lines_with_plotly, setup_widget_fig_ray, setup_widget_fig_triangle\n",
    "import part1_ray_tracing.tests as tests"
   ]
  },
  {
   "cell_type": "markdown",
   "id": "821bde94-f748-4597-93cd-e1c974e95215",
   "metadata": {},
   "source": [
    "# Raytracing"
   ]
  },
  {
   "cell_type": "code",
   "execution_count": 5,
   "id": "f2f1eda3-8df0-4b96-af60-c9e117d5a128",
   "metadata": {
    "execution": {
     "iopub.execute_input": "2024-07-13T18:26:36.193062Z",
     "iopub.status.busy": "2024-07-13T18:26:36.192765Z",
     "iopub.status.idle": "2024-07-13T18:26:36.242875Z",
     "shell.execute_reply": "2024-07-13T18:26:36.242140Z",
     "shell.execute_reply.started": "2024-07-13T18:26:36.193042Z"
    }
   },
   "outputs": [
    {
     "data": {
      "application/vnd.plotly.v1+json": {
       "config": {
        "plotlyServerURL": "https://plot.ly"
       },
       "data": [
        {
         "mode": "lines",
         "type": "scatter3d",
         "x": [
          0,
          1
         ],
         "y": [
          0,
          -10
         ],
         "z": [
          0,
          0
         ]
        },
        {
         "mode": "lines",
         "type": "scatter3d",
         "x": [
          0,
          1
         ],
         "y": [
          0,
          -9.797979354858398
         ],
         "z": [
          0,
          0
         ]
        },
        {
         "mode": "lines",
         "type": "scatter3d",
         "x": [
          0,
          1
         ],
         "y": [
          0,
          -9.595959663391113
         ],
         "z": [
          0,
          0
         ]
        },
        {
         "mode": "lines",
         "type": "scatter3d",
         "x": [
          0,
          1
         ],
         "y": [
          0,
          -9.393939018249512
         ],
         "z": [
          0,
          0
         ]
        },
        {
         "mode": "lines",
         "type": "scatter3d",
         "x": [
          0,
          1
         ],
         "y": [
          0,
          -9.191919326782227
         ],
         "z": [
          0,
          0
         ]
        },
        {
         "mode": "lines",
         "type": "scatter3d",
         "x": [
          0,
          1
         ],
         "y": [
          0,
          -8.989898681640625
         ],
         "z": [
          0,
          0
         ]
        },
        {
         "mode": "lines",
         "type": "scatter3d",
         "x": [
          0,
          1
         ],
         "y": [
          0,
          -8.78787899017334
         ],
         "z": [
          0,
          0
         ]
        },
        {
         "mode": "lines",
         "type": "scatter3d",
         "x": [
          0,
          1
         ],
         "y": [
          0,
          -8.585858345031738
         ],
         "z": [
          0,
          0
         ]
        },
        {
         "mode": "lines",
         "type": "scatter3d",
         "x": [
          0,
          1
         ],
         "y": [
          0,
          -8.383838653564453
         ],
         "z": [
          0,
          0
         ]
        },
        {
         "mode": "lines",
         "type": "scatter3d",
         "x": [
          0,
          1
         ],
         "y": [
          0,
          -8.181818008422852
         ],
         "z": [
          0,
          0
         ]
        },
        {
         "mode": "lines",
         "type": "scatter3d",
         "x": [
          0,
          1
         ],
         "y": [
          0,
          -7.979797840118408
         ],
         "z": [
          0,
          0
         ]
        },
        {
         "mode": "lines",
         "type": "scatter3d",
         "x": [
          0,
          1
         ],
         "y": [
          0,
          -7.777777671813965
         ],
         "z": [
          0,
          0
         ]
        },
        {
         "mode": "lines",
         "type": "scatter3d",
         "x": [
          0,
          1
         ],
         "y": [
          0,
          -7.5757575035095215
         ],
         "z": [
          0,
          0
         ]
        },
        {
         "mode": "lines",
         "type": "scatter3d",
         "x": [
          0,
          1
         ],
         "y": [
          0,
          -7.373737335205078
         ],
         "z": [
          0,
          0
         ]
        },
        {
         "mode": "lines",
         "type": "scatter3d",
         "x": [
          0,
          1
         ],
         "y": [
          0,
          -7.171717166900635
         ],
         "z": [
          0,
          0
         ]
        },
        {
         "mode": "lines",
         "type": "scatter3d",
         "x": [
          0,
          1
         ],
         "y": [
          0,
          -6.969696998596191
         ],
         "z": [
          0,
          0
         ]
        },
        {
         "mode": "lines",
         "type": "scatter3d",
         "x": [
          0,
          1
         ],
         "y": [
          0,
          -6.767676830291748
         ],
         "z": [
          0,
          0
         ]
        },
        {
         "mode": "lines",
         "type": "scatter3d",
         "x": [
          0,
          1
         ],
         "y": [
          0,
          -6.565656661987305
         ],
         "z": [
          0,
          0
         ]
        },
        {
         "mode": "lines",
         "type": "scatter3d",
         "x": [
          0,
          1
         ],
         "y": [
          0,
          -6.363636493682861
         ],
         "z": [
          0,
          0
         ]
        },
        {
         "mode": "lines",
         "type": "scatter3d",
         "x": [
          0,
          1
         ],
         "y": [
          0,
          -6.161616325378418
         ],
         "z": [
          0,
          0
         ]
        },
        {
         "mode": "lines",
         "type": "scatter3d",
         "x": [
          0,
          1
         ],
         "y": [
          0,
          -5.959596157073975
         ],
         "z": [
          0,
          0
         ]
        },
        {
         "mode": "lines",
         "type": "scatter3d",
         "x": [
          0,
          1
         ],
         "y": [
          0,
          -5.757575988769531
         ],
         "z": [
          0,
          0
         ]
        },
        {
         "mode": "lines",
         "type": "scatter3d",
         "x": [
          0,
          1
         ],
         "y": [
          0,
          -5.555555820465088
         ],
         "z": [
          0,
          0
         ]
        },
        {
         "mode": "lines",
         "type": "scatter3d",
         "x": [
          0,
          1
         ],
         "y": [
          0,
          -5.3535356521606445
         ],
         "z": [
          0,
          0
         ]
        },
        {
         "mode": "lines",
         "type": "scatter3d",
         "x": [
          0,
          1
         ],
         "y": [
          0,
          -5.151515007019043
         ],
         "z": [
          0,
          0
         ]
        },
        {
         "mode": "lines",
         "type": "scatter3d",
         "x": [
          0,
          1
         ],
         "y": [
          0,
          -4.9494948387146
         ],
         "z": [
          0,
          0
         ]
        },
        {
         "mode": "lines",
         "type": "scatter3d",
         "x": [
          0,
          1
         ],
         "y": [
          0,
          -4.747474670410156
         ],
         "z": [
          0,
          0
         ]
        },
        {
         "mode": "lines",
         "type": "scatter3d",
         "x": [
          0,
          1
         ],
         "y": [
          0,
          -4.545454502105713
         ],
         "z": [
          0,
          0
         ]
        },
        {
         "mode": "lines",
         "type": "scatter3d",
         "x": [
          0,
          1
         ],
         "y": [
          0,
          -4.3434343338012695
         ],
         "z": [
          0,
          0
         ]
        },
        {
         "mode": "lines",
         "type": "scatter3d",
         "x": [
          0,
          1
         ],
         "y": [
          0,
          -4.141414165496826
         ],
         "z": [
          0,
          0
         ]
        },
        {
         "mode": "lines",
         "type": "scatter3d",
         "x": [
          0,
          1
         ],
         "y": [
          0,
          -3.939393997192383
         ],
         "z": [
          0,
          0
         ]
        },
        {
         "mode": "lines",
         "type": "scatter3d",
         "x": [
          0,
          1
         ],
         "y": [
          0,
          -3.7373738288879395
         ],
         "z": [
          0,
          0
         ]
        },
        {
         "mode": "lines",
         "type": "scatter3d",
         "x": [
          0,
          1
         ],
         "y": [
          0,
          -3.535353660583496
         ],
         "z": [
          0,
          0
         ]
        },
        {
         "mode": "lines",
         "type": "scatter3d",
         "x": [
          0,
          1
         ],
         "y": [
          0,
          -3.3333334922790527
         ],
         "z": [
          0,
          0
         ]
        },
        {
         "mode": "lines",
         "type": "scatter3d",
         "x": [
          0,
          1
         ],
         "y": [
          0,
          -3.1313133239746094
         ],
         "z": [
          0,
          0
         ]
        },
        {
         "mode": "lines",
         "type": "scatter3d",
         "x": [
          0,
          1
         ],
         "y": [
          0,
          -2.929293155670166
         ],
         "z": [
          0,
          0
         ]
        },
        {
         "mode": "lines",
         "type": "scatter3d",
         "x": [
          0,
          1
         ],
         "y": [
          0,
          -2.7272729873657227
         ],
         "z": [
          0,
          0
         ]
        },
        {
         "mode": "lines",
         "type": "scatter3d",
         "x": [
          0,
          1
         ],
         "y": [
          0,
          -2.5252525806427
         ],
         "z": [
          0,
          0
         ]
        },
        {
         "mode": "lines",
         "type": "scatter3d",
         "x": [
          0,
          1
         ],
         "y": [
          0,
          -2.323232412338257
         ],
         "z": [
          0,
          0
         ]
        },
        {
         "mode": "lines",
         "type": "scatter3d",
         "x": [
          0,
          1
         ],
         "y": [
          0,
          -2.1212122440338135
         ],
         "z": [
          0,
          0
         ]
        },
        {
         "mode": "lines",
         "type": "scatter3d",
         "x": [
          0,
          1
         ],
         "y": [
          0,
          -1.9191920757293701
         ],
         "z": [
          0,
          0
         ]
        },
        {
         "mode": "lines",
         "type": "scatter3d",
         "x": [
          0,
          1
         ],
         "y": [
          0,
          -1.7171719074249268
         ],
         "z": [
          0,
          0
         ]
        },
        {
         "mode": "lines",
         "type": "scatter3d",
         "x": [
          0,
          1
         ],
         "y": [
          0,
          -1.5151517391204834
         ],
         "z": [
          0,
          0
         ]
        },
        {
         "mode": "lines",
         "type": "scatter3d",
         "x": [
          0,
          1
         ],
         "y": [
          0,
          -1.3131314516067505
         ],
         "z": [
          0,
          0
         ]
        },
        {
         "mode": "lines",
         "type": "scatter3d",
         "x": [
          0,
          1
         ],
         "y": [
          0,
          -1.1111112833023071
         ],
         "z": [
          0,
          0
         ]
        },
        {
         "mode": "lines",
         "type": "scatter3d",
         "x": [
          0,
          1
         ],
         "y": [
          0,
          -0.9090911149978638
         ],
         "z": [
          0,
          0
         ]
        },
        {
         "mode": "lines",
         "type": "scatter3d",
         "x": [
          0,
          1
         ],
         "y": [
          0,
          -0.7070708870887756
         ],
         "z": [
          0,
          0
         ]
        },
        {
         "mode": "lines",
         "type": "scatter3d",
         "x": [
          0,
          1
         ],
         "y": [
          0,
          -0.5050506591796875
         ],
         "z": [
          0,
          0
         ]
        },
        {
         "mode": "lines",
         "type": "scatter3d",
         "x": [
          0,
          1
         ],
         "y": [
          0,
          -0.30303049087524414
         ],
         "z": [
          0,
          0
         ]
        },
        {
         "mode": "lines",
         "type": "scatter3d",
         "x": [
          0,
          1
         ],
         "y": [
          0,
          -0.1010102927684784
         ],
         "z": [
          0,
          0
         ]
        },
        {
         "mode": "lines",
         "type": "scatter3d",
         "x": [
          0,
          1
         ],
         "y": [
          0,
          0.1010102927684784
         ],
         "z": [
          0,
          0
         ]
        },
        {
         "mode": "lines",
         "type": "scatter3d",
         "x": [
          0,
          1
         ],
         "y": [
          0,
          0.30303049087524414
         ],
         "z": [
          0,
          0
         ]
        },
        {
         "mode": "lines",
         "type": "scatter3d",
         "x": [
          0,
          1
         ],
         "y": [
          0,
          0.5050506591796875
         ],
         "z": [
          0,
          0
         ]
        },
        {
         "mode": "lines",
         "type": "scatter3d",
         "x": [
          0,
          1
         ],
         "y": [
          0,
          0.7070708870887756
         ],
         "z": [
          0,
          0
         ]
        },
        {
         "mode": "lines",
         "type": "scatter3d",
         "x": [
          0,
          1
         ],
         "y": [
          0,
          0.9090911149978638
         ],
         "z": [
          0,
          0
         ]
        },
        {
         "mode": "lines",
         "type": "scatter3d",
         "x": [
          0,
          1
         ],
         "y": [
          0,
          1.1111112833023071
         ],
         "z": [
          0,
          0
         ]
        },
        {
         "mode": "lines",
         "type": "scatter3d",
         "x": [
          0,
          1
         ],
         "y": [
          0,
          1.3131314516067505
         ],
         "z": [
          0,
          0
         ]
        },
        {
         "mode": "lines",
         "type": "scatter3d",
         "x": [
          0,
          1
         ],
         "y": [
          0,
          1.5151517391204834
         ],
         "z": [
          0,
          0
         ]
        },
        {
         "mode": "lines",
         "type": "scatter3d",
         "x": [
          0,
          1
         ],
         "y": [
          0,
          1.7171719074249268
         ],
         "z": [
          0,
          0
         ]
        },
        {
         "mode": "lines",
         "type": "scatter3d",
         "x": [
          0,
          1
         ],
         "y": [
          0,
          1.9191920757293701
         ],
         "z": [
          0,
          0
         ]
        },
        {
         "mode": "lines",
         "type": "scatter3d",
         "x": [
          0,
          1
         ],
         "y": [
          0,
          2.1212122440338135
         ],
         "z": [
          0,
          0
         ]
        },
        {
         "mode": "lines",
         "type": "scatter3d",
         "x": [
          0,
          1
         ],
         "y": [
          0,
          2.323232412338257
         ],
         "z": [
          0,
          0
         ]
        },
        {
         "mode": "lines",
         "type": "scatter3d",
         "x": [
          0,
          1
         ],
         "y": [
          0,
          2.5252525806427
         ],
         "z": [
          0,
          0
         ]
        },
        {
         "mode": "lines",
         "type": "scatter3d",
         "x": [
          0,
          1
         ],
         "y": [
          0,
          2.7272729873657227
         ],
         "z": [
          0,
          0
         ]
        },
        {
         "mode": "lines",
         "type": "scatter3d",
         "x": [
          0,
          1
         ],
         "y": [
          0,
          2.929293155670166
         ],
         "z": [
          0,
          0
         ]
        },
        {
         "mode": "lines",
         "type": "scatter3d",
         "x": [
          0,
          1
         ],
         "y": [
          0,
          3.1313133239746094
         ],
         "z": [
          0,
          0
         ]
        },
        {
         "mode": "lines",
         "type": "scatter3d",
         "x": [
          0,
          1
         ],
         "y": [
          0,
          3.3333334922790527
         ],
         "z": [
          0,
          0
         ]
        },
        {
         "mode": "lines",
         "type": "scatter3d",
         "x": [
          0,
          1
         ],
         "y": [
          0,
          3.535353660583496
         ],
         "z": [
          0,
          0
         ]
        },
        {
         "mode": "lines",
         "type": "scatter3d",
         "x": [
          0,
          1
         ],
         "y": [
          0,
          3.7373738288879395
         ],
         "z": [
          0,
          0
         ]
        },
        {
         "mode": "lines",
         "type": "scatter3d",
         "x": [
          0,
          1
         ],
         "y": [
          0,
          3.939393997192383
         ],
         "z": [
          0,
          0
         ]
        },
        {
         "mode": "lines",
         "type": "scatter3d",
         "x": [
          0,
          1
         ],
         "y": [
          0,
          4.141414165496826
         ],
         "z": [
          0,
          0
         ]
        },
        {
         "mode": "lines",
         "type": "scatter3d",
         "x": [
          0,
          1
         ],
         "y": [
          0,
          4.3434343338012695
         ],
         "z": [
          0,
          0
         ]
        },
        {
         "mode": "lines",
         "type": "scatter3d",
         "x": [
          0,
          1
         ],
         "y": [
          0,
          4.545454502105713
         ],
         "z": [
          0,
          0
         ]
        },
        {
         "mode": "lines",
         "type": "scatter3d",
         "x": [
          0,
          1
         ],
         "y": [
          0,
          4.747474670410156
         ],
         "z": [
          0,
          0
         ]
        },
        {
         "mode": "lines",
         "type": "scatter3d",
         "x": [
          0,
          1
         ],
         "y": [
          0,
          4.9494948387146
         ],
         "z": [
          0,
          0
         ]
        },
        {
         "mode": "lines",
         "type": "scatter3d",
         "x": [
          0,
          1
         ],
         "y": [
          0,
          5.151515007019043
         ],
         "z": [
          0,
          0
         ]
        },
        {
         "mode": "lines",
         "type": "scatter3d",
         "x": [
          0,
          1
         ],
         "y": [
          0,
          5.3535356521606445
         ],
         "z": [
          0,
          0
         ]
        },
        {
         "mode": "lines",
         "type": "scatter3d",
         "x": [
          0,
          1
         ],
         "y": [
          0,
          5.555555820465088
         ],
         "z": [
          0,
          0
         ]
        },
        {
         "mode": "lines",
         "type": "scatter3d",
         "x": [
          0,
          1
         ],
         "y": [
          0,
          5.757575988769531
         ],
         "z": [
          0,
          0
         ]
        },
        {
         "mode": "lines",
         "type": "scatter3d",
         "x": [
          0,
          1
         ],
         "y": [
          0,
          5.959596157073975
         ],
         "z": [
          0,
          0
         ]
        },
        {
         "mode": "lines",
         "type": "scatter3d",
         "x": [
          0,
          1
         ],
         "y": [
          0,
          6.161616325378418
         ],
         "z": [
          0,
          0
         ]
        },
        {
         "mode": "lines",
         "type": "scatter3d",
         "x": [
          0,
          1
         ],
         "y": [
          0,
          6.363636493682861
         ],
         "z": [
          0,
          0
         ]
        },
        {
         "mode": "lines",
         "type": "scatter3d",
         "x": [
          0,
          1
         ],
         "y": [
          0,
          6.565656661987305
         ],
         "z": [
          0,
          0
         ]
        },
        {
         "mode": "lines",
         "type": "scatter3d",
         "x": [
          0,
          1
         ],
         "y": [
          0,
          6.767676830291748
         ],
         "z": [
          0,
          0
         ]
        },
        {
         "mode": "lines",
         "type": "scatter3d",
         "x": [
          0,
          1
         ],
         "y": [
          0,
          6.969696998596191
         ],
         "z": [
          0,
          0
         ]
        },
        {
         "mode": "lines",
         "type": "scatter3d",
         "x": [
          0,
          1
         ],
         "y": [
          0,
          7.171717166900635
         ],
         "z": [
          0,
          0
         ]
        },
        {
         "mode": "lines",
         "type": "scatter3d",
         "x": [
          0,
          1
         ],
         "y": [
          0,
          7.373737335205078
         ],
         "z": [
          0,
          0
         ]
        },
        {
         "mode": "lines",
         "type": "scatter3d",
         "x": [
          0,
          1
         ],
         "y": [
          0,
          7.5757575035095215
         ],
         "z": [
          0,
          0
         ]
        },
        {
         "mode": "lines",
         "type": "scatter3d",
         "x": [
          0,
          1
         ],
         "y": [
          0,
          7.777777671813965
         ],
         "z": [
          0,
          0
         ]
        },
        {
         "mode": "lines",
         "type": "scatter3d",
         "x": [
          0,
          1
         ],
         "y": [
          0,
          7.979797840118408
         ],
         "z": [
          0,
          0
         ]
        },
        {
         "mode": "lines",
         "type": "scatter3d",
         "x": [
          0,
          1
         ],
         "y": [
          0,
          8.181818008422852
         ],
         "z": [
          0,
          0
         ]
        },
        {
         "mode": "lines",
         "type": "scatter3d",
         "x": [
          0,
          1
         ],
         "y": [
          0,
          8.383838653564453
         ],
         "z": [
          0,
          0
         ]
        },
        {
         "mode": "lines",
         "type": "scatter3d",
         "x": [
          0,
          1
         ],
         "y": [
          0,
          8.585858345031738
         ],
         "z": [
          0,
          0
         ]
        },
        {
         "mode": "lines",
         "type": "scatter3d",
         "x": [
          0,
          1
         ],
         "y": [
          0,
          8.78787899017334
         ],
         "z": [
          0,
          0
         ]
        },
        {
         "mode": "lines",
         "type": "scatter3d",
         "x": [
          0,
          1
         ],
         "y": [
          0,
          8.989898681640625
         ],
         "z": [
          0,
          0
         ]
        },
        {
         "mode": "lines",
         "type": "scatter3d",
         "x": [
          0,
          1
         ],
         "y": [
          0,
          9.191919326782227
         ],
         "z": [
          0,
          0
         ]
        },
        {
         "mode": "lines",
         "type": "scatter3d",
         "x": [
          0,
          1
         ],
         "y": [
          0,
          9.393939018249512
         ],
         "z": [
          0,
          0
         ]
        },
        {
         "mode": "lines",
         "type": "scatter3d",
         "x": [
          0,
          1
         ],
         "y": [
          0,
          9.595959663391113
         ],
         "z": [
          0,
          0
         ]
        },
        {
         "mode": "lines",
         "type": "scatter3d",
         "x": [
          0,
          1
         ],
         "y": [
          0,
          9.797979354858398
         ],
         "z": [
          0,
          0
         ]
        },
        {
         "mode": "lines",
         "type": "scatter3d",
         "x": [
          0,
          1
         ],
         "y": [
          0,
          10
         ],
         "z": [
          0,
          0
         ]
        }
       ],
       "layout": {
        "height": 600,
        "scene": {
         "aspectmode": "auto",
         "aspectratio": {
          "x": 1,
          "y": 1,
          "z": 1
         },
         "camera": {
          "center": {
           "x": 0,
           "y": 0,
           "z": 0
          },
          "eye": {
           "x": 0.6774617960476674,
           "y": 0.6774617960476673,
           "z": 0.6774617960476674
          },
          "projection": {
           "type": "perspective"
          },
          "up": {
           "x": 0,
           "y": 0,
           "z": 1
          }
         }
        },
        "showlegend": false,
        "template": {
         "data": {
          "bar": [
           {
            "error_x": {
             "color": "#2a3f5f"
            },
            "error_y": {
             "color": "#2a3f5f"
            },
            "marker": {
             "line": {
              "color": "#E5ECF6",
              "width": 0.5
             },
             "pattern": {
              "fillmode": "overlay",
              "size": 10,
              "solidity": 0.2
             }
            },
            "type": "bar"
           }
          ],
          "barpolar": [
           {
            "marker": {
             "line": {
              "color": "#E5ECF6",
              "width": 0.5
             },
             "pattern": {
              "fillmode": "overlay",
              "size": 10,
              "solidity": 0.2
             }
            },
            "type": "barpolar"
           }
          ],
          "carpet": [
           {
            "aaxis": {
             "endlinecolor": "#2a3f5f",
             "gridcolor": "white",
             "linecolor": "white",
             "minorgridcolor": "white",
             "startlinecolor": "#2a3f5f"
            },
            "baxis": {
             "endlinecolor": "#2a3f5f",
             "gridcolor": "white",
             "linecolor": "white",
             "minorgridcolor": "white",
             "startlinecolor": "#2a3f5f"
            },
            "type": "carpet"
           }
          ],
          "choropleth": [
           {
            "colorbar": {
             "outlinewidth": 0,
             "ticks": ""
            },
            "type": "choropleth"
           }
          ],
          "contour": [
           {
            "colorbar": {
             "outlinewidth": 0,
             "ticks": ""
            },
            "colorscale": [
             [
              0,
              "#0d0887"
             ],
             [
              0.1111111111111111,
              "#46039f"
             ],
             [
              0.2222222222222222,
              "#7201a8"
             ],
             [
              0.3333333333333333,
              "#9c179e"
             ],
             [
              0.4444444444444444,
              "#bd3786"
             ],
             [
              0.5555555555555556,
              "#d8576b"
             ],
             [
              0.6666666666666666,
              "#ed7953"
             ],
             [
              0.7777777777777778,
              "#fb9f3a"
             ],
             [
              0.8888888888888888,
              "#fdca26"
             ],
             [
              1,
              "#f0f921"
             ]
            ],
            "type": "contour"
           }
          ],
          "contourcarpet": [
           {
            "colorbar": {
             "outlinewidth": 0,
             "ticks": ""
            },
            "type": "contourcarpet"
           }
          ],
          "heatmap": [
           {
            "colorbar": {
             "outlinewidth": 0,
             "ticks": ""
            },
            "colorscale": [
             [
              0,
              "#0d0887"
             ],
             [
              0.1111111111111111,
              "#46039f"
             ],
             [
              0.2222222222222222,
              "#7201a8"
             ],
             [
              0.3333333333333333,
              "#9c179e"
             ],
             [
              0.4444444444444444,
              "#bd3786"
             ],
             [
              0.5555555555555556,
              "#d8576b"
             ],
             [
              0.6666666666666666,
              "#ed7953"
             ],
             [
              0.7777777777777778,
              "#fb9f3a"
             ],
             [
              0.8888888888888888,
              "#fdca26"
             ],
             [
              1,
              "#f0f921"
             ]
            ],
            "type": "heatmap"
           }
          ],
          "heatmapgl": [
           {
            "colorbar": {
             "outlinewidth": 0,
             "ticks": ""
            },
            "colorscale": [
             [
              0,
              "#0d0887"
             ],
             [
              0.1111111111111111,
              "#46039f"
             ],
             [
              0.2222222222222222,
              "#7201a8"
             ],
             [
              0.3333333333333333,
              "#9c179e"
             ],
             [
              0.4444444444444444,
              "#bd3786"
             ],
             [
              0.5555555555555556,
              "#d8576b"
             ],
             [
              0.6666666666666666,
              "#ed7953"
             ],
             [
              0.7777777777777778,
              "#fb9f3a"
             ],
             [
              0.8888888888888888,
              "#fdca26"
             ],
             [
              1,
              "#f0f921"
             ]
            ],
            "type": "heatmapgl"
           }
          ],
          "histogram": [
           {
            "marker": {
             "pattern": {
              "fillmode": "overlay",
              "size": 10,
              "solidity": 0.2
             }
            },
            "type": "histogram"
           }
          ],
          "histogram2d": [
           {
            "colorbar": {
             "outlinewidth": 0,
             "ticks": ""
            },
            "colorscale": [
             [
              0,
              "#0d0887"
             ],
             [
              0.1111111111111111,
              "#46039f"
             ],
             [
              0.2222222222222222,
              "#7201a8"
             ],
             [
              0.3333333333333333,
              "#9c179e"
             ],
             [
              0.4444444444444444,
              "#bd3786"
             ],
             [
              0.5555555555555556,
              "#d8576b"
             ],
             [
              0.6666666666666666,
              "#ed7953"
             ],
             [
              0.7777777777777778,
              "#fb9f3a"
             ],
             [
              0.8888888888888888,
              "#fdca26"
             ],
             [
              1,
              "#f0f921"
             ]
            ],
            "type": "histogram2d"
           }
          ],
          "histogram2dcontour": [
           {
            "colorbar": {
             "outlinewidth": 0,
             "ticks": ""
            },
            "colorscale": [
             [
              0,
              "#0d0887"
             ],
             [
              0.1111111111111111,
              "#46039f"
             ],
             [
              0.2222222222222222,
              "#7201a8"
             ],
             [
              0.3333333333333333,
              "#9c179e"
             ],
             [
              0.4444444444444444,
              "#bd3786"
             ],
             [
              0.5555555555555556,
              "#d8576b"
             ],
             [
              0.6666666666666666,
              "#ed7953"
             ],
             [
              0.7777777777777778,
              "#fb9f3a"
             ],
             [
              0.8888888888888888,
              "#fdca26"
             ],
             [
              1,
              "#f0f921"
             ]
            ],
            "type": "histogram2dcontour"
           }
          ],
          "mesh3d": [
           {
            "colorbar": {
             "outlinewidth": 0,
             "ticks": ""
            },
            "type": "mesh3d"
           }
          ],
          "parcoords": [
           {
            "line": {
             "colorbar": {
              "outlinewidth": 0,
              "ticks": ""
             }
            },
            "type": "parcoords"
           }
          ],
          "pie": [
           {
            "automargin": true,
            "type": "pie"
           }
          ],
          "scatter": [
           {
            "fillpattern": {
             "fillmode": "overlay",
             "size": 10,
             "solidity": 0.2
            },
            "type": "scatter"
           }
          ],
          "scatter3d": [
           {
            "line": {
             "colorbar": {
              "outlinewidth": 0,
              "ticks": ""
             }
            },
            "marker": {
             "colorbar": {
              "outlinewidth": 0,
              "ticks": ""
             }
            },
            "type": "scatter3d"
           }
          ],
          "scattercarpet": [
           {
            "marker": {
             "colorbar": {
              "outlinewidth": 0,
              "ticks": ""
             }
            },
            "type": "scattercarpet"
           }
          ],
          "scattergeo": [
           {
            "marker": {
             "colorbar": {
              "outlinewidth": 0,
              "ticks": ""
             }
            },
            "type": "scattergeo"
           }
          ],
          "scattergl": [
           {
            "marker": {
             "colorbar": {
              "outlinewidth": 0,
              "ticks": ""
             }
            },
            "type": "scattergl"
           }
          ],
          "scattermapbox": [
           {
            "marker": {
             "colorbar": {
              "outlinewidth": 0,
              "ticks": ""
             }
            },
            "type": "scattermapbox"
           }
          ],
          "scatterpolar": [
           {
            "marker": {
             "colorbar": {
              "outlinewidth": 0,
              "ticks": ""
             }
            },
            "type": "scatterpolar"
           }
          ],
          "scatterpolargl": [
           {
            "marker": {
             "colorbar": {
              "outlinewidth": 0,
              "ticks": ""
             }
            },
            "type": "scatterpolargl"
           }
          ],
          "scatterternary": [
           {
            "marker": {
             "colorbar": {
              "outlinewidth": 0,
              "ticks": ""
             }
            },
            "type": "scatterternary"
           }
          ],
          "surface": [
           {
            "colorbar": {
             "outlinewidth": 0,
             "ticks": ""
            },
            "colorscale": [
             [
              0,
              "#0d0887"
             ],
             [
              0.1111111111111111,
              "#46039f"
             ],
             [
              0.2222222222222222,
              "#7201a8"
             ],
             [
              0.3333333333333333,
              "#9c179e"
             ],
             [
              0.4444444444444444,
              "#bd3786"
             ],
             [
              0.5555555555555556,
              "#d8576b"
             ],
             [
              0.6666666666666666,
              "#ed7953"
             ],
             [
              0.7777777777777778,
              "#fb9f3a"
             ],
             [
              0.8888888888888888,
              "#fdca26"
             ],
             [
              1,
              "#f0f921"
             ]
            ],
            "type": "surface"
           }
          ],
          "table": [
           {
            "cells": {
             "fill": {
              "color": "#EBF0F8"
             },
             "line": {
              "color": "white"
             }
            },
            "header": {
             "fill": {
              "color": "#C8D4E3"
             },
             "line": {
              "color": "white"
             }
            },
            "type": "table"
           }
          ]
         },
         "layout": {
          "annotationdefaults": {
           "arrowcolor": "#2a3f5f",
           "arrowhead": 0,
           "arrowwidth": 1
          },
          "autotypenumbers": "strict",
          "coloraxis": {
           "colorbar": {
            "outlinewidth": 0,
            "ticks": ""
           }
          },
          "colorscale": {
           "diverging": [
            [
             0,
             "#8e0152"
            ],
            [
             0.1,
             "#c51b7d"
            ],
            [
             0.2,
             "#de77ae"
            ],
            [
             0.3,
             "#f1b6da"
            ],
            [
             0.4,
             "#fde0ef"
            ],
            [
             0.5,
             "#f7f7f7"
            ],
            [
             0.6,
             "#e6f5d0"
            ],
            [
             0.7,
             "#b8e186"
            ],
            [
             0.8,
             "#7fbc41"
            ],
            [
             0.9,
             "#4d9221"
            ],
            [
             1,
             "#276419"
            ]
           ],
           "sequential": [
            [
             0,
             "#0d0887"
            ],
            [
             0.1111111111111111,
             "#46039f"
            ],
            [
             0.2222222222222222,
             "#7201a8"
            ],
            [
             0.3333333333333333,
             "#9c179e"
            ],
            [
             0.4444444444444444,
             "#bd3786"
            ],
            [
             0.5555555555555556,
             "#d8576b"
            ],
            [
             0.6666666666666666,
             "#ed7953"
            ],
            [
             0.7777777777777778,
             "#fb9f3a"
            ],
            [
             0.8888888888888888,
             "#fdca26"
            ],
            [
             1,
             "#f0f921"
            ]
           ],
           "sequentialminus": [
            [
             0,
             "#0d0887"
            ],
            [
             0.1111111111111111,
             "#46039f"
            ],
            [
             0.2222222222222222,
             "#7201a8"
            ],
            [
             0.3333333333333333,
             "#9c179e"
            ],
            [
             0.4444444444444444,
             "#bd3786"
            ],
            [
             0.5555555555555556,
             "#d8576b"
            ],
            [
             0.6666666666666666,
             "#ed7953"
            ],
            [
             0.7777777777777778,
             "#fb9f3a"
            ],
            [
             0.8888888888888888,
             "#fdca26"
            ],
            [
             1,
             "#f0f921"
            ]
           ]
          },
          "colorway": [
           "#636efa",
           "#EF553B",
           "#00cc96",
           "#ab63fa",
           "#FFA15A",
           "#19d3f3",
           "#FF6692",
           "#B6E880",
           "#FF97FF",
           "#FECB52"
          ],
          "font": {
           "color": "#2a3f5f"
          },
          "geo": {
           "bgcolor": "white",
           "lakecolor": "white",
           "landcolor": "#E5ECF6",
           "showlakes": true,
           "showland": true,
           "subunitcolor": "white"
          },
          "hoverlabel": {
           "align": "left"
          },
          "hovermode": "closest",
          "mapbox": {
           "style": "light"
          },
          "paper_bgcolor": "white",
          "plot_bgcolor": "#E5ECF6",
          "polar": {
           "angularaxis": {
            "gridcolor": "white",
            "linecolor": "white",
            "ticks": ""
           },
           "bgcolor": "#E5ECF6",
           "radialaxis": {
            "gridcolor": "white",
            "linecolor": "white",
            "ticks": ""
           }
          },
          "scene": {
           "xaxis": {
            "backgroundcolor": "#E5ECF6",
            "gridcolor": "white",
            "gridwidth": 2,
            "linecolor": "white",
            "showbackground": true,
            "ticks": "",
            "zerolinecolor": "white"
           },
           "yaxis": {
            "backgroundcolor": "#E5ECF6",
            "gridcolor": "white",
            "gridwidth": 2,
            "linecolor": "white",
            "showbackground": true,
            "ticks": "",
            "zerolinecolor": "white"
           },
           "zaxis": {
            "backgroundcolor": "#E5ECF6",
            "gridcolor": "white",
            "gridwidth": 2,
            "linecolor": "white",
            "showbackground": true,
            "ticks": "",
            "zerolinecolor": "white"
           }
          },
          "shapedefaults": {
           "line": {
            "color": "#2a3f5f"
           }
          },
          "ternary": {
           "aaxis": {
            "gridcolor": "white",
            "linecolor": "white",
            "ticks": ""
           },
           "baxis": {
            "gridcolor": "white",
            "linecolor": "white",
            "ticks": ""
           },
           "bgcolor": "#E5ECF6",
           "caxis": {
            "gridcolor": "white",
            "linecolor": "white",
            "ticks": ""
           }
          },
          "title": {
           "x": 0.05
          },
          "xaxis": {
           "automargin": true,
           "gridcolor": "white",
           "linecolor": "white",
           "ticks": "",
           "title": {
            "standoff": 15
           },
           "zerolinecolor": "white",
           "zerolinewidth": 2
          },
          "yaxis": {
           "automargin": true,
           "gridcolor": "white",
           "linecolor": "white",
           "ticks": "",
           "title": {
            "standoff": 15
           },
           "zerolinecolor": "white",
           "zerolinewidth": 2
          }
         }
        },
        "title": {
         "text": "3D rays"
        },
        "width": 600
       }
      },
      "image/png": "[encoded data removed]",
      "text/html": [
       "<div>                            <div id=\"d2154250-cff7-41af-8b49-69915cd0f948\" class=\"plotly-graph-div\" style=\"height:600px; width:600px;\"></div>            <script type=\"text/javascript\">                require([\"plotly\"], function(Plotly) {                    window.PLOTLYENV=window.PLOTLYENV || {};                                    if (document.getElementById(\"d2154250-cff7-41af-8b49-69915cd0f948\")) {                    Plotly.newPlot(                        \"d2154250-cff7-41af-8b49-69915cd0f948\",                        [{\"mode\":\"lines\",\"x\":[0.0,1.0],\"y\":[0.0,-10.0],\"z\":[0.0,0.0],\"type\":\"scatter3d\"},{\"mode\":\"lines\",\"x\":[0.0,1.0],\"y\":[0.0,-9.797979354858398],\"z\":[0.0,0.0],\"type\":\"scatter3d\"},{\"mode\":\"lines\",\"x\":[0.0,1.0],\"y\":[0.0,-9.595959663391113],\"z\":[0.0,0.0],\"type\":\"scatter3d\"},{\"mode\":\"lines\",\"x\":[0.0,1.0],\"y\":[0.0,-9.393939018249512],\"z\":[0.0,0.0],\"type\":\"scatter3d\"},{\"mode\":\"lines\",\"x\":[0.0,1.0],\"y\":[0.0,-9.191919326782227],\"z\":[0.0,0.0],\"type\":\"scatter3d\"},{\"mode\":\"lines\",\"x\":[0.0,1.0],\"y\":[0.0,-8.989898681640625],\"z\":[0.0,0.0],\"type\":\"scatter3d\"},{\"mode\":\"lines\",\"x\":[0.0,1.0],\"y\":[0.0,-8.78787899017334],\"z\":[0.0,0.0],\"type\":\"scatter3d\"},{\"mode\":\"lines\",\"x\":[0.0,1.0],\"y\":[0.0,-8.585858345031738],\"z\":[0.0,0.0],\"type\":\"scatter3d\"},{\"mode\":\"lines\",\"x\":[0.0,1.0],\"y\":[0.0,-8.383838653564453],\"z\":[0.0,0.0],\"type\":\"scatter3d\"},{\"mode\":\"lines\",\"x\":[0.0,1.0],\"y\":[0.0,-8.181818008422852],\"z\":[0.0,0.0],\"type\":\"scatter3d\"},{\"mode\":\"lines\",\"x\":[0.0,1.0],\"y\":[0.0,-7.979797840118408],\"z\":[0.0,0.0],\"type\":\"scatter3d\"},{\"mode\":\"lines\",\"x\":[0.0,1.0],\"y\":[0.0,-7.777777671813965],\"z\":[0.0,0.0],\"type\":\"scatter3d\"},{\"mode\":\"lines\",\"x\":[0.0,1.0],\"y\":[0.0,-7.5757575035095215],\"z\":[0.0,0.0],\"type\":\"scatter3d\"},{\"mode\":\"lines\",\"x\":[0.0,1.0],\"y\":[0.0,-7.373737335205078],\"z\":[0.0,0.0],\"type\":\"scatter3d\"},{\"mode\":\"lines\",\"x\":[0.0,1.0],\"y\":[0.0,-7.171717166900635],\"z\":[0.0,0.0],\"type\":\"scatter3d\"},{\"mode\":\"lines\",\"x\":[0.0,1.0],\"y\":[0.0,-6.969696998596191],\"z\":[0.0,0.0],\"type\":\"scatter3d\"},{\"mode\":\"lines\",\"x\":[0.0,1.0],\"y\":[0.0,-6.767676830291748],\"z\":[0.0,0.0],\"type\":\"scatter3d\"},{\"mode\":\"lines\",\"x\":[0.0,1.0],\"y\":[0.0,-6.565656661987305],\"z\":[0.0,0.0],\"type\":\"scatter3d\"},{\"mode\":\"lines\",\"x\":[0.0,1.0],\"y\":[0.0,-6.363636493682861],\"z\":[0.0,0.0],\"type\":\"scatter3d\"},{\"mode\":\"lines\",\"x\":[0.0,1.0],\"y\":[0.0,-6.161616325378418],\"z\":[0.0,0.0],\"type\":\"scatter3d\"},{\"mode\":\"lines\",\"x\":[0.0,1.0],\"y\":[0.0,-5.959596157073975],\"z\":[0.0,0.0],\"type\":\"scatter3d\"},{\"mode\":\"lines\",\"x\":[0.0,1.0],\"y\":[0.0,-5.757575988769531],\"z\":[0.0,0.0],\"type\":\"scatter3d\"},{\"mode\":\"lines\",\"x\":[0.0,1.0],\"y\":[0.0,-5.555555820465088],\"z\":[0.0,0.0],\"type\":\"scatter3d\"},{\"mode\":\"lines\",\"x\":[0.0,1.0],\"y\":[0.0,-5.3535356521606445],\"z\":[0.0,0.0],\"type\":\"scatter3d\"},{\"mode\":\"lines\",\"x\":[0.0,1.0],\"y\":[0.0,-5.151515007019043],\"z\":[0.0,0.0],\"type\":\"scatter3d\"},{\"mode\":\"lines\",\"x\":[0.0,1.0],\"y\":[0.0,-4.9494948387146],\"z\":[0.0,0.0],\"type\":\"scatter3d\"},{\"mode\":\"lines\",\"x\":[0.0,1.0],\"y\":[0.0,-4.747474670410156],\"z\":[0.0,0.0],\"type\":\"scatter3d\"},{\"mode\":\"lines\",\"x\":[0.0,1.0],\"y\":[0.0,-4.545454502105713],\"z\":[0.0,0.0],\"type\":\"scatter3d\"},{\"mode\":\"lines\",\"x\":[0.0,1.0],\"y\":[0.0,-4.3434343338012695],\"z\":[0.0,0.0],\"type\":\"scatter3d\"},{\"mode\":\"lines\",\"x\":[0.0,1.0],\"y\":[0.0,-4.141414165496826],\"z\":[0.0,0.0],\"type\":\"scatter3d\"},{\"mode\":\"lines\",\"x\":[0.0,1.0],\"y\":[0.0,-3.939393997192383],\"z\":[0.0,0.0],\"type\":\"scatter3d\"},{\"mode\":\"lines\",\"x\":[0.0,1.0],\"y\":[0.0,-3.7373738288879395],\"z\":[0.0,0.0],\"type\":\"scatter3d\"},{\"mode\":\"lines\",\"x\":[0.0,1.0],\"y\":[0.0,-3.535353660583496],\"z\":[0.0,0.0],\"type\":\"scatter3d\"},{\"mode\":\"lines\",\"x\":[0.0,1.0],\"y\":[0.0,-3.3333334922790527],\"z\":[0.0,0.0],\"type\":\"scatter3d\"},{\"mode\":\"lines\",\"x\":[0.0,1.0],\"y\":[0.0,-3.1313133239746094],\"z\":[0.0,0.0],\"type\":\"scatter3d\"},{\"mode\":\"lines\",\"x\":[0.0,1.0],\"y\":[0.0,-2.929293155670166],\"z\":[0.0,0.0],\"type\":\"scatter3d\"},{\"mode\":\"lines\",\"x\":[0.0,1.0],\"y\":[0.0,-2.7272729873657227],\"z\":[0.0,0.0],\"type\":\"scatter3d\"},{\"mode\":\"lines\",\"x\":[0.0,1.0],\"y\":[0.0,-2.5252525806427],\"z\":[0.0,0.0],\"type\":\"scatter3d\"},{\"mode\":\"lines\",\"x\":[0.0,1.0],\"y\":[0.0,-2.323232412338257],\"z\":[0.0,0.0],\"type\":\"scatter3d\"},{\"mode\":\"lines\",\"x\":[0.0,1.0],\"y\":[0.0,-2.1212122440338135],\"z\":[0.0,0.0],\"type\":\"scatter3d\"},{\"mode\":\"lines\",\"x\":[0.0,1.0],\"y\":[0.0,-1.9191920757293701],\"z\":[0.0,0.0],\"type\":\"scatter3d\"},{\"mode\":\"lines\",\"x\":[0.0,1.0],\"y\":[0.0,-1.7171719074249268],\"z\":[0.0,0.0],\"type\":\"scatter3d\"},{\"mode\":\"lines\",\"x\":[0.0,1.0],\"y\":[0.0,-1.5151517391204834],\"z\":[0.0,0.0],\"type\":\"scatter3d\"},{\"mode\":\"lines\",\"x\":[0.0,1.0],\"y\":[0.0,-1.3131314516067505],\"z\":[0.0,0.0],\"type\":\"scatter3d\"},{\"mode\":\"lines\",\"x\":[0.0,1.0],\"y\":[0.0,-1.1111112833023071],\"z\":[0.0,0.0],\"type\":\"scatter3d\"},{\"mode\":\"lines\",\"x\":[0.0,1.0],\"y\":[0.0,-0.9090911149978638],\"z\":[0.0,0.0],\"type\":\"scatter3d\"},{\"mode\":\"lines\",\"x\":[0.0,1.0],\"y\":[0.0,-0.7070708870887756],\"z\":[0.0,0.0],\"type\":\"scatter3d\"},{\"mode\":\"lines\",\"x\":[0.0,1.0],\"y\":[0.0,-0.5050506591796875],\"z\":[0.0,0.0],\"type\":\"scatter3d\"},{\"mode\":\"lines\",\"x\":[0.0,1.0],\"y\":[0.0,-0.30303049087524414],\"z\":[0.0,0.0],\"type\":\"scatter3d\"},{\"mode\":\"lines\",\"x\":[0.0,1.0],\"y\":[0.0,-0.1010102927684784],\"z\":[0.0,0.0],\"type\":\"scatter3d\"},{\"mode\":\"lines\",\"x\":[0.0,1.0],\"y\":[0.0,0.1010102927684784],\"z\":[0.0,0.0],\"type\":\"scatter3d\"},{\"mode\":\"lines\",\"x\":[0.0,1.0],\"y\":[0.0,0.30303049087524414],\"z\":[0.0,0.0],\"type\":\"scatter3d\"},{\"mode\":\"lines\",\"x\":[0.0,1.0],\"y\":[0.0,0.5050506591796875],\"z\":[0.0,0.0],\"type\":\"scatter3d\"},{\"mode\":\"lines\",\"x\":[0.0,1.0],\"y\":[0.0,0.7070708870887756],\"z\":[0.0,0.0],\"type\":\"scatter3d\"},{\"mode\":\"lines\",\"x\":[0.0,1.0],\"y\":[0.0,0.9090911149978638],\"z\":[0.0,0.0],\"type\":\"scatter3d\"},{\"mode\":\"lines\",\"x\":[0.0,1.0],\"y\":[0.0,1.1111112833023071],\"z\":[0.0,0.0],\"type\":\"scatter3d\"},{\"mode\":\"lines\",\"x\":[0.0,1.0],\"y\":[0.0,1.3131314516067505],\"z\":[0.0,0.0],\"type\":\"scatter3d\"},{\"mode\":\"lines\",\"x\":[0.0,1.0],\"y\":[0.0,1.5151517391204834],\"z\":[0.0,0.0],\"type\":\"scatter3d\"},{\"mode\":\"lines\",\"x\":[0.0,1.0],\"y\":[0.0,1.7171719074249268],\"z\":[0.0,0.0],\"type\":\"scatter3d\"},{\"mode\":\"lines\",\"x\":[0.0,1.0],\"y\":[0.0,1.9191920757293701],\"z\":[0.0,0.0],\"type\":\"scatter3d\"},{\"mode\":\"lines\",\"x\":[0.0,1.0],\"y\":[0.0,2.1212122440338135],\"z\":[0.0,0.0],\"type\":\"scatter3d\"},{\"mode\":\"lines\",\"x\":[0.0,1.0],\"y\":[0.0,2.323232412338257],\"z\":[0.0,0.0],\"type\":\"scatter3d\"},{\"mode\":\"lines\",\"x\":[0.0,1.0],\"y\":[0.0,2.5252525806427],\"z\":[0.0,0.0],\"type\":\"scatter3d\"},{\"mode\":\"lines\",\"x\":[0.0,1.0],\"y\":[0.0,2.7272729873657227],\"z\":[0.0,0.0],\"type\":\"scatter3d\"},{\"mode\":\"lines\",\"x\":[0.0,1.0],\"y\":[0.0,2.929293155670166],\"z\":[0.0,0.0],\"type\":\"scatter3d\"},{\"mode\":\"lines\",\"x\":[0.0,1.0],\"y\":[0.0,3.1313133239746094],\"z\":[0.0,0.0],\"type\":\"scatter3d\"},{\"mode\":\"lines\",\"x\":[0.0,1.0],\"y\":[0.0,3.3333334922790527],\"z\":[0.0,0.0],\"type\":\"scatter3d\"},{\"mode\":\"lines\",\"x\":[0.0,1.0],\"y\":[0.0,3.535353660583496],\"z\":[0.0,0.0],\"type\":\"scatter3d\"},{\"mode\":\"lines\",\"x\":[0.0,1.0],\"y\":[0.0,3.7373738288879395],\"z\":[0.0,0.0],\"type\":\"scatter3d\"},{\"mode\":\"lines\",\"x\":[0.0,1.0],\"y\":[0.0,3.939393997192383],\"z\":[0.0,0.0],\"type\":\"scatter3d\"},{\"mode\":\"lines\",\"x\":[0.0,1.0],\"y\":[0.0,4.141414165496826],\"z\":[0.0,0.0],\"type\":\"scatter3d\"},{\"mode\":\"lines\",\"x\":[0.0,1.0],\"y\":[0.0,4.3434343338012695],\"z\":[0.0,0.0],\"type\":\"scatter3d\"},{\"mode\":\"lines\",\"x\":[0.0,1.0],\"y\":[0.0,4.545454502105713],\"z\":[0.0,0.0],\"type\":\"scatter3d\"},{\"mode\":\"lines\",\"x\":[0.0,1.0],\"y\":[0.0,4.747474670410156],\"z\":[0.0,0.0],\"type\":\"scatter3d\"},{\"mode\":\"lines\",\"x\":[0.0,1.0],\"y\":[0.0,4.9494948387146],\"z\":[0.0,0.0],\"type\":\"scatter3d\"},{\"mode\":\"lines\",\"x\":[0.0,1.0],\"y\":[0.0,5.151515007019043],\"z\":[0.0,0.0],\"type\":\"scatter3d\"},{\"mode\":\"lines\",\"x\":[0.0,1.0],\"y\":[0.0,5.3535356521606445],\"z\":[0.0,0.0],\"type\":\"scatter3d\"},{\"mode\":\"lines\",\"x\":[0.0,1.0],\"y\":[0.0,5.555555820465088],\"z\":[0.0,0.0],\"type\":\"scatter3d\"},{\"mode\":\"lines\",\"x\":[0.0,1.0],\"y\":[0.0,5.757575988769531],\"z\":[0.0,0.0],\"type\":\"scatter3d\"},{\"mode\":\"lines\",\"x\":[0.0,1.0],\"y\":[0.0,5.959596157073975],\"z\":[0.0,0.0],\"type\":\"scatter3d\"},{\"mode\":\"lines\",\"x\":[0.0,1.0],\"y\":[0.0,6.161616325378418],\"z\":[0.0,0.0],\"type\":\"scatter3d\"},{\"mode\":\"lines\",\"x\":[0.0,1.0],\"y\":[0.0,6.363636493682861],\"z\":[0.0,0.0],\"type\":\"scatter3d\"},{\"mode\":\"lines\",\"x\":[0.0,1.0],\"y\":[0.0,6.565656661987305],\"z\":[0.0,0.0],\"type\":\"scatter3d\"},{\"mode\":\"lines\",\"x\":[0.0,1.0],\"y\":[0.0,6.767676830291748],\"z\":[0.0,0.0],\"type\":\"scatter3d\"},{\"mode\":\"lines\",\"x\":[0.0,1.0],\"y\":[0.0,6.969696998596191],\"z\":[0.0,0.0],\"type\":\"scatter3d\"},{\"mode\":\"lines\",\"x\":[0.0,1.0],\"y\":[0.0,7.171717166900635],\"z\":[0.0,0.0],\"type\":\"scatter3d\"},{\"mode\":\"lines\",\"x\":[0.0,1.0],\"y\":[0.0,7.373737335205078],\"z\":[0.0,0.0],\"type\":\"scatter3d\"},{\"mode\":\"lines\",\"x\":[0.0,1.0],\"y\":[0.0,7.5757575035095215],\"z\":[0.0,0.0],\"type\":\"scatter3d\"},{\"mode\":\"lines\",\"x\":[0.0,1.0],\"y\":[0.0,7.777777671813965],\"z\":[0.0,0.0],\"type\":\"scatter3d\"},{\"mode\":\"lines\",\"x\":[0.0,1.0],\"y\":[0.0,7.979797840118408],\"z\":[0.0,0.0],\"type\":\"scatter3d\"},{\"mode\":\"lines\",\"x\":[0.0,1.0],\"y\":[0.0,8.181818008422852],\"z\":[0.0,0.0],\"type\":\"scatter3d\"},{\"mode\":\"lines\",\"x\":[0.0,1.0],\"y\":[0.0,8.383838653564453],\"z\":[0.0,0.0],\"type\":\"scatter3d\"},{\"mode\":\"lines\",\"x\":[0.0,1.0],\"y\":[0.0,8.585858345031738],\"z\":[0.0,0.0],\"type\":\"scatter3d\"},{\"mode\":\"lines\",\"x\":[0.0,1.0],\"y\":[0.0,8.78787899017334],\"z\":[0.0,0.0],\"type\":\"scatter3d\"},{\"mode\":\"lines\",\"x\":[0.0,1.0],\"y\":[0.0,8.989898681640625],\"z\":[0.0,0.0],\"type\":\"scatter3d\"},{\"mode\":\"lines\",\"x\":[0.0,1.0],\"y\":[0.0,9.191919326782227],\"z\":[0.0,0.0],\"type\":\"scatter3d\"},{\"mode\":\"lines\",\"x\":[0.0,1.0],\"y\":[0.0,9.393939018249512],\"z\":[0.0,0.0],\"type\":\"scatter3d\"},{\"mode\":\"lines\",\"x\":[0.0,1.0],\"y\":[0.0,9.595959663391113],\"z\":[0.0,0.0],\"type\":\"scatter3d\"},{\"mode\":\"lines\",\"x\":[0.0,1.0],\"y\":[0.0,9.797979354858398],\"z\":[0.0,0.0],\"type\":\"scatter3d\"},{\"mode\":\"lines\",\"x\":[0.0,1.0],\"y\":[0.0,10.0],\"z\":[0.0,0.0],\"type\":\"scatter3d\"}],                        {\"height\":600,\"showlegend\":false,\"title\":{\"text\":\"3D rays\"},\"width\":600,\"template\":{\"data\":{\"histogram2dcontour\":[{\"type\":\"histogram2dcontour\",\"colorbar\":{\"outlinewidth\":0,\"ticks\":\"\"},\"colorscale\":[[0.0,\"#0d0887\"],[0.1111111111111111,\"#46039f\"],[0.2222222222222222,\"#7201a8\"],[0.3333333333333333,\"#9c179e\"],[0.4444444444444444,\"#bd3786\"],[0.5555555555555556,\"#d8576b\"],[0.6666666666666666,\"#ed7953\"],[0.7777777777777778,\"#fb9f3a\"],[0.8888888888888888,\"#fdca26\"],[1.0,\"#f0f921\"]]}],\"choropleth\":[{\"type\":\"choropleth\",\"colorbar\":{\"outlinewidth\":0,\"ticks\":\"\"}}],\"histogram2d\":[{\"type\":\"histogram2d\",\"colorbar\":{\"outlinewidth\":0,\"ticks\":\"\"},\"colorscale\":[[0.0,\"#0d0887\"],[0.1111111111111111,\"#46039f\"],[0.2222222222222222,\"#7201a8\"],[0.3333333333333333,\"#9c179e\"],[0.4444444444444444,\"#bd3786\"],[0.5555555555555556,\"#d8576b\"],[0.6666666666666666,\"#ed7953\"],[0.7777777777777778,\"#fb9f3a\"],[0.8888888888888888,\"#fdca26\"],[1.0,\"#f0f921\"]]}],\"heatmap\":[{\"type\":\"heatmap\",\"colorbar\":{\"outlinewidth\":0,\"ticks\":\"\"},\"colorscale\":[[0.0,\"#0d0887\"],[0.1111111111111111,\"#46039f\"],[0.2222222222222222,\"#7201a8\"],[0.3333333333333333,\"#9c179e\"],[0.4444444444444444,\"#bd3786\"],[0.5555555555555556,\"#d8576b\"],[0.6666666666666666,\"#ed7953\"],[0.7777777777777778,\"#fb9f3a\"],[0.8888888888888888,\"#fdca26\"],[1.0,\"#f0f921\"]]}],\"heatmapgl\":[{\"type\":\"heatmapgl\",\"colorbar\":{\"outlinewidth\":0,\"ticks\":\"\"},\"colorscale\":[[0.0,\"#0d0887\"],[0.1111111111111111,\"#46039f\"],[0.2222222222222222,\"#7201a8\"],[0.3333333333333333,\"#9c179e\"],[0.4444444444444444,\"#bd3786\"],[0.5555555555555556,\"#d8576b\"],[0.6666666666666666,\"#ed7953\"],[0.7777777777777778,\"#fb9f3a\"],[0.8888888888888888,\"#fdca26\"],[1.0,\"#f0f921\"]]}],\"contourcarpet\":[{\"type\":\"contourcarpet\",\"colorbar\":{\"outlinewidth\":0,\"ticks\":\"\"}}],\"contour\":[{\"type\":\"contour\",\"colorbar\":{\"outlinewidth\":0,\"ticks\":\"\"},\"colorscale\":[[0.0,\"#0d0887\"],[0.1111111111111111,\"#46039f\"],[0.2222222222222222,\"#7201a8\"],[0.3333333333333333,\"#9c179e\"],[0.4444444444444444,\"#bd3786\"],[0.5555555555555556,\"#d8576b\"],[0.6666666666666666,\"#ed7953\"],[0.7777777777777778,\"#fb9f3a\"],[0.8888888888888888,\"#fdca26\"],[1.0,\"#f0f921\"]]}],\"surface\":[{\"type\":\"surface\",\"colorbar\":{\"outlinewidth\":0,\"ticks\":\"\"},\"colorscale\":[[0.0,\"#0d0887\"],[0.1111111111111111,\"#46039f\"],[0.2222222222222222,\"#7201a8\"],[0.3333333333333333,\"#9c179e\"],[0.4444444444444444,\"#bd3786\"],[0.5555555555555556,\"#d8576b\"],[0.6666666666666666,\"#ed7953\"],[0.7777777777777778,\"#fb9f3a\"],[0.8888888888888888,\"#fdca26\"],[1.0,\"#f0f921\"]]}],\"mesh3d\":[{\"type\":\"mesh3d\",\"colorbar\":{\"outlinewidth\":0,\"ticks\":\"\"}}],\"scatter\":[{\"fillpattern\":{\"fillmode\":\"overlay\",\"size\":10,\"solidity\":0.2},\"type\":\"scatter\"}],\"parcoords\":[{\"type\":\"parcoords\",\"line\":{\"colorbar\":{\"outlinewidth\":0,\"ticks\":\"\"}}}],\"scatterpolargl\":[{\"type\":\"scatterpolargl\",\"marker\":{\"colorbar\":{\"outlinewidth\":0,\"ticks\":\"\"}}}],\"bar\":[{\"error_x\":{\"color\":\"#2a3f5f\"},\"error_y\":{\"color\":\"#2a3f5f\"},\"marker\":{\"line\":{\"color\":\"#E5ECF6\",\"width\":0.5},\"pattern\":{\"fillmode\":\"overlay\",\"size\":10,\"solidity\":0.2}},\"type\":\"bar\"}],\"scattergeo\":[{\"type\":\"scattergeo\",\"marker\":{\"colorbar\":{\"outlinewidth\":0,\"ticks\":\"\"}}}],\"scatterpolar\":[{\"type\":\"scatterpolar\",\"marker\":{\"colorbar\":{\"outlinewidth\":0,\"ticks\":\"\"}}}],\"histogram\":[{\"marker\":{\"pattern\":{\"fillmode\":\"overlay\",\"size\":10,\"solidity\":0.2}},\"type\":\"histogram\"}],\"scattergl\":[{\"type\":\"scattergl\",\"marker\":{\"colorbar\":{\"outlinewidth\":0,\"ticks\":\"\"}}}],\"scatter3d\":[{\"type\":\"scatter3d\",\"line\":{\"colorbar\":{\"outlinewidth\":0,\"ticks\":\"\"}},\"marker\":{\"colorbar\":{\"outlinewidth\":0,\"ticks\":\"\"}}}],\"scattermapbox\":[{\"type\":\"scattermapbox\",\"marker\":{\"colorbar\":{\"outlinewidth\":0,\"ticks\":\"\"}}}],\"scatterternary\":[{\"type\":\"scatterternary\",\"marker\":{\"colorbar\":{\"outlinewidth\":0,\"ticks\":\"\"}}}],\"scattercarpet\":[{\"type\":\"scattercarpet\",\"marker\":{\"colorbar\":{\"outlinewidth\":0,\"ticks\":\"\"}}}],\"carpet\":[{\"aaxis\":{\"endlinecolor\":\"#2a3f5f\",\"gridcolor\":\"white\",\"linecolor\":\"white\",\"minorgridcolor\":\"white\",\"startlinecolor\":\"#2a3f5f\"},\"baxis\":{\"endlinecolor\":\"#2a3f5f\",\"gridcolor\":\"white\",\"linecolor\":\"white\",\"minorgridcolor\":\"white\",\"startlinecolor\":\"#2a3f5f\"},\"type\":\"carpet\"}],\"table\":[{\"cells\":{\"fill\":{\"color\":\"#EBF0F8\"},\"line\":{\"color\":\"white\"}},\"header\":{\"fill\":{\"color\":\"#C8D4E3\"},\"line\":{\"color\":\"white\"}},\"type\":\"table\"}],\"barpolar\":[{\"marker\":{\"line\":{\"color\":\"#E5ECF6\",\"width\":0.5},\"pattern\":{\"fillmode\":\"overlay\",\"size\":10,\"solidity\":0.2}},\"type\":\"barpolar\"}],\"pie\":[{\"automargin\":true,\"type\":\"pie\"}]},\"layout\":{\"autotypenumbers\":\"strict\",\"colorway\":[\"#636efa\",\"#EF553B\",\"#00cc96\",\"#ab63fa\",\"#FFA15A\",\"#19d3f3\",\"#FF6692\",\"#B6E880\",\"#FF97FF\",\"#FECB52\"],\"font\":{\"color\":\"#2a3f5f\"},\"hovermode\":\"closest\",\"hoverlabel\":{\"align\":\"left\"},\"paper_bgcolor\":\"white\",\"plot_bgcolor\":\"#E5ECF6\",\"polar\":{\"bgcolor\":\"#E5ECF6\",\"angularaxis\":{\"gridcolor\":\"white\",\"linecolor\":\"white\",\"ticks\":\"\"},\"radialaxis\":{\"gridcolor\":\"white\",\"linecolor\":\"white\",\"ticks\":\"\"}},\"ternary\":{\"bgcolor\":\"#E5ECF6\",\"aaxis\":{\"gridcolor\":\"white\",\"linecolor\":\"white\",\"ticks\":\"\"},\"baxis\":{\"gridcolor\":\"white\",\"linecolor\":\"white\",\"ticks\":\"\"},\"caxis\":{\"gridcolor\":\"white\",\"linecolor\":\"white\",\"ticks\":\"\"}},\"coloraxis\":{\"colorbar\":{\"outlinewidth\":0,\"ticks\":\"\"}},\"colorscale\":{\"sequential\":[[0.0,\"#0d0887\"],[0.1111111111111111,\"#46039f\"],[0.2222222222222222,\"#7201a8\"],[0.3333333333333333,\"#9c179e\"],[0.4444444444444444,\"#bd3786\"],[0.5555555555555556,\"#d8576b\"],[0.6666666666666666,\"#ed7953\"],[0.7777777777777778,\"#fb9f3a\"],[0.8888888888888888,\"#fdca26\"],[1.0,\"#f0f921\"]],\"sequentialminus\":[[0.0,\"#0d0887\"],[0.1111111111111111,\"#46039f\"],[0.2222222222222222,\"#7201a8\"],[0.3333333333333333,\"#9c179e\"],[0.4444444444444444,\"#bd3786\"],[0.5555555555555556,\"#d8576b\"],[0.6666666666666666,\"#ed7953\"],[0.7777777777777778,\"#fb9f3a\"],[0.8888888888888888,\"#fdca26\"],[1.0,\"#f0f921\"]],\"diverging\":[[0,\"#8e0152\"],[0.1,\"#c51b7d\"],[0.2,\"#de77ae\"],[0.3,\"#f1b6da\"],[0.4,\"#fde0ef\"],[0.5,\"#f7f7f7\"],[0.6,\"#e6f5d0\"],[0.7,\"#b8e186\"],[0.8,\"#7fbc41\"],[0.9,\"#4d9221\"],[1,\"#276419\"]]},\"xaxis\":{\"gridcolor\":\"white\",\"linecolor\":\"white\",\"ticks\":\"\",\"title\":{\"standoff\":15},\"zerolinecolor\":\"white\",\"automargin\":true,\"zerolinewidth\":2},\"yaxis\":{\"gridcolor\":\"white\",\"linecolor\":\"white\",\"ticks\":\"\",\"title\":{\"standoff\":15},\"zerolinecolor\":\"white\",\"automargin\":true,\"zerolinewidth\":2},\"scene\":{\"xaxis\":{\"backgroundcolor\":\"#E5ECF6\",\"gridcolor\":\"white\",\"linecolor\":\"white\",\"showbackground\":true,\"ticks\":\"\",\"zerolinecolor\":\"white\",\"gridwidth\":2},\"yaxis\":{\"backgroundcolor\":\"#E5ECF6\",\"gridcolor\":\"white\",\"linecolor\":\"white\",\"showbackground\":true,\"ticks\":\"\",\"zerolinecolor\":\"white\",\"gridwidth\":2},\"zaxis\":{\"backgroundcolor\":\"#E5ECF6\",\"gridcolor\":\"white\",\"linecolor\":\"white\",\"showbackground\":true,\"ticks\":\"\",\"zerolinecolor\":\"white\",\"gridwidth\":2}},\"shapedefaults\":{\"line\":{\"color\":\"#2a3f5f\"}},\"annotationdefaults\":{\"arrowcolor\":\"#2a3f5f\",\"arrowhead\":0,\"arrowwidth\":1},\"geo\":{\"bgcolor\":\"white\",\"landcolor\":\"#E5ECF6\",\"subunitcolor\":\"white\",\"showland\":true,\"showlakes\":true,\"lakecolor\":\"white\"},\"title\":{\"x\":0.05},\"mapbox\":{\"style\":\"light\"}}}},                        {\"responsive\": true}                    ).then(function(){\n",
       "                            \n",
       "var gd = document.getElementById('d2154250-cff7-41af-8b49-69915cd0f948');\n",
       "var x = new MutationObserver(function (mutations, observer) {{\n",
       "        var display = window.getComputedStyle(gd).display;\n",
       "        if (!display || display === 'none') {{\n",
       "            console.log([gd, 'removed!']);\n",
       "            Plotly.purge(gd);\n",
       "            observer.disconnect();\n",
       "        }}\n",
       "}});\n",
       "\n",
       "// Listen for the removal of the full notebook cells\n",
       "var notebookContainer = gd.closest('#notebook-container');\n",
       "if (notebookContainer) {{\n",
       "    x.observe(notebookContainer, {childList: true});\n",
       "}}\n",
       "\n",
       "// Listen for the clearing of the current output cell\n",
       "var outputEl = gd.closest('.output');\n",
       "if (outputEl) {{\n",
       "    x.observe(outputEl, {childList: true});\n",
       "}}\n",
       "\n",
       "                        })                };                });            </script>        </div>"
      ]
     },
     "metadata": {},
     "output_type": "display_data"
    }
   ],
   "source": [
    "def make_rays_1d(num_pixels: int, y_limit: float) -> t.Tensor:\n",
    "    '''\n",
    "    num_pixels: The number of pixels in the y dimension. Since there is one ray per pixel, this is also the number of rays.\n",
    "    y_limit: At x=1, the rays should extend from -y_limit to +y_limit, inclusive of both endpoints.\n",
    "\n",
    "    Returns: shape (num_pixels, num_points=2, num_dim=3) where the num_points dimension contains (origin, direction) and the num_dim dimension contains xyz.\n",
    "\n",
    "    Example of make_rays_1d(9, 1.0): [\n",
    "        [[0, 0, 0], [1, -1.0, 0]],\n",
    "        [[0, 0, 0], [1, -0.75, 0]],\n",
    "        [[0, 0, 0], [1, -0.5, 0]],\n",
    "        ...\n",
    "        [[0, 0, 0], [1, 0.75, 0]],\n",
    "        [[0, 0, 0], [1, 1, 0]],\n",
    "    ]\n",
    "    '''\n",
    "    rays_1d = t.zeros((num_pixels, 2, 3), dtype=t.float32)\n",
    "    rays_1d[:, 1, 0] = 1\n",
    "    rays_1d[:, 1, 1] = t.linspace(-y_limit, y_limit, num_pixels)\n",
    "    return rays_1d\n",
    "\n",
    "rays1d = make_rays_1d(100, 10)\n",
    "\n",
    "fig = render_lines_with_plotly(rays1d)"
   ]
  },
  {
   "cell_type": "code",
   "execution_count": 9,
   "id": "d63f59f4-3af4-4a70-9341-082f9cb21932",
   "metadata": {
    "execution": {
     "iopub.execute_input": "2024-07-13T18:29:03.100640Z",
     "iopub.status.busy": "2024-07-13T18:29:03.100347Z",
     "iopub.status.idle": "2024-07-13T18:29:03.163439Z",
     "shell.execute_reply": "2024-07-13T18:29:03.162805Z",
     "shell.execute_reply.started": "2024-07-13T18:29:03.100616Z"
    }
   },
   "outputs": [
    {
     "data": {
      "application/vnd.jupyter.widget-view+json": {
       "model_id": "b05c3014b999418897960f092f04f135",
       "version_major": 2,
       "version_minor": 0
      },
      "text/plain": [
       "FigureWidget({\n",
       "    'data': [{'type': 'scatter', 'uid': 'e1471cf6-9619-40b1-97f1-75acaf7b04f6', 'x': [], 'y': []},\n",
       "             {'marker': {'size': 12},\n",
       "              'mode': 'markers',\n",
       "              'type': 'scatter',\n",
       "              'uid': '544bebf6-5039-493b-b2ba-ea719702d4c7',\n",
       "              'x': [],\n",
       "              'y': []},\n",
       "             {'marker': {'size': 12, 'symbol': 'x'},\n",
       "              'mode': 'markers',\n",
       "              'type': 'scatter',\n",
       "              'uid': '266162c0-96d0-4a38-8271-d416913840c3',\n",
       "              'x': [],\n",
       "              'y': []}],\n",
       "    'layout': {'height': 500,\n",
       "               'showlegend': False,\n",
       "               'template': '...',\n",
       "               'width': 600,\n",
       "               'xaxis': {'range': [-1.5, 2.5]},\n",
       "               'yaxis': {'range': [-1.5, 2.5]}}\n",
       "})"
      ]
     },
     "metadata": {},
     "output_type": "display_data"
    },
    {
     "data": {
      "application/vnd.jupyter.widget-view+json": {
       "model_id": "514203b3493049c6930d2bb7ab8ace0b",
       "version_major": 2,
       "version_minor": 0
      },
      "text/plain": [
       "interactive(children=(IntSlider(value=5, description='seed', max=10), FloatSlider(value=0.0, description='v', …"
      ]
     },
     "metadata": {},
     "output_type": "display_data"
    }
   ],
   "source": [
    "fig = setup_widget_fig_ray()\n",
    "display(fig)\n",
    "\n",
    "@interact\n",
    "def response(seed=(0, 10, 1), v=(-2.0, 2.0, 0.01)):\n",
    "    t.manual_seed(seed)\n",
    "    L_1, L_2 = t.rand(2, 2)\n",
    "    P = lambda v: L_1 + v * (L_2 - L_1)\n",
    "    x, y = zip(P(-2), P(2))\n",
    "    with fig.batch_update(): \n",
    "        fig.data[0].update({\"x\": x, \"y\": y}) \n",
    "        fig.data[1].update({\"x\": [L_1[0], L_2[0]], \"y\": [L_1[1], L_2[1]]}) \n",
    "        fig.data[2].update({\"x\": [P(v)[0]], \"y\": [P(v)[1]]})\n"
   ]
  },
  {
   "cell_type": "code",
   "execution_count": 11,
   "id": "9701cbd4-2d41-4234-91ff-28e194b6e23e",
   "metadata": {
    "execution": {
     "iopub.execute_input": "2024-07-13T18:33:09.096931Z",
     "iopub.status.busy": "2024-07-13T18:33:09.096668Z",
     "iopub.status.idle": "2024-07-13T18:33:09.180601Z",
     "shell.execute_reply": "2024-07-13T18:33:09.179744Z",
     "shell.execute_reply.started": "2024-07-13T18:33:09.096911Z"
    }
   },
   "outputs": [
    {
     "data": {
      "application/vnd.plotly.v1+json": {
       "config": {
        "plotlyServerURL": "https://plot.ly"
       },
       "data": [
        {
         "mode": "lines",
         "type": "scatter3d",
         "x": [
          0,
          1
         ],
         "y": [
          0,
          -10
         ],
         "z": [
          0,
          0
         ]
        },
        {
         "mode": "lines",
         "type": "scatter3d",
         "x": [
          0,
          1
         ],
         "y": [
          0,
          -9.797979354858398
         ],
         "z": [
          0,
          0
         ]
        },
        {
         "mode": "lines",
         "type": "scatter3d",
         "x": [
          0,
          1
         ],
         "y": [
          0,
          -9.595959663391113
         ],
         "z": [
          0,
          0
         ]
        },
        {
         "mode": "lines",
         "type": "scatter3d",
         "x": [
          0,
          1
         ],
         "y": [
          0,
          -9.393939018249512
         ],
         "z": [
          0,
          0
         ]
        },
        {
         "mode": "lines",
         "type": "scatter3d",
         "x": [
          0,
          1
         ],
         "y": [
          0,
          -9.191919326782227
         ],
         "z": [
          0,
          0
         ]
        },
        {
         "mode": "lines",
         "type": "scatter3d",
         "x": [
          0,
          1
         ],
         "y": [
          0,
          -8.989898681640625
         ],
         "z": [
          0,
          0
         ]
        },
        {
         "mode": "lines",
         "type": "scatter3d",
         "x": [
          0,
          1
         ],
         "y": [
          0,
          -8.78787899017334
         ],
         "z": [
          0,
          0
         ]
        },
        {
         "mode": "lines",
         "type": "scatter3d",
         "x": [
          0,
          1
         ],
         "y": [
          0,
          -8.585858345031738
         ],
         "z": [
          0,
          0
         ]
        },
        {
         "mode": "lines",
         "type": "scatter3d",
         "x": [
          0,
          1
         ],
         "y": [
          0,
          -8.383838653564453
         ],
         "z": [
          0,
          0
         ]
        },
        {
         "mode": "lines",
         "type": "scatter3d",
         "x": [
          0,
          1
         ],
         "y": [
          0,
          -8.181818008422852
         ],
         "z": [
          0,
          0
         ]
        },
        {
         "mode": "lines",
         "type": "scatter3d",
         "x": [
          0,
          1
         ],
         "y": [
          0,
          -7.979797840118408
         ],
         "z": [
          0,
          0
         ]
        },
        {
         "mode": "lines",
         "type": "scatter3d",
         "x": [
          0,
          1
         ],
         "y": [
          0,
          -7.777777671813965
         ],
         "z": [
          0,
          0
         ]
        },
        {
         "mode": "lines",
         "type": "scatter3d",
         "x": [
          0,
          1
         ],
         "y": [
          0,
          -7.5757575035095215
         ],
         "z": [
          0,
          0
         ]
        },
        {
         "mode": "lines",
         "type": "scatter3d",
         "x": [
          0,
          1
         ],
         "y": [
          0,
          -7.373737335205078
         ],
         "z": [
          0,
          0
         ]
        },
        {
         "mode": "lines",
         "type": "scatter3d",
         "x": [
          0,
          1
         ],
         "y": [
          0,
          -7.171717166900635
         ],
         "z": [
          0,
          0
         ]
        },
        {
         "mode": "lines",
         "type": "scatter3d",
         "x": [
          0,
          1
         ],
         "y": [
          0,
          -6.969696998596191
         ],
         "z": [
          0,
          0
         ]
        },
        {
         "mode": "lines",
         "type": "scatter3d",
         "x": [
          0,
          1
         ],
         "y": [
          0,
          -6.767676830291748
         ],
         "z": [
          0,
          0
         ]
        },
        {
         "mode": "lines",
         "type": "scatter3d",
         "x": [
          0,
          1
         ],
         "y": [
          0,
          -6.565656661987305
         ],
         "z": [
          0,
          0
         ]
        },
        {
         "mode": "lines",
         "type": "scatter3d",
         "x": [
          0,
          1
         ],
         "y": [
          0,
          -6.363636493682861
         ],
         "z": [
          0,
          0
         ]
        },
        {
         "mode": "lines",
         "type": "scatter3d",
         "x": [
          0,
          1
         ],
         "y": [
          0,
          -6.161616325378418
         ],
         "z": [
          0,
          0
         ]
        },
        {
         "mode": "lines",
         "type": "scatter3d",
         "x": [
          0,
          1
         ],
         "y": [
          0,
          -5.959596157073975
         ],
         "z": [
          0,
          0
         ]
        },
        {
         "mode": "lines",
         "type": "scatter3d",
         "x": [
          0,
          1
         ],
         "y": [
          0,
          -5.757575988769531
         ],
         "z": [
          0,
          0
         ]
        },
        {
         "mode": "lines",
         "type": "scatter3d",
         "x": [
          0,
          1
         ],
         "y": [
          0,
          -5.555555820465088
         ],
         "z": [
          0,
          0
         ]
        },
        {
         "mode": "lines",
         "type": "scatter3d",
         "x": [
          0,
          1
         ],
         "y": [
          0,
          -5.3535356521606445
         ],
         "z": [
          0,
          0
         ]
        },
        {
         "mode": "lines",
         "type": "scatter3d",
         "x": [
          0,
          1
         ],
         "y": [
          0,
          -5.151515007019043
         ],
         "z": [
          0,
          0
         ]
        },
        {
         "mode": "lines",
         "type": "scatter3d",
         "x": [
          0,
          1
         ],
         "y": [
          0,
          -4.9494948387146
         ],
         "z": [
          0,
          0
         ]
        },
        {
         "mode": "lines",
         "type": "scatter3d",
         "x": [
          0,
          1
         ],
         "y": [
          0,
          -4.747474670410156
         ],
         "z": [
          0,
          0
         ]
        },
        {
         "mode": "lines",
         "type": "scatter3d",
         "x": [
          0,
          1
         ],
         "y": [
          0,
          -4.545454502105713
         ],
         "z": [
          0,
          0
         ]
        },
        {
         "mode": "lines",
         "type": "scatter3d",
         "x": [
          0,
          1
         ],
         "y": [
          0,
          -4.3434343338012695
         ],
         "z": [
          0,
          0
         ]
        },
        {
         "mode": "lines",
         "type": "scatter3d",
         "x": [
          0,
          1
         ],
         "y": [
          0,
          -4.141414165496826
         ],
         "z": [
          0,
          0
         ]
        },
        {
         "mode": "lines",
         "type": "scatter3d",
         "x": [
          0,
          1
         ],
         "y": [
          0,
          -3.939393997192383
         ],
         "z": [
          0,
          0
         ]
        },
        {
         "mode": "lines",
         "type": "scatter3d",
         "x": [
          0,
          1
         ],
         "y": [
          0,
          -3.7373738288879395
         ],
         "z": [
          0,
          0
         ]
        },
        {
         "mode": "lines",
         "type": "scatter3d",
         "x": [
          0,
          1
         ],
         "y": [
          0,
          -3.535353660583496
         ],
         "z": [
          0,
          0
         ]
        },
        {
         "mode": "lines",
         "type": "scatter3d",
         "x": [
          0,
          1
         ],
         "y": [
          0,
          -3.3333334922790527
         ],
         "z": [
          0,
          0
         ]
        },
        {
         "mode": "lines",
         "type": "scatter3d",
         "x": [
          0,
          1
         ],
         "y": [
          0,
          -3.1313133239746094
         ],
         "z": [
          0,
          0
         ]
        },
        {
         "mode": "lines",
         "type": "scatter3d",
         "x": [
          0,
          1
         ],
         "y": [
          0,
          -2.929293155670166
         ],
         "z": [
          0,
          0
         ]
        },
        {
         "mode": "lines",
         "type": "scatter3d",
         "x": [
          0,
          1
         ],
         "y": [
          0,
          -2.7272729873657227
         ],
         "z": [
          0,
          0
         ]
        },
        {
         "mode": "lines",
         "type": "scatter3d",
         "x": [
          0,
          1
         ],
         "y": [
          0,
          -2.5252525806427
         ],
         "z": [
          0,
          0
         ]
        },
        {
         "mode": "lines",
         "type": "scatter3d",
         "x": [
          0,
          1
         ],
         "y": [
          0,
          -2.323232412338257
         ],
         "z": [
          0,
          0
         ]
        },
        {
         "mode": "lines",
         "type": "scatter3d",
         "x": [
          0,
          1
         ],
         "y": [
          0,
          -2.1212122440338135
         ],
         "z": [
          0,
          0
         ]
        },
        {
         "mode": "lines",
         "type": "scatter3d",
         "x": [
          0,
          1
         ],
         "y": [
          0,
          -1.9191920757293701
         ],
         "z": [
          0,
          0
         ]
        },
        {
         "mode": "lines",
         "type": "scatter3d",
         "x": [
          0,
          1
         ],
         "y": [
          0,
          -1.7171719074249268
         ],
         "z": [
          0,
          0
         ]
        },
        {
         "mode": "lines",
         "type": "scatter3d",
         "x": [
          0,
          1
         ],
         "y": [
          0,
          -1.5151517391204834
         ],
         "z": [
          0,
          0
         ]
        },
        {
         "mode": "lines",
         "type": "scatter3d",
         "x": [
          0,
          1
         ],
         "y": [
          0,
          -1.3131314516067505
         ],
         "z": [
          0,
          0
         ]
        },
        {
         "mode": "lines",
         "type": "scatter3d",
         "x": [
          0,
          1
         ],
         "y": [
          0,
          -1.1111112833023071
         ],
         "z": [
          0,
          0
         ]
        },
        {
         "mode": "lines",
         "type": "scatter3d",
         "x": [
          0,
          1
         ],
         "y": [
          0,
          -0.9090911149978638
         ],
         "z": [
          0,
          0
         ]
        },
        {
         "mode": "lines",
         "type": "scatter3d",
         "x": [
          0,
          1
         ],
         "y": [
          0,
          -0.7070708870887756
         ],
         "z": [
          0,
          0
         ]
        },
        {
         "mode": "lines",
         "type": "scatter3d",
         "x": [
          0,
          1
         ],
         "y": [
          0,
          -0.5050506591796875
         ],
         "z": [
          0,
          0
         ]
        },
        {
         "mode": "lines",
         "type": "scatter3d",
         "x": [
          0,
          1
         ],
         "y": [
          0,
          -0.30303049087524414
         ],
         "z": [
          0,
          0
         ]
        },
        {
         "mode": "lines",
         "type": "scatter3d",
         "x": [
          0,
          1
         ],
         "y": [
          0,
          -0.1010102927684784
         ],
         "z": [
          0,
          0
         ]
        },
        {
         "mode": "lines",
         "type": "scatter3d",
         "x": [
          0,
          1
         ],
         "y": [
          0,
          0.1010102927684784
         ],
         "z": [
          0,
          0
         ]
        },
        {
         "mode": "lines",
         "type": "scatter3d",
         "x": [
          0,
          1
         ],
         "y": [
          0,
          0.30303049087524414
         ],
         "z": [
          0,
          0
         ]
        },
        {
         "mode": "lines",
         "type": "scatter3d",
         "x": [
          0,
          1
         ],
         "y": [
          0,
          0.5050506591796875
         ],
         "z": [
          0,
          0
         ]
        },
        {
         "mode": "lines",
         "type": "scatter3d",
         "x": [
          0,
          1
         ],
         "y": [
          0,
          0.7070708870887756
         ],
         "z": [
          0,
          0
         ]
        },
        {
         "mode": "lines",
         "type": "scatter3d",
         "x": [
          0,
          1
         ],
         "y": [
          0,
          0.9090911149978638
         ],
         "z": [
          0,
          0
         ]
        },
        {
         "mode": "lines",
         "type": "scatter3d",
         "x": [
          0,
          1
         ],
         "y": [
          0,
          1.1111112833023071
         ],
         "z": [
          0,
          0
         ]
        },
        {
         "mode": "lines",
         "type": "scatter3d",
         "x": [
          0,
          1
         ],
         "y": [
          0,
          1.3131314516067505
         ],
         "z": [
          0,
          0
         ]
        },
        {
         "mode": "lines",
         "type": "scatter3d",
         "x": [
          0,
          1
         ],
         "y": [
          0,
          1.5151517391204834
         ],
         "z": [
          0,
          0
         ]
        },
        {
         "mode": "lines",
         "type": "scatter3d",
         "x": [
          0,
          1
         ],
         "y": [
          0,
          1.7171719074249268
         ],
         "z": [
          0,
          0
         ]
        },
        {
         "mode": "lines",
         "type": "scatter3d",
         "x": [
          0,
          1
         ],
         "y": [
          0,
          1.9191920757293701
         ],
         "z": [
          0,
          0
         ]
        },
        {
         "mode": "lines",
         "type": "scatter3d",
         "x": [
          0,
          1
         ],
         "y": [
          0,
          2.1212122440338135
         ],
         "z": [
          0,
          0
         ]
        },
        {
         "mode": "lines",
         "type": "scatter3d",
         "x": [
          0,
          1
         ],
         "y": [
          0,
          2.323232412338257
         ],
         "z": [
          0,
          0
         ]
        },
        {
         "mode": "lines",
         "type": "scatter3d",
         "x": [
          0,
          1
         ],
         "y": [
          0,
          2.5252525806427
         ],
         "z": [
          0,
          0
         ]
        },
        {
         "mode": "lines",
         "type": "scatter3d",
         "x": [
          0,
          1
         ],
         "y": [
          0,
          2.7272729873657227
         ],
         "z": [
          0,
          0
         ]
        },
        {
         "mode": "lines",
         "type": "scatter3d",
         "x": [
          0,
          1
         ],
         "y": [
          0,
          2.929293155670166
         ],
         "z": [
          0,
          0
         ]
        },
        {
         "mode": "lines",
         "type": "scatter3d",
         "x": [
          0,
          1
         ],
         "y": [
          0,
          3.1313133239746094
         ],
         "z": [
          0,
          0
         ]
        },
        {
         "mode": "lines",
         "type": "scatter3d",
         "x": [
          0,
          1
         ],
         "y": [
          0,
          3.3333334922790527
         ],
         "z": [
          0,
          0
         ]
        },
        {
         "mode": "lines",
         "type": "scatter3d",
         "x": [
          0,
          1
         ],
         "y": [
          0,
          3.535353660583496
         ],
         "z": [
          0,
          0
         ]
        },
        {
         "mode": "lines",
         "type": "scatter3d",
         "x": [
          0,
          1
         ],
         "y": [
          0,
          3.7373738288879395
         ],
         "z": [
          0,
          0
         ]
        },
        {
         "mode": "lines",
         "type": "scatter3d",
         "x": [
          0,
          1
         ],
         "y": [
          0,
          3.939393997192383
         ],
         "z": [
          0,
          0
         ]
        },
        {
         "mode": "lines",
         "type": "scatter3d",
         "x": [
          0,
          1
         ],
         "y": [
          0,
          4.141414165496826
         ],
         "z": [
          0,
          0
         ]
        },
        {
         "mode": "lines",
         "type": "scatter3d",
         "x": [
          0,
          1
         ],
         "y": [
          0,
          4.3434343338012695
         ],
         "z": [
          0,
          0
         ]
        },
        {
         "mode": "lines",
         "type": "scatter3d",
         "x": [
          0,
          1
         ],
         "y": [
          0,
          4.545454502105713
         ],
         "z": [
          0,
          0
         ]
        },
        {
         "mode": "lines",
         "type": "scatter3d",
         "x": [
          0,
          1
         ],
         "y": [
          0,
          4.747474670410156
         ],
         "z": [
          0,
          0
         ]
        },
        {
         "mode": "lines",
         "type": "scatter3d",
         "x": [
          0,
          1
         ],
         "y": [
          0,
          4.9494948387146
         ],
         "z": [
          0,
          0
         ]
        },
        {
         "mode": "lines",
         "type": "scatter3d",
         "x": [
          0,
          1
         ],
         "y": [
          0,
          5.151515007019043
         ],
         "z": [
          0,
          0
         ]
        },
        {
         "mode": "lines",
         "type": "scatter3d",
         "x": [
          0,
          1
         ],
         "y": [
          0,
          5.3535356521606445
         ],
         "z": [
          0,
          0
         ]
        },
        {
         "mode": "lines",
         "type": "scatter3d",
         "x": [
          0,
          1
         ],
         "y": [
          0,
          5.555555820465088
         ],
         "z": [
          0,
          0
         ]
        },
        {
         "mode": "lines",
         "type": "scatter3d",
         "x": [
          0,
          1
         ],
         "y": [
          0,
          5.757575988769531
         ],
         "z": [
          0,
          0
         ]
        },
        {
         "mode": "lines",
         "type": "scatter3d",
         "x": [
          0,
          1
         ],
         "y": [
          0,
          5.959596157073975
         ],
         "z": [
          0,
          0
         ]
        },
        {
         "mode": "lines",
         "type": "scatter3d",
         "x": [
          0,
          1
         ],
         "y": [
          0,
          6.161616325378418
         ],
         "z": [
          0,
          0
         ]
        },
        {
         "mode": "lines",
         "type": "scatter3d",
         "x": [
          0,
          1
         ],
         "y": [
          0,
          6.363636493682861
         ],
         "z": [
          0,
          0
         ]
        },
        {
         "mode": "lines",
         "type": "scatter3d",
         "x": [
          0,
          1
         ],
         "y": [
          0,
          6.565656661987305
         ],
         "z": [
          0,
          0
         ]
        },
        {
         "mode": "lines",
         "type": "scatter3d",
         "x": [
          0,
          1
         ],
         "y": [
          0,
          6.767676830291748
         ],
         "z": [
          0,
          0
         ]
        },
        {
         "mode": "lines",
         "type": "scatter3d",
         "x": [
          0,
          1
         ],
         "y": [
          0,
          6.969696998596191
         ],
         "z": [
          0,
          0
         ]
        },
        {
         "mode": "lines",
         "type": "scatter3d",
         "x": [
          0,
          1
         ],
         "y": [
          0,
          7.171717166900635
         ],
         "z": [
          0,
          0
         ]
        },
        {
         "mode": "lines",
         "type": "scatter3d",
         "x": [
          0,
          1
         ],
         "y": [
          0,
          7.373737335205078
         ],
         "z": [
          0,
          0
         ]
        },
        {
         "mode": "lines",
         "type": "scatter3d",
         "x": [
          0,
          1
         ],
         "y": [
          0,
          7.5757575035095215
         ],
         "z": [
          0,
          0
         ]
        },
        {
         "mode": "lines",
         "type": "scatter3d",
         "x": [
          0,
          1
         ],
         "y": [
          0,
          7.777777671813965
         ],
         "z": [
          0,
          0
         ]
        },
        {
         "mode": "lines",
         "type": "scatter3d",
         "x": [
          0,
          1
         ],
         "y": [
          0,
          7.979797840118408
         ],
         "z": [
          0,
          0
         ]
        },
        {
         "mode": "lines",
         "type": "scatter3d",
         "x": [
          0,
          1
         ],
         "y": [
          0,
          8.181818008422852
         ],
         "z": [
          0,
          0
         ]
        },
        {
         "mode": "lines",
         "type": "scatter3d",
         "x": [
          0,
          1
         ],
         "y": [
          0,
          8.383838653564453
         ],
         "z": [
          0,
          0
         ]
        },
        {
         "mode": "lines",
         "type": "scatter3d",
         "x": [
          0,
          1
         ],
         "y": [
          0,
          8.585858345031738
         ],
         "z": [
          0,
          0
         ]
        },
        {
         "mode": "lines",
         "type": "scatter3d",
         "x": [
          0,
          1
         ],
         "y": [
          0,
          8.78787899017334
         ],
         "z": [
          0,
          0
         ]
        },
        {
         "mode": "lines",
         "type": "scatter3d",
         "x": [
          0,
          1
         ],
         "y": [
          0,
          8.989898681640625
         ],
         "z": [
          0,
          0
         ]
        },
        {
         "mode": "lines",
         "type": "scatter3d",
         "x": [
          0,
          1
         ],
         "y": [
          0,
          9.191919326782227
         ],
         "z": [
          0,
          0
         ]
        },
        {
         "mode": "lines",
         "type": "scatter3d",
         "x": [
          0,
          1
         ],
         "y": [
          0,
          9.393939018249512
         ],
         "z": [
          0,
          0
         ]
        },
        {
         "mode": "lines",
         "type": "scatter3d",
         "x": [
          0,
          1
         ],
         "y": [
          0,
          9.595959663391113
         ],
         "z": [
          0,
          0
         ]
        },
        {
         "mode": "lines",
         "type": "scatter3d",
         "x": [
          0,
          1
         ],
         "y": [
          0,
          9.797979354858398
         ],
         "z": [
          0,
          0
         ]
        },
        {
         "mode": "lines",
         "type": "scatter3d",
         "x": [
          0,
          1
         ],
         "y": [
          0,
          10
         ],
         "z": [
          0,
          0
         ]
        },
        {
         "line": {
          "color": "black",
          "width": 5
         },
         "mode": "lines",
         "type": "scatter3d",
         "x": [
          1,
          1
         ],
         "y": [
          -12,
          -6
         ],
         "z": [
          0,
          0
         ]
        },
        {
         "line": {
          "color": "black",
          "width": 5
         },
         "mode": "lines",
         "type": "scatter3d",
         "x": [
          0.5,
          0.5
         ],
         "y": [
          0.10000000149011612,
          1.149999976158142
         ],
         "z": [
          0,
          0
         ]
        },
        {
         "line": {
          "color": "black",
          "width": 5
         },
         "mode": "lines",
         "type": "scatter3d",
         "x": [
          2,
          2
         ],
         "y": [
          12,
          21
         ],
         "z": [
          0,
          0
         ]
        }
       ],
       "layout": {
        "height": 600,
        "scene": {
         "aspectmode": "auto",
         "aspectratio": {
          "x": 1,
          "y": 1,
          "z": 1
         },
         "camera": {
          "center": {
           "x": 0,
           "y": 0,
           "z": 0
          },
          "eye": {
           "x": -6.653997861320544e-17,
           "y": 6.746966992239785e-17,
           "z": 1.54757129298152
          },
          "projection": {
           "type": "perspective"
          },
          "up": {
           "x": 0,
           "y": 0,
           "z": 1
          }
         }
        },
        "showlegend": false,
        "template": {
         "data": {
          "bar": [
           {
            "error_x": {
             "color": "#2a3f5f"
            },
            "error_y": {
             "color": "#2a3f5f"
            },
            "marker": {
             "line": {
              "color": "#E5ECF6",
              "width": 0.5
             },
             "pattern": {
              "fillmode": "overlay",
              "size": 10,
              "solidity": 0.2
             }
            },
            "type": "bar"
           }
          ],
          "barpolar": [
           {
            "marker": {
             "line": {
              "color": "#E5ECF6",
              "width": 0.5
             },
             "pattern": {
              "fillmode": "overlay",
              "size": 10,
              "solidity": 0.2
             }
            },
            "type": "barpolar"
           }
          ],
          "carpet": [
           {
            "aaxis": {
             "endlinecolor": "#2a3f5f",
             "gridcolor": "white",
             "linecolor": "white",
             "minorgridcolor": "white",
             "startlinecolor": "#2a3f5f"
            },
            "baxis": {
             "endlinecolor": "#2a3f5f",
             "gridcolor": "white",
             "linecolor": "white",
             "minorgridcolor": "white",
             "startlinecolor": "#2a3f5f"
            },
            "type": "carpet"
           }
          ],
          "choropleth": [
           {
            "colorbar": {
             "outlinewidth": 0,
             "ticks": ""
            },
            "type": "choropleth"
           }
          ],
          "contour": [
           {
            "colorbar": {
             "outlinewidth": 0,
             "ticks": ""
            },
            "colorscale": [
             [
              0,
              "#0d0887"
             ],
             [
              0.1111111111111111,
              "#46039f"
             ],
             [
              0.2222222222222222,
              "#7201a8"
             ],
             [
              0.3333333333333333,
              "#9c179e"
             ],
             [
              0.4444444444444444,
              "#bd3786"
             ],
             [
              0.5555555555555556,
              "#d8576b"
             ],
             [
              0.6666666666666666,
              "#ed7953"
             ],
             [
              0.7777777777777778,
              "#fb9f3a"
             ],
             [
              0.8888888888888888,
              "#fdca26"
             ],
             [
              1,
              "#f0f921"
             ]
            ],
            "type": "contour"
           }
          ],
          "contourcarpet": [
           {
            "colorbar": {
             "outlinewidth": 0,
             "ticks": ""
            },
            "type": "contourcarpet"
           }
          ],
          "heatmap": [
           {
            "colorbar": {
             "outlinewidth": 0,
             "ticks": ""
            },
            "colorscale": [
             [
              0,
              "#0d0887"
             ],
             [
              0.1111111111111111,
              "#46039f"
             ],
             [
              0.2222222222222222,
              "#7201a8"
             ],
             [
              0.3333333333333333,
              "#9c179e"
             ],
             [
              0.4444444444444444,
              "#bd3786"
             ],
             [
              0.5555555555555556,
              "#d8576b"
             ],
             [
              0.6666666666666666,
              "#ed7953"
             ],
             [
              0.7777777777777778,
              "#fb9f3a"
             ],
             [
              0.8888888888888888,
              "#fdca26"
             ],
             [
              1,
              "#f0f921"
             ]
            ],
            "type": "heatmap"
           }
          ],
          "heatmapgl": [
           {
            "colorbar": {
             "outlinewidth": 0,
             "ticks": ""
            },
            "colorscale": [
             [
              0,
              "#0d0887"
             ],
             [
              0.1111111111111111,
              "#46039f"
             ],
             [
              0.2222222222222222,
              "#7201a8"
             ],
             [
              0.3333333333333333,
              "#9c179e"
             ],
             [
              0.4444444444444444,
              "#bd3786"
             ],
             [
              0.5555555555555556,
              "#d8576b"
             ],
             [
              0.6666666666666666,
              "#ed7953"
             ],
             [
              0.7777777777777778,
              "#fb9f3a"
             ],
             [
              0.8888888888888888,
              "#fdca26"
             ],
             [
              1,
              "#f0f921"
             ]
            ],
            "type": "heatmapgl"
           }
          ],
          "histogram": [
           {
            "marker": {
             "pattern": {
              "fillmode": "overlay",
              "size": 10,
              "solidity": 0.2
             }
            },
            "type": "histogram"
           }
          ],
          "histogram2d": [
           {
            "colorbar": {
             "outlinewidth": 0,
             "ticks": ""
            },
            "colorscale": [
             [
              0,
              "#0d0887"
             ],
             [
              0.1111111111111111,
              "#46039f"
             ],
             [
              0.2222222222222222,
              "#7201a8"
             ],
             [
              0.3333333333333333,
              "#9c179e"
             ],
             [
              0.4444444444444444,
              "#bd3786"
             ],
             [
              0.5555555555555556,
              "#d8576b"
             ],
             [
              0.6666666666666666,
              "#ed7953"
             ],
             [
              0.7777777777777778,
              "#fb9f3a"
             ],
             [
              0.8888888888888888,
              "#fdca26"
             ],
             [
              1,
              "#f0f921"
             ]
            ],
            "type": "histogram2d"
           }
          ],
          "histogram2dcontour": [
           {
            "colorbar": {
             "outlinewidth": 0,
             "ticks": ""
            },
            "colorscale": [
             [
              0,
              "#0d0887"
             ],
             [
              0.1111111111111111,
              "#46039f"
             ],
             [
              0.2222222222222222,
              "#7201a8"
             ],
             [
              0.3333333333333333,
              "#9c179e"
             ],
             [
              0.4444444444444444,
              "#bd3786"
             ],
             [
              0.5555555555555556,
              "#d8576b"
             ],
             [
              0.6666666666666666,
              "#ed7953"
             ],
             [
              0.7777777777777778,
              "#fb9f3a"
             ],
             [
              0.8888888888888888,
              "#fdca26"
             ],
             [
              1,
              "#f0f921"
             ]
            ],
            "type": "histogram2dcontour"
           }
          ],
          "mesh3d": [
           {
            "colorbar": {
             "outlinewidth": 0,
             "ticks": ""
            },
            "type": "mesh3d"
           }
          ],
          "parcoords": [
           {
            "line": {
             "colorbar": {
              "outlinewidth": 0,
              "ticks": ""
             }
            },
            "type": "parcoords"
           }
          ],
          "pie": [
           {
            "automargin": true,
            "type": "pie"
           }
          ],
          "scatter": [
           {
            "fillpattern": {
             "fillmode": "overlay",
             "size": 10,
             "solidity": 0.2
            },
            "type": "scatter"
           }
          ],
          "scatter3d": [
           {
            "line": {
             "colorbar": {
              "outlinewidth": 0,
              "ticks": ""
             }
            },
            "marker": {
             "colorbar": {
              "outlinewidth": 0,
              "ticks": ""
             }
            },
            "type": "scatter3d"
           }
          ],
          "scattercarpet": [
           {
            "marker": {
             "colorbar": {
              "outlinewidth": 0,
              "ticks": ""
             }
            },
            "type": "scattercarpet"
           }
          ],
          "scattergeo": [
           {
            "marker": {
             "colorbar": {
              "outlinewidth": 0,
              "ticks": ""
             }
            },
            "type": "scattergeo"
           }
          ],
          "scattergl": [
           {
            "marker": {
             "colorbar": {
              "outlinewidth": 0,
              "ticks": ""
             }
            },
            "type": "scattergl"
           }
          ],
          "scattermapbox": [
           {
            "marker": {
             "colorbar": {
              "outlinewidth": 0,
              "ticks": ""
             }
            },
            "type": "scattermapbox"
           }
          ],
          "scatterpolar": [
           {
            "marker": {
             "colorbar": {
              "outlinewidth": 0,
              "ticks": ""
             }
            },
            "type": "scatterpolar"
           }
          ],
          "scatterpolargl": [
           {
            "marker": {
             "colorbar": {
              "outlinewidth": 0,
              "ticks": ""
             }
            },
            "type": "scatterpolargl"
           }
          ],
          "scatterternary": [
           {
            "marker": {
             "colorbar": {
              "outlinewidth": 0,
              "ticks": ""
             }
            },
            "type": "scatterternary"
           }
          ],
          "surface": [
           {
            "colorbar": {
             "outlinewidth": 0,
             "ticks": ""
            },
            "colorscale": [
             [
              0,
              "#0d0887"
             ],
             [
              0.1111111111111111,
              "#46039f"
             ],
             [
              0.2222222222222222,
              "#7201a8"
             ],
             [
              0.3333333333333333,
              "#9c179e"
             ],
             [
              0.4444444444444444,
              "#bd3786"
             ],
             [
              0.5555555555555556,
              "#d8576b"
             ],
             [
              0.6666666666666666,
              "#ed7953"
             ],
             [
              0.7777777777777778,
              "#fb9f3a"
             ],
             [
              0.8888888888888888,
              "#fdca26"
             ],
             [
              1,
              "#f0f921"
             ]
            ],
            "type": "surface"
           }
          ],
          "table": [
           {
            "cells": {
             "fill": {
              "color": "#EBF0F8"
             },
             "line": {
              "color": "white"
             }
            },
            "header": {
             "fill": {
              "color": "#C8D4E3"
             },
             "line": {
              "color": "white"
             }
            },
            "type": "table"
           }
          ]
         },
         "layout": {
          "annotationdefaults": {
           "arrowcolor": "#2a3f5f",
           "arrowhead": 0,
           "arrowwidth": 1
          },
          "autotypenumbers": "strict",
          "coloraxis": {
           "colorbar": {
            "outlinewidth": 0,
            "ticks": ""
           }
          },
          "colorscale": {
           "diverging": [
            [
             0,
             "#8e0152"
            ],
            [
             0.1,
             "#c51b7d"
            ],
            [
             0.2,
             "#de77ae"
            ],
            [
             0.3,
             "#f1b6da"
            ],
            [
             0.4,
             "#fde0ef"
            ],
            [
             0.5,
             "#f7f7f7"
            ],
            [
             0.6,
             "#e6f5d0"
            ],
            [
             0.7,
             "#b8e186"
            ],
            [
             0.8,
             "#7fbc41"
            ],
            [
             0.9,
             "#4d9221"
            ],
            [
             1,
             "#276419"
            ]
           ],
           "sequential": [
            [
             0,
             "#0d0887"
            ],
            [
             0.1111111111111111,
             "#46039f"
            ],
            [
             0.2222222222222222,
             "#7201a8"
            ],
            [
             0.3333333333333333,
             "#9c179e"
            ],
            [
             0.4444444444444444,
             "#bd3786"
            ],
            [
             0.5555555555555556,
             "#d8576b"
            ],
            [
             0.6666666666666666,
             "#ed7953"
            ],
            [
             0.7777777777777778,
             "#fb9f3a"
            ],
            [
             0.8888888888888888,
             "#fdca26"
            ],
            [
             1,
             "#f0f921"
            ]
           ],
           "sequentialminus": [
            [
             0,
             "#0d0887"
            ],
            [
             0.1111111111111111,
             "#46039f"
            ],
            [
             0.2222222222222222,
             "#7201a8"
            ],
            [
             0.3333333333333333,
             "#9c179e"
            ],
            [
             0.4444444444444444,
             "#bd3786"
            ],
            [
             0.5555555555555556,
             "#d8576b"
            ],
            [
             0.6666666666666666,
             "#ed7953"
            ],
            [
             0.7777777777777778,
             "#fb9f3a"
            ],
            [
             0.8888888888888888,
             "#fdca26"
            ],
            [
             1,
             "#f0f921"
            ]
           ]
          },
          "colorway": [
           "#636efa",
           "#EF553B",
           "#00cc96",
           "#ab63fa",
           "#FFA15A",
           "#19d3f3",
           "#FF6692",
           "#B6E880",
           "#FF97FF",
           "#FECB52"
          ],
          "font": {
           "color": "#2a3f5f"
          },
          "geo": {
           "bgcolor": "white",
           "lakecolor": "white",
           "landcolor": "#E5ECF6",
           "showlakes": true,
           "showland": true,
           "subunitcolor": "white"
          },
          "hoverlabel": {
           "align": "left"
          },
          "hovermode": "closest",
          "mapbox": {
           "style": "light"
          },
          "paper_bgcolor": "white",
          "plot_bgcolor": "#E5ECF6",
          "polar": {
           "angularaxis": {
            "gridcolor": "white",
            "linecolor": "white",
            "ticks": ""
           },
           "bgcolor": "#E5ECF6",
           "radialaxis": {
            "gridcolor": "white",
            "linecolor": "white",
            "ticks": ""
           }
          },
          "scene": {
           "xaxis": {
            "backgroundcolor": "#E5ECF6",
            "gridcolor": "white",
            "gridwidth": 2,
            "linecolor": "white",
            "showbackground": true,
            "ticks": "",
            "zerolinecolor": "white"
           },
           "yaxis": {
            "backgroundcolor": "#E5ECF6",
            "gridcolor": "white",
            "gridwidth": 2,
            "linecolor": "white",
            "showbackground": true,
            "ticks": "",
            "zerolinecolor": "white"
           },
           "zaxis": {
            "backgroundcolor": "#E5ECF6",
            "gridcolor": "white",
            "gridwidth": 2,
            "linecolor": "white",
            "showbackground": true,
            "ticks": "",
            "zerolinecolor": "white"
           }
          },
          "shapedefaults": {
           "line": {
            "color": "#2a3f5f"
           }
          },
          "ternary": {
           "aaxis": {
            "gridcolor": "white",
            "linecolor": "white",
            "ticks": ""
           },
           "baxis": {
            "gridcolor": "white",
            "linecolor": "white",
            "ticks": ""
           },
           "bgcolor": "#E5ECF6",
           "caxis": {
            "gridcolor": "white",
            "linecolor": "white",
            "ticks": ""
           }
          },
          "title": {
           "x": 0.05
          },
          "xaxis": {
           "automargin": true,
           "gridcolor": "white",
           "linecolor": "white",
           "ticks": "",
           "title": {
            "standoff": 15
           },
           "zerolinecolor": "white",
           "zerolinewidth": 2
          },
          "yaxis": {
           "automargin": true,
           "gridcolor": "white",
           "linecolor": "white",
           "ticks": "",
           "title": {
            "standoff": 15
           },
           "zerolinecolor": "white",
           "zerolinewidth": 2
          }
         }
        },
        "title": {
         "text": "3D rays"
        },
        "width": 600
       }
      },
      "image/png": "[encoded data removed]",
      "text/html": [
       "<div>                            <div id=\"9ace4cf0-a6f1-4490-a6d6-256ec6ae3d68\" class=\"plotly-graph-div\" style=\"height:600px; width:600px;\"></div>            <script type=\"text/javascript\">                require([\"plotly\"], function(Plotly) {                    window.PLOTLYENV=window.PLOTLYENV || {};                                    if (document.getElementById(\"9ace4cf0-a6f1-4490-a6d6-256ec6ae3d68\")) {                    Plotly.newPlot(                        \"9ace4cf0-a6f1-4490-a6d6-256ec6ae3d68\",                        [{\"mode\":\"lines\",\"x\":[0.0,1.0],\"y\":[0.0,-10.0],\"z\":[0.0,0.0],\"type\":\"scatter3d\"},{\"mode\":\"lines\",\"x\":[0.0,1.0],\"y\":[0.0,-9.797979354858398],\"z\":[0.0,0.0],\"type\":\"scatter3d\"},{\"mode\":\"lines\",\"x\":[0.0,1.0],\"y\":[0.0,-9.595959663391113],\"z\":[0.0,0.0],\"type\":\"scatter3d\"},{\"mode\":\"lines\",\"x\":[0.0,1.0],\"y\":[0.0,-9.393939018249512],\"z\":[0.0,0.0],\"type\":\"scatter3d\"},{\"mode\":\"lines\",\"x\":[0.0,1.0],\"y\":[0.0,-9.191919326782227],\"z\":[0.0,0.0],\"type\":\"scatter3d\"},{\"mode\":\"lines\",\"x\":[0.0,1.0],\"y\":[0.0,-8.989898681640625],\"z\":[0.0,0.0],\"type\":\"scatter3d\"},{\"mode\":\"lines\",\"x\":[0.0,1.0],\"y\":[0.0,-8.78787899017334],\"z\":[0.0,0.0],\"type\":\"scatter3d\"},{\"mode\":\"lines\",\"x\":[0.0,1.0],\"y\":[0.0,-8.585858345031738],\"z\":[0.0,0.0],\"type\":\"scatter3d\"},{\"mode\":\"lines\",\"x\":[0.0,1.0],\"y\":[0.0,-8.383838653564453],\"z\":[0.0,0.0],\"type\":\"scatter3d\"},{\"mode\":\"lines\",\"x\":[0.0,1.0],\"y\":[0.0,-8.181818008422852],\"z\":[0.0,0.0],\"type\":\"scatter3d\"},{\"mode\":\"lines\",\"x\":[0.0,1.0],\"y\":[0.0,-7.979797840118408],\"z\":[0.0,0.0],\"type\":\"scatter3d\"},{\"mode\":\"lines\",\"x\":[0.0,1.0],\"y\":[0.0,-7.777777671813965],\"z\":[0.0,0.0],\"type\":\"scatter3d\"},{\"mode\":\"lines\",\"x\":[0.0,1.0],\"y\":[0.0,-7.5757575035095215],\"z\":[0.0,0.0],\"type\":\"scatter3d\"},{\"mode\":\"lines\",\"x\":[0.0,1.0],\"y\":[0.0,-7.373737335205078],\"z\":[0.0,0.0],\"type\":\"scatter3d\"},{\"mode\":\"lines\",\"x\":[0.0,1.0],\"y\":[0.0,-7.171717166900635],\"z\":[0.0,0.0],\"type\":\"scatter3d\"},{\"mode\":\"lines\",\"x\":[0.0,1.0],\"y\":[0.0,-6.969696998596191],\"z\":[0.0,0.0],\"type\":\"scatter3d\"},{\"mode\":\"lines\",\"x\":[0.0,1.0],\"y\":[0.0,-6.767676830291748],\"z\":[0.0,0.0],\"type\":\"scatter3d\"},{\"mode\":\"lines\",\"x\":[0.0,1.0],\"y\":[0.0,-6.565656661987305],\"z\":[0.0,0.0],\"type\":\"scatter3d\"},{\"mode\":\"lines\",\"x\":[0.0,1.0],\"y\":[0.0,-6.363636493682861],\"z\":[0.0,0.0],\"type\":\"scatter3d\"},{\"mode\":\"lines\",\"x\":[0.0,1.0],\"y\":[0.0,-6.161616325378418],\"z\":[0.0,0.0],\"type\":\"scatter3d\"},{\"mode\":\"lines\",\"x\":[0.0,1.0],\"y\":[0.0,-5.959596157073975],\"z\":[0.0,0.0],\"type\":\"scatter3d\"},{\"mode\":\"lines\",\"x\":[0.0,1.0],\"y\":[0.0,-5.757575988769531],\"z\":[0.0,0.0],\"type\":\"scatter3d\"},{\"mode\":\"lines\",\"x\":[0.0,1.0],\"y\":[0.0,-5.555555820465088],\"z\":[0.0,0.0],\"type\":\"scatter3d\"},{\"mode\":\"lines\",\"x\":[0.0,1.0],\"y\":[0.0,-5.3535356521606445],\"z\":[0.0,0.0],\"type\":\"scatter3d\"},{\"mode\":\"lines\",\"x\":[0.0,1.0],\"y\":[0.0,-5.151515007019043],\"z\":[0.0,0.0],\"type\":\"scatter3d\"},{\"mode\":\"lines\",\"x\":[0.0,1.0],\"y\":[0.0,-4.9494948387146],\"z\":[0.0,0.0],\"type\":\"scatter3d\"},{\"mode\":\"lines\",\"x\":[0.0,1.0],\"y\":[0.0,-4.747474670410156],\"z\":[0.0,0.0],\"type\":\"scatter3d\"},{\"mode\":\"lines\",\"x\":[0.0,1.0],\"y\":[0.0,-4.545454502105713],\"z\":[0.0,0.0],\"type\":\"scatter3d\"},{\"mode\":\"lines\",\"x\":[0.0,1.0],\"y\":[0.0,-4.3434343338012695],\"z\":[0.0,0.0],\"type\":\"scatter3d\"},{\"mode\":\"lines\",\"x\":[0.0,1.0],\"y\":[0.0,-4.141414165496826],\"z\":[0.0,0.0],\"type\":\"scatter3d\"},{\"mode\":\"lines\",\"x\":[0.0,1.0],\"y\":[0.0,-3.939393997192383],\"z\":[0.0,0.0],\"type\":\"scatter3d\"},{\"mode\":\"lines\",\"x\":[0.0,1.0],\"y\":[0.0,-3.7373738288879395],\"z\":[0.0,0.0],\"type\":\"scatter3d\"},{\"mode\":\"lines\",\"x\":[0.0,1.0],\"y\":[0.0,-3.535353660583496],\"z\":[0.0,0.0],\"type\":\"scatter3d\"},{\"mode\":\"lines\",\"x\":[0.0,1.0],\"y\":[0.0,-3.3333334922790527],\"z\":[0.0,0.0],\"type\":\"scatter3d\"},{\"mode\":\"lines\",\"x\":[0.0,1.0],\"y\":[0.0,-3.1313133239746094],\"z\":[0.0,0.0],\"type\":\"scatter3d\"},{\"mode\":\"lines\",\"x\":[0.0,1.0],\"y\":[0.0,-2.929293155670166],\"z\":[0.0,0.0],\"type\":\"scatter3d\"},{\"mode\":\"lines\",\"x\":[0.0,1.0],\"y\":[0.0,-2.7272729873657227],\"z\":[0.0,0.0],\"type\":\"scatter3d\"},{\"mode\":\"lines\",\"x\":[0.0,1.0],\"y\":[0.0,-2.5252525806427],\"z\":[0.0,0.0],\"type\":\"scatter3d\"},{\"mode\":\"lines\",\"x\":[0.0,1.0],\"y\":[0.0,-2.323232412338257],\"z\":[0.0,0.0],\"type\":\"scatter3d\"},{\"mode\":\"lines\",\"x\":[0.0,1.0],\"y\":[0.0,-2.1212122440338135],\"z\":[0.0,0.0],\"type\":\"scatter3d\"},{\"mode\":\"lines\",\"x\":[0.0,1.0],\"y\":[0.0,-1.9191920757293701],\"z\":[0.0,0.0],\"type\":\"scatter3d\"},{\"mode\":\"lines\",\"x\":[0.0,1.0],\"y\":[0.0,-1.7171719074249268],\"z\":[0.0,0.0],\"type\":\"scatter3d\"},{\"mode\":\"lines\",\"x\":[0.0,1.0],\"y\":[0.0,-1.5151517391204834],\"z\":[0.0,0.0],\"type\":\"scatter3d\"},{\"mode\":\"lines\",\"x\":[0.0,1.0],\"y\":[0.0,-1.3131314516067505],\"z\":[0.0,0.0],\"type\":\"scatter3d\"},{\"mode\":\"lines\",\"x\":[0.0,1.0],\"y\":[0.0,-1.1111112833023071],\"z\":[0.0,0.0],\"type\":\"scatter3d\"},{\"mode\":\"lines\",\"x\":[0.0,1.0],\"y\":[0.0,-0.9090911149978638],\"z\":[0.0,0.0],\"type\":\"scatter3d\"},{\"mode\":\"lines\",\"x\":[0.0,1.0],\"y\":[0.0,-0.7070708870887756],\"z\":[0.0,0.0],\"type\":\"scatter3d\"},{\"mode\":\"lines\",\"x\":[0.0,1.0],\"y\":[0.0,-0.5050506591796875],\"z\":[0.0,0.0],\"type\":\"scatter3d\"},{\"mode\":\"lines\",\"x\":[0.0,1.0],\"y\":[0.0,-0.30303049087524414],\"z\":[0.0,0.0],\"type\":\"scatter3d\"},{\"mode\":\"lines\",\"x\":[0.0,1.0],\"y\":[0.0,-0.1010102927684784],\"z\":[0.0,0.0],\"type\":\"scatter3d\"},{\"mode\":\"lines\",\"x\":[0.0,1.0],\"y\":[0.0,0.1010102927684784],\"z\":[0.0,0.0],\"type\":\"scatter3d\"},{\"mode\":\"lines\",\"x\":[0.0,1.0],\"y\":[0.0,0.30303049087524414],\"z\":[0.0,0.0],\"type\":\"scatter3d\"},{\"mode\":\"lines\",\"x\":[0.0,1.0],\"y\":[0.0,0.5050506591796875],\"z\":[0.0,0.0],\"type\":\"scatter3d\"},{\"mode\":\"lines\",\"x\":[0.0,1.0],\"y\":[0.0,0.7070708870887756],\"z\":[0.0,0.0],\"type\":\"scatter3d\"},{\"mode\":\"lines\",\"x\":[0.0,1.0],\"y\":[0.0,0.9090911149978638],\"z\":[0.0,0.0],\"type\":\"scatter3d\"},{\"mode\":\"lines\",\"x\":[0.0,1.0],\"y\":[0.0,1.1111112833023071],\"z\":[0.0,0.0],\"type\":\"scatter3d\"},{\"mode\":\"lines\",\"x\":[0.0,1.0],\"y\":[0.0,1.3131314516067505],\"z\":[0.0,0.0],\"type\":\"scatter3d\"},{\"mode\":\"lines\",\"x\":[0.0,1.0],\"y\":[0.0,1.5151517391204834],\"z\":[0.0,0.0],\"type\":\"scatter3d\"},{\"mode\":\"lines\",\"x\":[0.0,1.0],\"y\":[0.0,1.7171719074249268],\"z\":[0.0,0.0],\"type\":\"scatter3d\"},{\"mode\":\"lines\",\"x\":[0.0,1.0],\"y\":[0.0,1.9191920757293701],\"z\":[0.0,0.0],\"type\":\"scatter3d\"},{\"mode\":\"lines\",\"x\":[0.0,1.0],\"y\":[0.0,2.1212122440338135],\"z\":[0.0,0.0],\"type\":\"scatter3d\"},{\"mode\":\"lines\",\"x\":[0.0,1.0],\"y\":[0.0,2.323232412338257],\"z\":[0.0,0.0],\"type\":\"scatter3d\"},{\"mode\":\"lines\",\"x\":[0.0,1.0],\"y\":[0.0,2.5252525806427],\"z\":[0.0,0.0],\"type\":\"scatter3d\"},{\"mode\":\"lines\",\"x\":[0.0,1.0],\"y\":[0.0,2.7272729873657227],\"z\":[0.0,0.0],\"type\":\"scatter3d\"},{\"mode\":\"lines\",\"x\":[0.0,1.0],\"y\":[0.0,2.929293155670166],\"z\":[0.0,0.0],\"type\":\"scatter3d\"},{\"mode\":\"lines\",\"x\":[0.0,1.0],\"y\":[0.0,3.1313133239746094],\"z\":[0.0,0.0],\"type\":\"scatter3d\"},{\"mode\":\"lines\",\"x\":[0.0,1.0],\"y\":[0.0,3.3333334922790527],\"z\":[0.0,0.0],\"type\":\"scatter3d\"},{\"mode\":\"lines\",\"x\":[0.0,1.0],\"y\":[0.0,3.535353660583496],\"z\":[0.0,0.0],\"type\":\"scatter3d\"},{\"mode\":\"lines\",\"x\":[0.0,1.0],\"y\":[0.0,3.7373738288879395],\"z\":[0.0,0.0],\"type\":\"scatter3d\"},{\"mode\":\"lines\",\"x\":[0.0,1.0],\"y\":[0.0,3.939393997192383],\"z\":[0.0,0.0],\"type\":\"scatter3d\"},{\"mode\":\"lines\",\"x\":[0.0,1.0],\"y\":[0.0,4.141414165496826],\"z\":[0.0,0.0],\"type\":\"scatter3d\"},{\"mode\":\"lines\",\"x\":[0.0,1.0],\"y\":[0.0,4.3434343338012695],\"z\":[0.0,0.0],\"type\":\"scatter3d\"},{\"mode\":\"lines\",\"x\":[0.0,1.0],\"y\":[0.0,4.545454502105713],\"z\":[0.0,0.0],\"type\":\"scatter3d\"},{\"mode\":\"lines\",\"x\":[0.0,1.0],\"y\":[0.0,4.747474670410156],\"z\":[0.0,0.0],\"type\":\"scatter3d\"},{\"mode\":\"lines\",\"x\":[0.0,1.0],\"y\":[0.0,4.9494948387146],\"z\":[0.0,0.0],\"type\":\"scatter3d\"},{\"mode\":\"lines\",\"x\":[0.0,1.0],\"y\":[0.0,5.151515007019043],\"z\":[0.0,0.0],\"type\":\"scatter3d\"},{\"mode\":\"lines\",\"x\":[0.0,1.0],\"y\":[0.0,5.3535356521606445],\"z\":[0.0,0.0],\"type\":\"scatter3d\"},{\"mode\":\"lines\",\"x\":[0.0,1.0],\"y\":[0.0,5.555555820465088],\"z\":[0.0,0.0],\"type\":\"scatter3d\"},{\"mode\":\"lines\",\"x\":[0.0,1.0],\"y\":[0.0,5.757575988769531],\"z\":[0.0,0.0],\"type\":\"scatter3d\"},{\"mode\":\"lines\",\"x\":[0.0,1.0],\"y\":[0.0,5.959596157073975],\"z\":[0.0,0.0],\"type\":\"scatter3d\"},{\"mode\":\"lines\",\"x\":[0.0,1.0],\"y\":[0.0,6.161616325378418],\"z\":[0.0,0.0],\"type\":\"scatter3d\"},{\"mode\":\"lines\",\"x\":[0.0,1.0],\"y\":[0.0,6.363636493682861],\"z\":[0.0,0.0],\"type\":\"scatter3d\"},{\"mode\":\"lines\",\"x\":[0.0,1.0],\"y\":[0.0,6.565656661987305],\"z\":[0.0,0.0],\"type\":\"scatter3d\"},{\"mode\":\"lines\",\"x\":[0.0,1.0],\"y\":[0.0,6.767676830291748],\"z\":[0.0,0.0],\"type\":\"scatter3d\"},{\"mode\":\"lines\",\"x\":[0.0,1.0],\"y\":[0.0,6.969696998596191],\"z\":[0.0,0.0],\"type\":\"scatter3d\"},{\"mode\":\"lines\",\"x\":[0.0,1.0],\"y\":[0.0,7.171717166900635],\"z\":[0.0,0.0],\"type\":\"scatter3d\"},{\"mode\":\"lines\",\"x\":[0.0,1.0],\"y\":[0.0,7.373737335205078],\"z\":[0.0,0.0],\"type\":\"scatter3d\"},{\"mode\":\"lines\",\"x\":[0.0,1.0],\"y\":[0.0,7.5757575035095215],\"z\":[0.0,0.0],\"type\":\"scatter3d\"},{\"mode\":\"lines\",\"x\":[0.0,1.0],\"y\":[0.0,7.777777671813965],\"z\":[0.0,0.0],\"type\":\"scatter3d\"},{\"mode\":\"lines\",\"x\":[0.0,1.0],\"y\":[0.0,7.979797840118408],\"z\":[0.0,0.0],\"type\":\"scatter3d\"},{\"mode\":\"lines\",\"x\":[0.0,1.0],\"y\":[0.0,8.181818008422852],\"z\":[0.0,0.0],\"type\":\"scatter3d\"},{\"mode\":\"lines\",\"x\":[0.0,1.0],\"y\":[0.0,8.383838653564453],\"z\":[0.0,0.0],\"type\":\"scatter3d\"},{\"mode\":\"lines\",\"x\":[0.0,1.0],\"y\":[0.0,8.585858345031738],\"z\":[0.0,0.0],\"type\":\"scatter3d\"},{\"mode\":\"lines\",\"x\":[0.0,1.0],\"y\":[0.0,8.78787899017334],\"z\":[0.0,0.0],\"type\":\"scatter3d\"},{\"mode\":\"lines\",\"x\":[0.0,1.0],\"y\":[0.0,8.989898681640625],\"z\":[0.0,0.0],\"type\":\"scatter3d\"},{\"mode\":\"lines\",\"x\":[0.0,1.0],\"y\":[0.0,9.191919326782227],\"z\":[0.0,0.0],\"type\":\"scatter3d\"},{\"mode\":\"lines\",\"x\":[0.0,1.0],\"y\":[0.0,9.393939018249512],\"z\":[0.0,0.0],\"type\":\"scatter3d\"},{\"mode\":\"lines\",\"x\":[0.0,1.0],\"y\":[0.0,9.595959663391113],\"z\":[0.0,0.0],\"type\":\"scatter3d\"},{\"mode\":\"lines\",\"x\":[0.0,1.0],\"y\":[0.0,9.797979354858398],\"z\":[0.0,0.0],\"type\":\"scatter3d\"},{\"mode\":\"lines\",\"x\":[0.0,1.0],\"y\":[0.0,10.0],\"z\":[0.0,0.0],\"type\":\"scatter3d\"},{\"line\":{\"color\":\"black\",\"width\":5},\"mode\":\"lines\",\"x\":[1.0,1.0],\"y\":[-12.0,-6.0],\"z\":[0.0,0.0],\"type\":\"scatter3d\"},{\"line\":{\"color\":\"black\",\"width\":5},\"mode\":\"lines\",\"x\":[0.5,0.5],\"y\":[0.10000000149011612,1.149999976158142],\"z\":[0.0,0.0],\"type\":\"scatter3d\"},{\"line\":{\"color\":\"black\",\"width\":5},\"mode\":\"lines\",\"x\":[2.0,2.0],\"y\":[12.0,21.0],\"z\":[0.0,0.0],\"type\":\"scatter3d\"}],                        {\"height\":600,\"showlegend\":false,\"title\":{\"text\":\"3D rays\"},\"width\":600,\"template\":{\"data\":{\"histogram2dcontour\":[{\"type\":\"histogram2dcontour\",\"colorbar\":{\"outlinewidth\":0,\"ticks\":\"\"},\"colorscale\":[[0.0,\"#0d0887\"],[0.1111111111111111,\"#46039f\"],[0.2222222222222222,\"#7201a8\"],[0.3333333333333333,\"#9c179e\"],[0.4444444444444444,\"#bd3786\"],[0.5555555555555556,\"#d8576b\"],[0.6666666666666666,\"#ed7953\"],[0.7777777777777778,\"#fb9f3a\"],[0.8888888888888888,\"#fdca26\"],[1.0,\"#f0f921\"]]}],\"choropleth\":[{\"type\":\"choropleth\",\"colorbar\":{\"outlinewidth\":0,\"ticks\":\"\"}}],\"histogram2d\":[{\"type\":\"histogram2d\",\"colorbar\":{\"outlinewidth\":0,\"ticks\":\"\"},\"colorscale\":[[0.0,\"#0d0887\"],[0.1111111111111111,\"#46039f\"],[0.2222222222222222,\"#7201a8\"],[0.3333333333333333,\"#9c179e\"],[0.4444444444444444,\"#bd3786\"],[0.5555555555555556,\"#d8576b\"],[0.6666666666666666,\"#ed7953\"],[0.7777777777777778,\"#fb9f3a\"],[0.8888888888888888,\"#fdca26\"],[1.0,\"#f0f921\"]]}],\"heatmap\":[{\"type\":\"heatmap\",\"colorbar\":{\"outlinewidth\":0,\"ticks\":\"\"},\"colorscale\":[[0.0,\"#0d0887\"],[0.1111111111111111,\"#46039f\"],[0.2222222222222222,\"#7201a8\"],[0.3333333333333333,\"#9c179e\"],[0.4444444444444444,\"#bd3786\"],[0.5555555555555556,\"#d8576b\"],[0.6666666666666666,\"#ed7953\"],[0.7777777777777778,\"#fb9f3a\"],[0.8888888888888888,\"#fdca26\"],[1.0,\"#f0f921\"]]}],\"heatmapgl\":[{\"type\":\"heatmapgl\",\"colorbar\":{\"outlinewidth\":0,\"ticks\":\"\"},\"colorscale\":[[0.0,\"#0d0887\"],[0.1111111111111111,\"#46039f\"],[0.2222222222222222,\"#7201a8\"],[0.3333333333333333,\"#9c179e\"],[0.4444444444444444,\"#bd3786\"],[0.5555555555555556,\"#d8576b\"],[0.6666666666666666,\"#ed7953\"],[0.7777777777777778,\"#fb9f3a\"],[0.8888888888888888,\"#fdca26\"],[1.0,\"#f0f921\"]]}],\"contourcarpet\":[{\"type\":\"contourcarpet\",\"colorbar\":{\"outlinewidth\":0,\"ticks\":\"\"}}],\"contour\":[{\"type\":\"contour\",\"colorbar\":{\"outlinewidth\":0,\"ticks\":\"\"},\"colorscale\":[[0.0,\"#0d0887\"],[0.1111111111111111,\"#46039f\"],[0.2222222222222222,\"#7201a8\"],[0.3333333333333333,\"#9c179e\"],[0.4444444444444444,\"#bd3786\"],[0.5555555555555556,\"#d8576b\"],[0.6666666666666666,\"#ed7953\"],[0.7777777777777778,\"#fb9f3a\"],[0.8888888888888888,\"#fdca26\"],[1.0,\"#f0f921\"]]}],\"surface\":[{\"type\":\"surface\",\"colorbar\":{\"outlinewidth\":0,\"ticks\":\"\"},\"colorscale\":[[0.0,\"#0d0887\"],[0.1111111111111111,\"#46039f\"],[0.2222222222222222,\"#7201a8\"],[0.3333333333333333,\"#9c179e\"],[0.4444444444444444,\"#bd3786\"],[0.5555555555555556,\"#d8576b\"],[0.6666666666666666,\"#ed7953\"],[0.7777777777777778,\"#fb9f3a\"],[0.8888888888888888,\"#fdca26\"],[1.0,\"#f0f921\"]]}],\"mesh3d\":[{\"type\":\"mesh3d\",\"colorbar\":{\"outlinewidth\":0,\"ticks\":\"\"}}],\"scatter\":[{\"fillpattern\":{\"fillmode\":\"overlay\",\"size\":10,\"solidity\":0.2},\"type\":\"scatter\"}],\"parcoords\":[{\"type\":\"parcoords\",\"line\":{\"colorbar\":{\"outlinewidth\":0,\"ticks\":\"\"}}}],\"scatterpolargl\":[{\"type\":\"scatterpolargl\",\"marker\":{\"colorbar\":{\"outlinewidth\":0,\"ticks\":\"\"}}}],\"bar\":[{\"error_x\":{\"color\":\"#2a3f5f\"},\"error_y\":{\"color\":\"#2a3f5f\"},\"marker\":{\"line\":{\"color\":\"#E5ECF6\",\"width\":0.5},\"pattern\":{\"fillmode\":\"overlay\",\"size\":10,\"solidity\":0.2}},\"type\":\"bar\"}],\"scattergeo\":[{\"type\":\"scattergeo\",\"marker\":{\"colorbar\":{\"outlinewidth\":0,\"ticks\":\"\"}}}],\"scatterpolar\":[{\"type\":\"scatterpolar\",\"marker\":{\"colorbar\":{\"outlinewidth\":0,\"ticks\":\"\"}}}],\"histogram\":[{\"marker\":{\"pattern\":{\"fillmode\":\"overlay\",\"size\":10,\"solidity\":0.2}},\"type\":\"histogram\"}],\"scattergl\":[{\"type\":\"scattergl\",\"marker\":{\"colorbar\":{\"outlinewidth\":0,\"ticks\":\"\"}}}],\"scatter3d\":[{\"type\":\"scatter3d\",\"line\":{\"colorbar\":{\"outlinewidth\":0,\"ticks\":\"\"}},\"marker\":{\"colorbar\":{\"outlinewidth\":0,\"ticks\":\"\"}}}],\"scattermapbox\":[{\"type\":\"scattermapbox\",\"marker\":{\"colorbar\":{\"outlinewidth\":0,\"ticks\":\"\"}}}],\"scatterternary\":[{\"type\":\"scatterternary\",\"marker\":{\"colorbar\":{\"outlinewidth\":0,\"ticks\":\"\"}}}],\"scattercarpet\":[{\"type\":\"scattercarpet\",\"marker\":{\"colorbar\":{\"outlinewidth\":0,\"ticks\":\"\"}}}],\"carpet\":[{\"aaxis\":{\"endlinecolor\":\"#2a3f5f\",\"gridcolor\":\"white\",\"linecolor\":\"white\",\"minorgridcolor\":\"white\",\"startlinecolor\":\"#2a3f5f\"},\"baxis\":{\"endlinecolor\":\"#2a3f5f\",\"gridcolor\":\"white\",\"linecolor\":\"white\",\"minorgridcolor\":\"white\",\"startlinecolor\":\"#2a3f5f\"},\"type\":\"carpet\"}],\"table\":[{\"cells\":{\"fill\":{\"color\":\"#EBF0F8\"},\"line\":{\"color\":\"white\"}},\"header\":{\"fill\":{\"color\":\"#C8D4E3\"},\"line\":{\"color\":\"white\"}},\"type\":\"table\"}],\"barpolar\":[{\"marker\":{\"line\":{\"color\":\"#E5ECF6\",\"width\":0.5},\"pattern\":{\"fillmode\":\"overlay\",\"size\":10,\"solidity\":0.2}},\"type\":\"barpolar\"}],\"pie\":[{\"automargin\":true,\"type\":\"pie\"}]},\"layout\":{\"autotypenumbers\":\"strict\",\"colorway\":[\"#636efa\",\"#EF553B\",\"#00cc96\",\"#ab63fa\",\"#FFA15A\",\"#19d3f3\",\"#FF6692\",\"#B6E880\",\"#FF97FF\",\"#FECB52\"],\"font\":{\"color\":\"#2a3f5f\"},\"hovermode\":\"closest\",\"hoverlabel\":{\"align\":\"left\"},\"paper_bgcolor\":\"white\",\"plot_bgcolor\":\"#E5ECF6\",\"polar\":{\"bgcolor\":\"#E5ECF6\",\"angularaxis\":{\"gridcolor\":\"white\",\"linecolor\":\"white\",\"ticks\":\"\"},\"radialaxis\":{\"gridcolor\":\"white\",\"linecolor\":\"white\",\"ticks\":\"\"}},\"ternary\":{\"bgcolor\":\"#E5ECF6\",\"aaxis\":{\"gridcolor\":\"white\",\"linecolor\":\"white\",\"ticks\":\"\"},\"baxis\":{\"gridcolor\":\"white\",\"linecolor\":\"white\",\"ticks\":\"\"},\"caxis\":{\"gridcolor\":\"white\",\"linecolor\":\"white\",\"ticks\":\"\"}},\"coloraxis\":{\"colorbar\":{\"outlinewidth\":0,\"ticks\":\"\"}},\"colorscale\":{\"sequential\":[[0.0,\"#0d0887\"],[0.1111111111111111,\"#46039f\"],[0.2222222222222222,\"#7201a8\"],[0.3333333333333333,\"#9c179e\"],[0.4444444444444444,\"#bd3786\"],[0.5555555555555556,\"#d8576b\"],[0.6666666666666666,\"#ed7953\"],[0.7777777777777778,\"#fb9f3a\"],[0.8888888888888888,\"#fdca26\"],[1.0,\"#f0f921\"]],\"sequentialminus\":[[0.0,\"#0d0887\"],[0.1111111111111111,\"#46039f\"],[0.2222222222222222,\"#7201a8\"],[0.3333333333333333,\"#9c179e\"],[0.4444444444444444,\"#bd3786\"],[0.5555555555555556,\"#d8576b\"],[0.6666666666666666,\"#ed7953\"],[0.7777777777777778,\"#fb9f3a\"],[0.8888888888888888,\"#fdca26\"],[1.0,\"#f0f921\"]],\"diverging\":[[0,\"#8e0152\"],[0.1,\"#c51b7d\"],[0.2,\"#de77ae\"],[0.3,\"#f1b6da\"],[0.4,\"#fde0ef\"],[0.5,\"#f7f7f7\"],[0.6,\"#e6f5d0\"],[0.7,\"#b8e186\"],[0.8,\"#7fbc41\"],[0.9,\"#4d9221\"],[1,\"#276419\"]]},\"xaxis\":{\"gridcolor\":\"white\",\"linecolor\":\"white\",\"ticks\":\"\",\"title\":{\"standoff\":15},\"zerolinecolor\":\"white\",\"automargin\":true,\"zerolinewidth\":2},\"yaxis\":{\"gridcolor\":\"white\",\"linecolor\":\"white\",\"ticks\":\"\",\"title\":{\"standoff\":15},\"zerolinecolor\":\"white\",\"automargin\":true,\"zerolinewidth\":2},\"scene\":{\"xaxis\":{\"backgroundcolor\":\"#E5ECF6\",\"gridcolor\":\"white\",\"linecolor\":\"white\",\"showbackground\":true,\"ticks\":\"\",\"zerolinecolor\":\"white\",\"gridwidth\":2},\"yaxis\":{\"backgroundcolor\":\"#E5ECF6\",\"gridcolor\":\"white\",\"linecolor\":\"white\",\"showbackground\":true,\"ticks\":\"\",\"zerolinecolor\":\"white\",\"gridwidth\":2},\"zaxis\":{\"backgroundcolor\":\"#E5ECF6\",\"gridcolor\":\"white\",\"linecolor\":\"white\",\"showbackground\":true,\"ticks\":\"\",\"zerolinecolor\":\"white\",\"gridwidth\":2}},\"shapedefaults\":{\"line\":{\"color\":\"#2a3f5f\"}},\"annotationdefaults\":{\"arrowcolor\":\"#2a3f5f\",\"arrowhead\":0,\"arrowwidth\":1},\"geo\":{\"bgcolor\":\"white\",\"landcolor\":\"#E5ECF6\",\"subunitcolor\":\"white\",\"showland\":true,\"showlakes\":true,\"lakecolor\":\"white\"},\"title\":{\"x\":0.05},\"mapbox\":{\"style\":\"light\"}}}},                        {\"responsive\": true}                    ).then(function(){\n",
       "                            \n",
       "var gd = document.getElementById('9ace4cf0-a6f1-4490-a6d6-256ec6ae3d68');\n",
       "var x = new MutationObserver(function (mutations, observer) {{\n",
       "        var display = window.getComputedStyle(gd).display;\n",
       "        if (!display || display === 'none') {{\n",
       "            console.log([gd, 'removed!']);\n",
       "            Plotly.purge(gd);\n",
       "            observer.disconnect();\n",
       "        }}\n",
       "}});\n",
       "\n",
       "// Listen for the removal of the full notebook cells\n",
       "var notebookContainer = gd.closest('#notebook-container');\n",
       "if (notebookContainer) {{\n",
       "    x.observe(notebookContainer, {childList: true});\n",
       "}}\n",
       "\n",
       "// Listen for the clearing of the current output cell\n",
       "var outputEl = gd.closest('.output');\n",
       "if (outputEl) {{\n",
       "    x.observe(outputEl, {childList: true});\n",
       "}}\n",
       "\n",
       "                        })                };                });            </script>        </div>"
      ]
     },
     "metadata": {},
     "output_type": "display_data"
    }
   ],
   "source": [
    "segments = t.tensor([\n",
    "    [[1.0, -12.0, 0.0], [1, -6.0, 0.0]], \n",
    "    [[0.5, 0.1, 0.0], [0.5, 1.15, 0.0]], \n",
    "    [[2, 12.0, 0.0], [2, 21.0, 0.0]]\n",
    "])\n",
    "render_lines_with_plotly(rays1d, segments)"
   ]
  },
  {
   "cell_type": "code",
   "execution_count": 31,
   "id": "03c6d88c-6435-47db-88b6-7bbf55ea5fc7",
   "metadata": {
    "execution": {
     "iopub.execute_input": "2024-07-13T19:01:46.703805Z",
     "iopub.status.busy": "2024-07-13T19:01:46.703486Z",
     "iopub.status.idle": "2024-07-13T19:01:46.725707Z",
     "shell.execute_reply": "2024-07-13T19:01:46.725050Z",
     "shell.execute_reply.started": "2024-07-13T19:01:46.703782Z"
    }
   },
   "outputs": [
    {
     "name": "stdout",
     "output_type": "stream",
     "text": [
      "All tests in `test_intersect_ray_1d` passed!\n",
      "All tests in `test_intersect_ray_1d_special_case` passed!\n"
     ]
    }
   ],
   "source": [
    "def intersect_ray_1d(ray: t.Tensor, segment: t.Tensor) -> bool:\n",
    "    '''\n",
    "    ray: shape (n_points=2, n_dim=3)  # O, D points\n",
    "    segment: shape (n_points=2, n_dim=3)  # L_1, L_2 points\n",
    "\n",
    "    Return True if the ray intersects the segment.\n",
    "    '''\n",
    "    o, d = ray\n",
    "    l1, l2 = segment\n",
    "\n",
    "    A = t.stack([d, l1 - l2], dim=1)[:2] # Ditch z-coordinate\n",
    "    b = (l1 - o)[:2]  # Ditch z-coordinate\n",
    "    try:\n",
    "        u, v= [z.item() for z in t.linalg.solve(A, b)]\n",
    "    except Exception:\n",
    "        return False\n",
    "    \n",
    "    return (u >= 0) and (0 <= v <= 1)\n",
    "\n",
    "\n",
    "tests.test_intersect_ray_1d(intersect_ray_1d)\n",
    "tests.test_intersect_ray_1d_special_case(intersect_ray_1d)"
   ]
  },
  {
   "cell_type": "markdown",
   "id": "faa46b3b-1a93-4434-b8b1-d8429f9468c7",
   "metadata": {},
   "source": [
    "# Batched Operations"
   ]
  },
  {
   "cell_type": "code",
   "execution_count": null,
   "id": "aa144b5d-b2e3-4100-b86b-e6dbf89ce56b",
   "metadata": {},
   "outputs": [],
   "source": []
  }
 ],
 "metadata": {
  "kernelspec": {
   "display_name": "Python 3 (ipykernel)",
   "language": "python",
   "name": "python3"
  },
  "language_info": {
   "codemirror_mode": {
    "name": "ipython",
    "version": 3
   },
   "file_extension": ".py",
   "mimetype": "text/x-python",
   "name": "python",
   "nbconvert_exporter": "python",
   "pygments_lexer": "ipython3",
   "version": "3.12.4"
  }
 },
 "nbformat": 4,
 "nbformat_minor": 5
}
