{
 "cells": [
  {
   "cell_type": "markdown",
   "id": "0ee2024d-6b11-47ab-ac7a-5ce49d51ca37",
   "metadata": {},
   "source": [
    "### Problem 2.1 To walk “downhill” on the loss function (equation 2.5), we measure its gradient with respect to the parameters ϕ0 and ϕ1. Calculate expressions for the slopes ∂L/∂ϕ0 and ∂L/∂ϕ1."
   ]
  },
  {
   "cell_type": "markdown",
   "id": "3e188e6a-01f4-49ec-8aca-5b3215919c89",
   "metadata": {},
   "source": [
    "$L[\\phi] = \\sum\\limits_i^I (\\phi_0 + \\phi_1 * x_i - y_i)^2$\n",
    "\n",
    "$\\frac{\\partial L}{\\partial \\phi_0} = \\sum\\limits_i^I 2(\\phi_0 + \\phi_1 * x_i - y_i)$\n",
    "\n",
    "$\\frac{\\partial L}{\\partial \\phi_1} = \\sum\\limits_i^I 2(\\phi_0 + \\phi_1 * x_i - y_i)*x_i$"
   ]
  },
  {
   "cell_type": "markdown",
   "id": "9669ce22-1171-43c4-9372-28869b69cd0e",
   "metadata": {},
   "source": [
    "### Problem 2.2 Show that we can find the minimum of the loss function in closed form by setting the expression for the derivatives from problem 2.1 to zero and solving for ϕ0 and ϕ1. Note that this works for linear regression but not for more complex models; this is why we use iterative model fitting methods like gradient descent (figure 2.4)."
   ]
  },
  {
   "cell_type": "markdown",
   "id": "63efcc93-542e-466f-be06-7f7ea572c332",
   "metadata": {
    "execution": {
     "iopub.execute_input": "2024-07-21T17:40:46.377697Z",
     "iopub.status.busy": "2024-07-21T17:40:46.377369Z",
     "iopub.status.idle": "2024-07-21T17:40:46.383946Z",
     "shell.execute_reply": "2024-07-21T17:40:46.382844Z",
     "shell.execute_reply.started": "2024-07-21T17:40:46.377669Z"
    }
   },
   "source": [
    "1. $\\frac{\\partial L}{\\partial \\phi_0} = \\sum\\limits_i^I 2(\\phi_0 + \\phi_1 * x_i - y_i) = 0$ \n",
    "2. $\\frac{\\partial L}{\\partial \\phi_1} = \\sum\\limits_i^I 2(\\phi_0 + \\phi_1 * x_i - y_i)*x_i = 0$ \n",
    "\n",
    "From (1.)\n",
    "\n",
    "$\\sum\\limits_i^I (\\phi_0 + \\phi_1 * x_i - y_i) = 0$\n",
    "\n",
    "$\\phi_0 * I + \\phi_1 * \\sum\\limits_i^I x_i =  \\sum\\limits_i^I y_i$\n",
    "\n",
    "3. $\\phi_0 + \\phi_1 * \\overline{x} =  \\overline{y}$\n",
    "\n",
    "From (2.)\n",
    "\n",
    "$\\sum\\limits_i^I (\\phi_0 + \\phi_1 * x_i - y_i)*x_i = 0$\n",
    "\n",
    "$\\phi_0 * \\sum\\limits_i^I x_i + \\phi_1 * \\sum\\limits_i^I x_i^2 =  \\sum\\limits_i^I x_i *y_i$\n",
    "\n",
    "4. $\\phi_0 \\overline{x} + \\phi_1 * \\overline{x^2} =  \\overline{xy}$\n",
    "\n",
    "Multiply (3.) by $-\\overline{x}$ and add to (4.)\n",
    "\n",
    "$\\phi_1 * (\\overline{x^2} - \\overline{x}^2) = (\\overline{xy} - \\overline{x}\\overline{y})$\n",
    "\n",
    "$\\phi_1 = \\frac{Cov(x, y)}{Var(x)}$\n",
    "\n",
    "$\\phi_0 = \\overline{y} - \\frac{Cov(x, y)}{Var(x)} \\overline{x}$\n",
    "\n",
    "\n",
    "\n",
    "\n",
    "\n"
   ]
  },
  {
   "cell_type": "markdown",
   "id": "a02f1bff-f86e-43a0-92b1-de9796021128",
   "metadata": {
    "execution": {
     "iopub.execute_input": "2024-07-21T18:22:46.598757Z",
     "iopub.status.busy": "2024-07-21T18:22:46.598349Z",
     "iopub.status.idle": "2024-07-21T18:22:46.602915Z",
     "shell.execute_reply": "2024-07-21T18:22:46.602112Z",
     "shell.execute_reply.started": "2024-07-21T18:22:46.598730Z"
    }
   },
   "source": [
    "### Problem 2.3∗ Consider reformulating linear regression as a generative model, so we have x = g[y, ϕ] = ϕ0 + ϕ1y. What is the new loss function? Find an expression for the inverse function y = g−1[x, ϕ] that we would use to perform inference. Will this model make the same predictions as the discriminative version for a given training dataset {xi, yi}? One way to establish this is to write code that fits a line to three data points using both methods and see if the result is the same."
   ]
  },
  {
   "cell_type": "code",
   "execution_count": 11,
   "id": "2f909ccb-2c80-4902-8852-8d66177a2a6d",
   "metadata": {
    "execution": {
     "iopub.execute_input": "2024-07-21T18:33:54.630208Z",
     "iopub.status.busy": "2024-07-21T18:33:54.629817Z",
     "iopub.status.idle": "2024-07-21T18:33:54.774484Z",
     "shell.execute_reply": "2024-07-21T18:33:54.773858Z",
     "shell.execute_reply.started": "2024-07-21T18:33:54.630181Z"
    }
   },
   "outputs": [
    {
     "data": {
      "text/plain": [
       "<matplotlib.collections.PathCollection at 0x7fc7fe41ef00>"
      ]
     },
     "execution_count": 11,
     "metadata": {},
     "output_type": "execute_result"
    },
    {
     "data": {
      "image/png": "[encoded data removed]",
      "text/plain": [
       "<Figure size 640x480 with 1 Axes>"
      ]
     },
     "metadata": {},
     "output_type": "display_data"
    }
   ],
   "source": [
    "# New loss is L[phi] = sum(phi_0 + phi_1y_i - x_i). I.e. we minimize the horizontal distance between the points and the line instead of the vertical distance.\n",
    "# This is essentially the inverse problem and presumes the measurement error is in the input space instead of the output space. That is, instead of \n",
    "# y_i = phi_0 + phi_1 * x_i + eps_i\n",
    "# We think \n",
    "# y_i = phi_0 + phi_1 * (x_i + eps_i)\n",
    "#\n",
    "# The model will make different predicitons in this situation. \n",
    "\n",
    "import numpy as np\n",
    "import matplotlib.pyplot as plt\n",
    "\n",
    "# Generate data\n",
    "seed = 42\n",
    "eps_in = 1  # size of noise in inputs\n",
    "eps_out = .5  # size of noise in outputs\n",
    "size = 100\n",
    "rs = np.random.RandomState(seed)\n",
    "\n",
    "xmax = 10\n",
    "x_true = xmax * rs.random(size)\n",
    "x = x_true + 2*eps_in*rs.random(size) # input measurement error\n",
    "\n",
    "b0, b1 = 30, 1.5\n",
    "y_true = b0 + b1 * x_true\n",
    "y = y_true + eps*rs.random(size) # output measurement error\n",
    "\n",
    "plt.scatter(x, y)\n",
    "\n",
    "\n",
    "\n",
    "\n"
   ]
  },
  {
   "cell_type": "code",
   "execution_count": null,
   "id": "cdeb4c2f-0c00-4618-8081-039edb6bc925",
   "metadata": {},
   "outputs": [],
   "source": []
  }
 ],
 "metadata": {
  "kernelspec": {
   "display_name": "Python 3 (ipykernel)",
   "language": "python",
   "name": "python3"
  },
  "language_info": {
   "codemirror_mode": {
    "name": "ipython",
    "version": 3
   },
   "file_extension": ".py",
   "mimetype": "text/x-python",
   "name": "python",
   "nbconvert_exporter": "python",
   "pygments_lexer": "ipython3",
   "version": "3.12.4"
  }
 },
 "nbformat": 4,
 "nbformat_minor": 5
}
