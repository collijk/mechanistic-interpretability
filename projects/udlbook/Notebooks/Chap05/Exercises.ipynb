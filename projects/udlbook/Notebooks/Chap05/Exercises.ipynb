{
 "cells": [
  {
   "cell_type": "markdown",
   "id": "67738997-7798-41ac-a7d8-abefb358d6d0",
   "metadata": {},
   "source": [
    "### Problem 5.1 Show that the logistic sigmoid function sig[z] becomes 0 as z → −∞, is 0.5 when z = 0, and becomes 1 when z → ∞, where: sig[z] = 1 1 + exp[−z]. "
   ]
  },
  {
   "cell_type": "code",
   "execution_count": null,
   "id": "e3b0c888-e623-4089-aac6-cae2d54f9cfa",
   "metadata": {},
   "outputs": [],
   "source": []
  },
  {
   "cell_type": "markdown",
   "id": "5fdfd283-180d-43eb-a187-55a95f1c8237",
   "metadata": {},
   "source": [
    "### Problem 5.2 The loss L for binary classification for a single training pair {x, y} is: L = −(1 − y) logh 1 − sig[f[x, ϕ]]i − y logh sig[f[x, ϕ]]i , (5.33) where sig[•] is defined in equation 5.32.  lot this loss as a function of the transformed network output sig[f[x, ϕ]] ∈ [0, 1] (i) when the training label y = 0 and (ii) when y = 1."
   ]
  },
  {
   "cell_type": "code",
   "execution_count": null,
   "id": "88fb61ab-650b-4c51-a131-5a8f1faed337",
   "metadata": {},
   "outputs": [],
   "source": []
  },
  {
   "cell_type": "markdown",
   "id": "9ea9639c-02ac-42a3-8af9-a52a3a4a3f84",
   "metadata": {},
   "source": [
    "### Problem 5.3∗ Suppose we want to build a model that predicts the direction y in radians of the prevailing wind based on local measurements of barometric pressure x. A suitable distribution over circular domains is the von Mises distribution (figure 5.13): P r(y|µ, κ) = exp κ cos[y − µ] 2π · Bessel0[κ],where µ is a measure of the mean direction and κ is a measure of concentration (i.e., the inverse of the variance). The term Bessel0[κ] is a modified Bessel function of the first kind of order 0. Use the recipe from section 5.2 to develop a loss function for learning the parameter µ of a model f[x, ϕ] to predict the most likely wind direction. Your solution should treat the concentration κ as constant. How would you perform inference?"
   ]
  },
  {
   "cell_type": "code",
   "execution_count": null,
   "id": "4d09b71b-da35-45c1-8b6e-b780ab42c6e0",
   "metadata": {},
   "outputs": [],
   "source": []
  },
  {
   "cell_type": "markdown",
   "id": "62986f78-0bfd-4b38-a161-88b626dde565",
   "metadata": {},
   "source": [
    "### Problem 5.4∗ Sometimes, the outputs y for input x are multimodal (figure 5.14a); there is more than one valid prediction for a given input. Here, we might use a weighted sum of normal components as the distribution over the output. This is known as a mixture of Gaussians model. For example, a mixture of two Gaussians has parameters θ = {λ, µ1, σ12 1, µ2, σ22}: P r(y|λ, µ1, µ2, σ21, σ22) = λp2πσ21 exp \u0014−(y − µ1)22σ21\u0015 + 1 − λp2πσ22exp \u0014−(y − µ2)22σ22\u0015, (5.35) where λ ∈ [0, 1] controls the relative weight of the two components, which have means µ1, µ2and variances σ21, σ22, respectively. This model can represent a distribution with two peaks (figure 5.14b) or a distribution with one peak but a more complex shape (figure 5.14c).Use the recipe from section 5.2 to construct a loss function for training a model f[x, ϕ] that takes input x, has parameters ϕ, and predicts a mixture of two Gaussians. The loss should be based on I training data pairs {xi, yi}. What problems do you foresee when performing inference?"
   ]
  },
  {
   "cell_type": "code",
   "execution_count": null,
   "id": "bba40846-4886-41c9-a743-7df06fe3d1ca",
   "metadata": {},
   "outputs": [],
   "source": []
  },
  {
   "cell_type": "markdown",
   "id": "8afadf6d-7d86-4120-8661-20587c4da588",
   "metadata": {},
   "source": [
    "### Problem 5.5 Consider extending the model from problem 5.3 to predict the wind direction using a mixture of two von Mises distributions. Write an expression for the likelihood P r(y|θ) for this model. How many outputs will the network need to produce?"
   ]
  },
  {
   "cell_type": "code",
   "execution_count": null,
   "id": "8651b6a6-54a6-4f6a-ab88-70e2cfcfaf64",
   "metadata": {},
   "outputs": [],
   "source": []
  },
  {
   "cell_type": "markdown",
   "id": "0bca510c-0e8d-4e1c-9439-3bf8b53a4e11",
   "metadata": {},
   "source": [
    "### Problem 5.6 Consider building a model to predict the number of pedestrians y ∈ {0, 1, 2, . . .} that will pass a given point in the city in the next minute, based on data x that contains information about the time of day, the longitude and latitude, and the type of neighborhood. A suitable distribution for modeling counts is the Poisson distribution (figure 5.15). This has a single parameter λ > 0 called the rate that represents the mean of the distribution. The distribution has probability density function: P r(y = k) = λke−λk!. (5.36) Design a loss function for this model assuming we have access to I training pairs {xi, yi}."
   ]
  },
  {
   "cell_type": "code",
   "execution_count": null,
   "id": "0493d1d5-3638-4781-bb9e-425d2f0cab28",
   "metadata": {},
   "outputs": [],
   "source": []
  },
  {
   "cell_type": "markdown",
   "id": "3c7f2fcc-40b6-4832-8550-b44d56bc50d0",
   "metadata": {},
   "source": [
    "### Problem 5.7 Consider a multivariate regression problem where we predict ten outputs, so y ∈ R10, and model each with an independent normal distribution where the means µd are predicted by the network, and variances σ2 are constant. Write an expression for the likelihood P r(y|f[x, ϕ]). Show that minimizing the negative log-likelihood of this model is still equivalent to minimizing a sum of squared terms if we don’t estimate the variance σ2"
   ]
  },
  {
   "cell_type": "code",
   "execution_count": null,
   "id": "157ded75-5ad0-4635-ad5b-bf9a7258c577",
   "metadata": {},
   "outputs": [],
   "source": []
  },
  {
   "cell_type": "markdown",
   "id": "43c627df-6d16-4392-b8bd-8c8b3d4e8375",
   "metadata": {},
   "source": [
    "### Problem 5.8∗ Construct a loss function for making multivariate predictions y ∈ R Do based on independent normal distributions with different variances σ2d for each dimension. Assume a heteroscedastic model so that both the means µd and variances σ2 d vary as a function of the data."
   ]
  },
  {
   "cell_type": "code",
   "execution_count": null,
   "id": "04ff3b51-67d4-4288-96d7-1580c607263a",
   "metadata": {},
   "outputs": [],
   "source": []
  },
  {
   "cell_type": "markdown",
   "id": "89cbf53e-ae71-43f1-a395-21332066034c",
   "metadata": {},
   "source": [
    "### Problem 5.9∗ Consider a multivariate regression problem in which we predict the height of a person in meters and their weight in kilos from data x. Here, the units take quite different ranges. What problems do you see this causing? Propose two solutions to these problems."
   ]
  },
  {
   "cell_type": "code",
   "execution_count": null,
   "id": "678d769a-7c27-4e0c-92a8-5207541bd704",
   "metadata": {},
   "outputs": [],
   "source": []
  },
  {
   "cell_type": "markdown",
   "id": "daf078b8-cd88-46f0-9245-d66f1825b413",
   "metadata": {},
   "source": [
    "### Problem 5.10 Extend the model from problem 5.3 to predict both the wind direction and the wind speed and define the associated loss function."
   ]
  },
  {
   "cell_type": "code",
   "execution_count": null,
   "id": "70b42544-5831-4220-82e1-68c1dbb48910",
   "metadata": {},
   "outputs": [],
   "source": []
  }
 ],
 "metadata": {
  "kernelspec": {
   "display_name": "Python 3 (ipykernel)",
   "language": "python",
   "name": "python3"
  },
  "language_info": {
   "codemirror_mode": {
    "name": "ipython",
    "version": 3
   },
   "file_extension": ".py",
   "mimetype": "text/x-python",
   "name": "python",
   "nbconvert_exporter": "python",
   "pygments_lexer": "ipython3",
   "version": "3.12.4"
  }
 },
 "nbformat": 4,
 "nbformat_minor": 5
}
