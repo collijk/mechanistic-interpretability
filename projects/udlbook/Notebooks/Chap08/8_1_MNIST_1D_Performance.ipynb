{
 "cells": [
  {
   "cell_type": "markdown",
   "metadata": {
    "colab_type": "text",
    "id": "view-in-github"
   },
   "source": [
    "<a href=\"https://colab.research.google.com/github/udlbook/udlbook/blob/main/Notebooks/Chap08/8_1_MNIST_1D_Performance.ipynb\" target=\"_parent\"><img src=\"https://colab.research.google.com/assets/colab-badge.svg\" alt=\"Open In Colab\"/></a>"
   ]
  },
  {
   "cell_type": "markdown",
   "metadata": {
    "id": "L6chybAVFJW2"
   },
   "source": [
    "# **Notebook 8.1: MNIST_1D_Performance**\n",
    "\n",
    "This notebook runs a simple neural network on the MNIST1D dataset as in figure 8.2a. It uses code from https://github.com/greydanus/mnist1d to generate the data.\n",
    "\n",
    "Work through the cells below, running each cell in turn. In various places you will see the words \"TO DO\". Follow the instructions at these places and make predictions about what is going to happen or write code to complete the functions.\n",
    "\n",
    "Contact me at udlbookmail@gmail.com if you find any mistakes or have any suggestions."
   ]
  },
  {
   "cell_type": "code",
   "execution_count": 5,
   "metadata": {
    "execution": {
     "iopub.execute_input": "2024-08-05T00:29:19.130572Z",
     "iopub.status.busy": "2024-08-05T00:29:19.130163Z",
     "iopub.status.idle": "2024-08-05T00:29:30.672351Z",
     "shell.execute_reply": "2024-08-05T00:29:30.671549Z",
     "shell.execute_reply.started": "2024-08-05T00:29:19.130550Z"
    },
    "id": "ifVjS4cTOqKz"
   },
   "outputs": [
    {
     "name": "stdout",
     "output_type": "stream",
     "text": [
      "Looking in indexes: https://pypi.org/simple, https://artifactory.ihme.washington.edu/artifactory/api/pypi/pypi-shared/simple\n",
      "Collecting git+https://github.com/greydanus/mnist1d\n",
      "  Cloning https://github.com/greydanus/mnist1d to /tmp/pip-req-build-hvbnqhnm\n",
      "  Running command git clone --filter=blob:none --quiet https://github.com/greydanus/mnist1d /tmp/pip-req-build-hvbnqhnm\n",
      "  Resolved https://github.com/greydanus/mnist1d to commit 350929d12f4c9a4b7355e0c96604e41b9239bdb4\n",
      "  Installing build dependencies ... \u001b[?25ldone\n",
      "\u001b[?25h  Getting requirements to build wheel ... \u001b[?25ldone\n",
      "\u001b[?25h  Preparing metadata (pyproject.toml) ... \u001b[?25ldone\n",
      "\u001b[?25hRequirement already satisfied: requests in /mnt/share/code/collijk/miniconda/envs/mi/lib/python3.12/site-packages (from mnist1d==0.0.2.post9) (2.32.3)\n",
      "Requirement already satisfied: numpy in /mnt/share/code/collijk/miniconda/envs/mi/lib/python3.12/site-packages (from mnist1d==0.0.2.post9) (2.0.0)\n",
      "Requirement already satisfied: matplotlib in /mnt/share/code/collijk/miniconda/envs/mi/lib/python3.12/site-packages (from mnist1d==0.0.2.post9) (3.9.1)\n",
      "Requirement already satisfied: scipy in /mnt/share/code/collijk/miniconda/envs/mi/lib/python3.12/site-packages (from mnist1d==0.0.2.post9) (1.14.0)\n",
      "Requirement already satisfied: contourpy>=1.0.1 in /mnt/share/code/collijk/miniconda/envs/mi/lib/python3.12/site-packages (from matplotlib->mnist1d==0.0.2.post9) (1.2.1)\n",
      "Requirement already satisfied: cycler>=0.10 in /mnt/share/code/collijk/miniconda/envs/mi/lib/python3.12/site-packages (from matplotlib->mnist1d==0.0.2.post9) (0.12.1)\n",
      "Requirement already satisfied: fonttools>=4.22.0 in /mnt/share/code/collijk/miniconda/envs/mi/lib/python3.12/site-packages (from matplotlib->mnist1d==0.0.2.post9) (4.53.1)\n",
      "Requirement already satisfied: kiwisolver>=1.3.1 in /mnt/share/code/collijk/miniconda/envs/mi/lib/python3.12/site-packages (from matplotlib->mnist1d==0.0.2.post9) (1.4.5)\n",
      "Requirement already satisfied: packaging>=20.0 in /mnt/share/code/collijk/miniconda/envs/mi/lib/python3.12/site-packages (from matplotlib->mnist1d==0.0.2.post9) (24.1)\n",
      "Requirement already satisfied: pillow>=8 in /mnt/share/code/collijk/miniconda/envs/mi/lib/python3.12/site-packages (from matplotlib->mnist1d==0.0.2.post9) (10.4.0)\n",
      "Requirement already satisfied: pyparsing>=2.3.1 in /mnt/share/code/collijk/miniconda/envs/mi/lib/python3.12/site-packages (from matplotlib->mnist1d==0.0.2.post9) (3.1.2)\n",
      "Requirement already satisfied: python-dateutil>=2.7 in /mnt/share/code/collijk/miniconda/envs/mi/lib/python3.12/site-packages (from matplotlib->mnist1d==0.0.2.post9) (2.9.0.post0)\n",
      "Requirement already satisfied: charset-normalizer<4,>=2 in /mnt/share/code/collijk/miniconda/envs/mi/lib/python3.12/site-packages (from requests->mnist1d==0.0.2.post9) (3.3.2)\n",
      "Requirement already satisfied: idna<4,>=2.5 in /mnt/share/code/collijk/miniconda/envs/mi/lib/python3.12/site-packages (from requests->mnist1d==0.0.2.post9) (3.7)\n",
      "Requirement already satisfied: urllib3<3,>=1.21.1 in /mnt/share/code/collijk/miniconda/envs/mi/lib/python3.12/site-packages (from requests->mnist1d==0.0.2.post9) (2.2.2)\n",
      "Requirement already satisfied: certifi>=2017.4.17 in /mnt/share/code/collijk/miniconda/envs/mi/lib/python3.12/site-packages (from requests->mnist1d==0.0.2.post9) (2024.7.4)\n",
      "Requirement already satisfied: six>=1.5 in /mnt/share/code/collijk/miniconda/envs/mi/lib/python3.12/site-packages (from python-dateutil>=2.7->matplotlib->mnist1d==0.0.2.post9) (1.16.0)\n",
      "Building wheels for collected packages: mnist1d\n",
      "  Building wheel for mnist1d (pyproject.toml) ... \u001b[?25ldone\n",
      "\u001b[?25h  Created wheel for mnist1d: filename=mnist1d-0.0.2.post9-py3-none-any.whl size=14496 sha256=c78260fd46b290e819b13705ed2e4b6d58814ad1c840f6128fbf3f3865560c63\n",
      "  Stored in directory: /tmp/pip-ephem-wheel-cache-46y0t89z/wheels/18/40/b6/29381fee9b4c80fdbc304d52bb065a7286bbcca5ca2b8737c0\n",
      "Successfully built mnist1d\n",
      "Installing collected packages: mnist1d\n",
      "Successfully installed mnist1d-0.0.2.post9\n",
      "Note: you may need to restart the kernel to use updated packages.\n"
     ]
    }
   ],
   "source": [
    "# Run this if you're in a Colab to install MNIST 1D repository\n",
    "%pip install git+https://github.com/greydanus/mnist1d"
   ]
  },
  {
   "cell_type": "code",
   "execution_count": 6,
   "metadata": {
    "execution": {
     "iopub.execute_input": "2024-08-05T00:29:38.194228Z",
     "iopub.status.busy": "2024-08-05T00:29:38.193839Z",
     "iopub.status.idle": "2024-08-05T00:29:39.593609Z",
     "shell.execute_reply": "2024-08-05T00:29:39.592942Z",
     "shell.execute_reply.started": "2024-08-05T00:29:38.194198Z"
    },
    "id": "qyE7G1StPIqO"
   },
   "outputs": [],
   "source": [
    "import torch, torch.nn as nn\n",
    "from torch.utils.data import TensorDataset, DataLoader\n",
    "from torch.optim.lr_scheduler import StepLR\n",
    "import numpy as np\n",
    "import matplotlib.pyplot as plt\n",
    "import mnist1d"
   ]
  },
  {
   "cell_type": "markdown",
   "metadata": {
    "id": "F7LNq72SP6jO"
   },
   "source": [
    "Let's generate a training and test dataset using the MNIST1D code.  The dataset gets saved as a .pkl file so it doesn't have to be regenerated each time."
   ]
  },
  {
   "cell_type": "code",
   "execution_count": 7,
   "metadata": {
    "execution": {
     "iopub.execute_input": "2024-08-05T00:29:44.577586Z",
     "iopub.status.busy": "2024-08-05T00:29:44.577027Z",
     "iopub.status.idle": "2024-08-05T00:29:47.943173Z",
     "shell.execute_reply": "2024-08-05T00:29:47.942252Z",
     "shell.execute_reply.started": "2024-08-05T00:29:44.577563Z"
    },
    "id": "YLxf7dJfPaqw"
   },
   "outputs": [
    {
     "name": "stdout",
     "output_type": "stream",
     "text": [
      "Did or could not load data from ./sample_data/mnist1d_data.pkl. Rebuilding dataset...\n",
      "Examples in training set: 4000\n",
      "Examples in test set: 1000\n",
      "Length of each example: 40\n"
     ]
    }
   ],
   "source": [
    "!mkdir ./sample_data\n",
    "\n",
    "args = mnist1d.data.get_dataset_args()\n",
    "data = mnist1d.data.get_dataset(args, path='./sample_data/mnist1d_data.pkl', download=False, regenerate=False)\n",
    "\n",
    "# The training and test input and outputs are in\n",
    "# data['x'], data['y'], data['x_test'], and data['y_test']\n",
    "print(\"Examples in training set: {}\".format(len(data['y'])))\n",
    "print(\"Examples in test set: {}\".format(len(data['y_test'])))\n",
    "print(\"Length of each example: {}\".format(data['x'].shape[-1]))"
   ]
  },
  {
   "cell_type": "code",
   "execution_count": 9,
   "metadata": {
    "execution": {
     "iopub.execute_input": "2024-08-05T00:33:34.744243Z",
     "iopub.status.busy": "2024-08-05T00:33:34.743940Z",
     "iopub.status.idle": "2024-08-05T00:33:34.754519Z",
     "shell.execute_reply": "2024-08-05T00:33:34.753777Z",
     "shell.execute_reply.started": "2024-08-05T00:33:34.744221Z"
    },
    "id": "FxaB5vc0uevl"
   },
   "outputs": [
    {
     "data": {
      "text/plain": [
       "Sequential(\n",
       "  (0): Linear(in_features=40, out_features=100, bias=True)\n",
       "  (1): ReLU()\n",
       "  (2): Linear(in_features=100, out_features=100, bias=True)\n",
       "  (3): ReLU()\n",
       "  (4): Linear(in_features=100, out_features=10, bias=True)\n",
       ")"
      ]
     },
     "execution_count": 9,
     "metadata": {},
     "output_type": "execute_result"
    }
   ],
   "source": [
    "D_i = 40    # Input dimensions\n",
    "D_k = 100   # Hidden dimensions\n",
    "D_o = 10    # Output dimensions\n",
    "# TO DO:\n",
    "# Define a model with two hidden layers of size 100\n",
    "# And ReLU activations between them\n",
    "# Replace this line (see Figure 7.8 of book for help):\n",
    "model = nn.Sequential(\n",
    "    nn.Linear(D_i, D_k),\n",
    "    nn.ReLU(),\n",
    "    nn.Linear(D_k, D_k),\n",
    "    nn.ReLU(),\n",
    "    nn.Linear(D_k, D_o),\n",
    ")\n",
    "\n",
    "\n",
    "def weights_init(layer_in):\n",
    "    if isinstance(layer_in, nn.Linear):\n",
    "        nn.init.kaiming_normal_(layer_in.weight)\n",
    "        layer_in.bias.data.fill_(0.0)\n",
    "\n",
    "# Call the function you just defined\n",
    "model.apply(weights_init)\n"
   ]
  },
  {
   "cell_type": "code",
   "execution_count": 10,
   "metadata": {
    "execution": {
     "iopub.execute_input": "2024-08-05T00:33:40.627564Z",
     "iopub.status.busy": "2024-08-05T00:33:40.627238Z",
     "iopub.status.idle": "2024-08-05T00:33:50.171801Z",
     "shell.execute_reply": "2024-08-05T00:33:50.170632Z",
     "shell.execute_reply.started": "2024-08-05T00:33:40.627543Z"
    },
    "id": "_rX6N3VyyQTY"
   },
   "outputs": [
    {
     "name": "stdout",
     "output_type": "stream",
     "text": [
      "Epoch     0, train loss 1.606395, train error 62.83,  test loss 1.693635, test error 69.20\n",
      "Epoch     1, train loss 1.341278, train error 50.08,  test loss 1.490254, test error 58.90\n",
      "Epoch     2, train loss 1.143486, train error 40.53,  test loss 1.331211, test error 51.60\n",
      "Epoch     3, train loss 1.005949, train error 36.17,  test loss 1.252940, test error 47.90\n",
      "Epoch     4, train loss 0.896965, train error 31.62,  test loss 1.185215, test error 46.40\n",
      "Epoch     5, train loss 0.826162, train error 28.93,  test loss 1.193440, test error 45.80\n",
      "Epoch     6, train loss 0.751654, train error 27.55,  test loss 1.166025, test error 43.90\n",
      "Epoch     7, train loss 0.659194, train error 22.97,  test loss 1.131922, test error 42.30\n",
      "Epoch     8, train loss 0.624992, train error 22.43,  test loss 1.145517, test error 41.40\n",
      "Epoch     9, train loss 0.537188, train error 18.35,  test loss 1.123999, test error 40.30\n",
      "Epoch    10, train loss 0.440899, train error 13.40,  test loss 1.054861, test error 39.70\n",
      "Epoch    11, train loss 0.400199, train error 11.15,  test loss 1.080948, test error 39.20\n",
      "Epoch    12, train loss 0.363502, train error 9.50,  test loss 1.066334, test error 38.40\n",
      "Epoch    13, train loss 0.341406, train error 9.12,  test loss 1.110471, test error 39.70\n",
      "Epoch    14, train loss 0.303326, train error 7.68,  test loss 1.093051, test error 38.00\n",
      "Epoch    15, train loss 0.274991, train error 6.20,  test loss 1.124435, test error 37.20\n",
      "Epoch    16, train loss 0.259035, train error 5.90,  test loss 1.154965, test error 38.80\n",
      "Epoch    17, train loss 0.243072, train error 5.35,  test loss 1.154812, test error 39.20\n",
      "Epoch    18, train loss 0.216865, train error 4.50,  test loss 1.159155, test error 37.90\n",
      "Epoch    19, train loss 0.185835, train error 3.20,  test loss 1.183493, test error 37.90\n",
      "Epoch    20, train loss 0.160091, train error 1.85,  test loss 1.160896, test error 37.00\n",
      "Epoch    21, train loss 0.151613, train error 1.65,  test loss 1.177947, test error 37.20\n",
      "Epoch    22, train loss 0.143711, train error 1.28,  test loss 1.192076, test error 37.90\n",
      "Epoch    23, train loss 0.132992, train error 0.93,  test loss 1.187713, test error 38.50\n",
      "Epoch    24, train loss 0.124955, train error 0.82,  test loss 1.199339, test error 38.00\n",
      "Epoch    25, train loss 0.118583, train error 0.57,  test loss 1.195651, test error 36.70\n",
      "Epoch    26, train loss 0.112012, train error 0.43,  test loss 1.222863, test error 36.90\n",
      "Epoch    27, train loss 0.109102, train error 0.35,  test loss 1.224411, test error 36.80\n",
      "Epoch    28, train loss 0.102466, train error 0.32,  test loss 1.258023, test error 37.50\n",
      "Epoch    29, train loss 0.094604, train error 0.20,  test loss 1.245033, test error 37.30\n",
      "Epoch    30, train loss 0.090830, train error 0.15,  test loss 1.255130, test error 37.60\n",
      "Epoch    31, train loss 0.088499, train error 0.12,  test loss 1.257463, test error 36.80\n",
      "Epoch    32, train loss 0.086435, train error 0.15,  test loss 1.260139, test error 36.80\n",
      "Epoch    33, train loss 0.083986, train error 0.12,  test loss 1.268695, test error 37.50\n",
      "Epoch    34, train loss 0.082202, train error 0.10,  test loss 1.274379, test error 36.70\n",
      "Epoch    35, train loss 0.080014, train error 0.07,  test loss 1.278666, test error 36.90\n",
      "Epoch    36, train loss 0.078237, train error 0.07,  test loss 1.283172, test error 36.90\n",
      "Epoch    37, train loss 0.076450, train error 0.10,  test loss 1.293611, test error 37.40\n",
      "Epoch    38, train loss 0.074854, train error 0.07,  test loss 1.289850, test error 37.00\n",
      "Epoch    39, train loss 0.072718, train error 0.07,  test loss 1.306671, test error 36.80\n",
      "Epoch    40, train loss 0.071788, train error 0.07,  test loss 1.304157, test error 36.80\n",
      "Epoch    41, train loss 0.070750, train error 0.07,  test loss 1.304014, test error 36.50\n",
      "Epoch    42, train loss 0.069787, train error 0.05,  test loss 1.307444, test error 36.90\n",
      "Epoch    43, train loss 0.069168, train error 0.07,  test loss 1.309742, test error 36.90\n",
      "Epoch    44, train loss 0.068294, train error 0.07,  test loss 1.311623, test error 37.00\n",
      "Epoch    45, train loss 0.067527, train error 0.05,  test loss 1.316079, test error 36.60\n",
      "Epoch    46, train loss 0.066819, train error 0.05,  test loss 1.316094, test error 36.70\n",
      "Epoch    47, train loss 0.066364, train error 0.05,  test loss 1.318246, test error 36.70\n",
      "Epoch    48, train loss 0.065324, train error 0.05,  test loss 1.321316, test error 36.80\n",
      "Epoch    49, train loss 0.064631, train error 0.03,  test loss 1.322628, test error 37.10\n"
     ]
    }
   ],
   "source": [
    "# choose cross entropy loss function (equation 5.24)\n",
    "loss_function = torch.nn.CrossEntropyLoss()\n",
    "# construct SGD optimizer and initialize learning rate and momentum\n",
    "optimizer = torch.optim.SGD(model.parameters(), lr = 0.05, momentum=0.9)\n",
    "# object that decreases learning rate by half every 10 epochs\n",
    "scheduler = StepLR(optimizer, step_size=10, gamma=0.5)\n",
    "x_train = torch.tensor(data['x'].astype('float32'))\n",
    "y_train = torch.tensor(data['y'].transpose().astype('long'))\n",
    "x_test= torch.tensor(data['x_test'].astype('float32'))\n",
    "y_test = torch.tensor(data['y_test'].astype('long'))\n",
    "\n",
    "# load the data into a class that creates the batches\n",
    "data_loader = DataLoader(TensorDataset(x_train,y_train), batch_size=100, shuffle=True, worker_init_fn=np.random.seed(1))\n",
    "\n",
    "# Initialize model weights\n",
    "model.apply(weights_init)\n",
    "\n",
    "# loop over the dataset n_epoch times\n",
    "n_epoch = 50\n",
    "# store the loss and the % correct at each epoch\n",
    "losses_train = np.zeros((n_epoch))\n",
    "errors_train = np.zeros((n_epoch))\n",
    "losses_test = np.zeros((n_epoch))\n",
    "errors_test = np.zeros((n_epoch))\n",
    "\n",
    "for epoch in range(n_epoch):\n",
    "  # loop over batches\n",
    "  for i, batch in enumerate(data_loader):\n",
    "    # retrieve inputs and labels for this batch\n",
    "    x_batch, y_batch = batch\n",
    "    # zero the parameter gradients\n",
    "    optimizer.zero_grad()\n",
    "    # forward pass -- calculate model output\n",
    "    pred = model(x_batch)\n",
    "    # compute the loss\n",
    "    loss = loss_function(pred, y_batch)\n",
    "    # backward pass\n",
    "    loss.backward()\n",
    "    # SGD update\n",
    "    optimizer.step()\n",
    "\n",
    "  # Run whole dataset to get statistics -- normally wouldn't do this\n",
    "  pred_train = model(x_train)\n",
    "  pred_test = model(x_test)\n",
    "  _, predicted_train_class = torch.max(pred_train.data, 1)\n",
    "  _, predicted_test_class = torch.max(pred_test.data, 1)\n",
    "  errors_train[epoch] = 100 - 100 * (predicted_train_class == y_train).float().sum() / len(y_train)\n",
    "  errors_test[epoch]= 100 - 100 * (predicted_test_class == y_test).float().sum() / len(y_test)\n",
    "  losses_train[epoch] = loss_function(pred_train, y_train).item()\n",
    "  losses_test[epoch]= loss_function(pred_test, y_test).item()\n",
    "  print(f'Epoch {epoch:5d}, train loss {losses_train[epoch]:.6f}, train error {errors_train[epoch]:3.2f},  test loss {losses_test[epoch]:.6f}, test error {errors_test[epoch]:3.2f}')\n",
    "\n",
    "  # tell scheduler to consider updating learning rate\n",
    "  scheduler.step()"
   ]
  },
  {
   "cell_type": "code",
   "execution_count": 11,
   "metadata": {
    "execution": {
     "iopub.execute_input": "2024-08-05T00:34:35.239624Z",
     "iopub.status.busy": "2024-08-05T00:34:35.238967Z",
     "iopub.status.idle": "2024-08-05T00:34:35.596478Z",
     "shell.execute_reply": "2024-08-05T00:34:35.595791Z",
     "shell.execute_reply.started": "2024-08-05T00:34:35.239602Z"
    },
    "id": "yI-l6kA_EH9G"
   },
   "outputs": [
    {
     "data": {
      "image/png": "[encoded data removed]",
      "text/plain": [
       "<Figure size 640x480 with 1 Axes>"
      ]
     },
     "metadata": {},
     "output_type": "display_data"
    },
    {
     "data": {
      "image/png": "[encoded data removed]",
      "text/plain": [
       "<Figure size 640x480 with 1 Axes>"
      ]
     },
     "metadata": {},
     "output_type": "display_data"
    }
   ],
   "source": [
    "# Plot the results\n",
    "fig, ax = plt.subplots()\n",
    "ax.plot(errors_train,'r-',label='train')\n",
    "ax.plot(errors_test,'b-',label='test')\n",
    "ax.set_ylim(0,100); ax.set_xlim(0,n_epoch)\n",
    "ax.set_xlabel('Epoch'); ax.set_ylabel('Error')\n",
    "ax.set_title('TrainError %3.2f, Test Error %3.2f'%(errors_train[-1],errors_test[-1]))\n",
    "ax.legend()\n",
    "plt.show()\n",
    "\n",
    "# Plot the results\n",
    "fig, ax = plt.subplots()\n",
    "ax.plot(losses_train,'r-',label='train')\n",
    "ax.plot(losses_test,'b-',label='test')\n",
    "ax.set_xlim(0,n_epoch)\n",
    "ax.set_xlabel('Epoch'); ax.set_ylabel('Loss')\n",
    "ax.set_title('Train loss %3.2f, Test loss %3.2f'%(losses_train[-1],losses_test[-1]))\n",
    "ax.legend()\n",
    "plt.show()"
   ]
  },
  {
   "cell_type": "markdown",
   "metadata": {
    "id": "q-yT6re6GZS4"
   },
   "source": [
    "**TO DO**\n",
    "\n",
    "Play with the model -- try changing the number of layers, hidden units, learning rate, batch size, momentum or anything else you like.  See if you can improve the test results.\n",
    "\n",
    "Is it a good idea to optimize the hyperparameters in this way?  Will the final result be a good estimate of the true test performance?"
   ]
  },
  {
   "cell_type": "markdown",
   "metadata": {},
   "source": [
    "Will do some parameter experimentation on a real model.  \n",
    "\n",
    "Optimizing hyperparameters this way is a big no-no.  We want a validation set for that, otherwise we're implicitly teaching our model about the test set via our coarse hyperparameter grid search."
   ]
  },
  {
   "cell_type": "code",
   "execution_count": null,
   "metadata": {},
   "outputs": [],
   "source": []
  }
 ],
 "metadata": {
  "accelerator": "GPU",
  "colab": {
   "authorship_tag": "ABX9TyOuKMUcKfOIhIL2qTX9jJCy",
   "gpuType": "T4",
   "include_colab_link": true,
   "provenance": []
  },
  "kernelspec": {
   "display_name": "Python 3 (ipykernel)",
   "language": "python",
   "name": "python3"
  },
  "language_info": {
   "codemirror_mode": {
    "name": "ipython",
    "version": 3
   },
   "file_extension": ".py",
   "mimetype": "text/x-python",
   "name": "python",
   "nbconvert_exporter": "python",
   "pygments_lexer": "ipython3",
   "version": "3.12.4"
  }
 },
 "nbformat": 4,
 "nbformat_minor": 4
}
