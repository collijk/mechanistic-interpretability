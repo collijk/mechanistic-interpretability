{
 "cells": [
  {
   "cell_type": "markdown",
   "id": "345870cb-0105-4e9f-8ead-3dced7f5fa82",
   "metadata": {},
   "source": [
    "### Problem 7.1 A two-layer network with two hidden units in each layer can be defined as: y = ϕ0 + ϕ1ahψ01 + ψ11a[θ01 + θ11x] + ψ21a[θ02 + θ12x] i +ϕ2a h ψ02 + ψ12a[θ01 + θ11x] + ψ22a[θ02 + θ12x] i , (7.34) where the functions a[•] are ReLU functions. Compute the derivatives of the output y with respect to each of the 13 parameters ϕ• , θ••, and ψ•• directly (i.e., not using the backpropagationalgorithm). The derivative of the ReLU function with respect to its input ∂a[z]/∂z is theindicator function I[z > 0], which returns one if the argument is greater than zero and zero otherwise (figure 7.6)."
   ]
  },
  {
   "cell_type": "markdown",
   "id": "b9a71893-f0e7-4c02-bb3f-1f44a6b24957",
   "metadata": {},
   "source": [
    "This is just like 6.5, I don't need more chain rule practice."
   ]
  },
  {
   "cell_type": "markdown",
   "id": "4fbdab30-a7e8-429f-8c46-e6a7b4b2b1c5",
   "metadata": {},
   "source": [
    "### Problem 7.2 Find an expression for the final term in each of the five chains of derivatives in equation 7.12."
   ]
  },
  {
   "cell_type": "markdown",
   "id": "e900c3ef-c431-4b50-9e52-d53ac8498756",
   "metadata": {
    "execution": {
     "iopub.execute_input": "2024-08-01T04:50:12.431304Z",
     "iopub.status.busy": "2024-08-01T04:50:12.430916Z",
     "iopub.status.idle": "2024-08-01T04:50:12.436865Z",
     "shell.execute_reply": "2024-08-01T04:50:12.435762Z",
     "shell.execute_reply.started": "2024-08-01T04:50:12.431271Z"
    }
   },
   "source": [
    "\\begin{align}\n",
    "    f_0 &= \\beta_0 + \\omega_0 x_i \\\\\n",
    "    h_1 &= \\sin [f_0] \\\\\n",
    "    f_1 &= \\beta_1 + \\omega_1 x_i \\\\\n",
    "    h_2 &= \\exp [f_1] \\\\\n",
    "    f_2 &= \\beta_2 + \\omega_2 x_i \\\\\n",
    "    h_3 &= \\cos [f_2] \\\\\n",
    "    f_3 &= \\beta_3 + \\omega_3 x_i \\\\\n",
    "    l_i &= (f_3 - y_i)^2 \\\\\n",
    "\\end{align}\n",
    "\n",
    "\\begin{align}\n",
    "    \\frac{\\partial l_i}{\\partial f_2} &= \\frac{\\partial h_3}{\\partial f_2} \\left( \\frac{\\partial f_3}{\\partial h_3} \\frac{\\partial l_i}{\\partial h_3} \\right)\\\\\n",
    "    &= \\sin[f_2] \\cdot \\left(2\\omega_3(f_3 - y_i)\\right) \\\\\n",
    "    \\frac{\\partial l_i}{\\partial h_2} &= \\frac{\\partial f_2}{\\partial h_2}\\left( \\frac{\\partial h_3}{\\partial f_2} \\frac{\\partial f_3}{\\partial h_3} \\frac{\\partial l_i}{\\partial h_3} \\right) \\\\\n",
    "    &= -\\omega_2\\sin[f_2] \\cdot \\left(2\\omega_3(f_3 - y_i)\\right) \\\\\n",
    "    \\frac{\\partial l_i}{\\partial f_1} &= \\frac{\\partial h_2}{\\partial f_1}\\left( \\frac{\\partial f_2}{\\partial h_2}\\frac{\\partial h_3}{\\partial f_2} \\frac{\\partial f_3}{\\partial h_3} \\frac{\\partial l_i}{\\partial h_3} \\right) \\\\\n",
    "    &= -exp[f_1]\\omega_2\\sin[f_2] \\cdot \\left(2\\omega_3(f_3 - y_i)\\right) \\\\\n",
    "\\end{align}\n",
    "\n",
    "...etc."
   ]
  },
  {
   "cell_type": "markdown",
   "id": "1bdcd96c-3276-4878-b6c0-9779f7370280",
   "metadata": {},
   "source": [
    "### Problem 7.3 What size are each of the terms in equation 7.19?"
   ]
  },
  {
   "cell_type": "markdown",
   "id": "e9aac1a6-5443-456b-b076-ecb699248eae",
   "metadata": {},
   "source": [
    "Network size\n",
    "\n",
    "- $D_{in} = 3$\n",
    "- $D_1 = 4$\n",
    "- $D_2 = 2$\n",
    "- $D_3 = 3$\n",
    "- $D_o = 2$\n",
    "\n",
    "From right to left\n",
    "\n",
    "- $D_o$ x 1\n",
    "- $D_3$ x $D_o$\n",
    "- $D_3$ x $D_3$\n",
    "- $D_2$ x $D_3$\n",
    "- $D_2$ x $D_2$\n",
    "- $D_1$ x $D_2$\n",
    "- $D_1$ x $D_1$"
   ]
  },
  {
   "cell_type": "markdown",
   "id": "1421c3df-ec8a-4c85-811e-5fb0daa8eefc",
   "metadata": {},
   "source": [
    "### Problem 7.4 Calculate the derivative ∂ℓi/∂f[xi, ϕ] for the least squares loss function: ℓi = (yi − f[xi, ϕ])2. (7.35)"
   ]
  },
  {
   "cell_type": "markdown",
   "id": "20074629-8543-4d1c-b59b-e953ca150d1d",
   "metadata": {
    "execution": {
     "iopub.execute_input": "2024-08-01T05:10:37.149635Z",
     "iopub.status.busy": "2024-08-01T05:10:37.149248Z",
     "iopub.status.idle": "2024-08-01T05:10:37.155455Z",
     "shell.execute_reply": "2024-08-01T05:10:37.154155Z",
     "shell.execute_reply.started": "2024-08-01T05:10:37.149604Z"
    }
   },
   "source": [
    "\\begin{align}\n",
    "    \\frac{\\partial l_i}{\\partial f[x_i, \\phi]} &= -2(y_i - f[x_i, \\phi])\\\\\n",
    "\\end{align}"
   ]
  },
  {
   "cell_type": "markdown",
   "id": "4f393085-f055-49ff-bd00-ba978b25532f",
   "metadata": {},
   "source": [
    "### Problem 7.5 Calculate the derivative ∂ℓi/∂f[xi, ϕ] for the binary classification loss function: ℓi = −(1 − yi) logh1 − sigf[xi, ϕ] i − yi logh sigf[xi, ϕ]i, (7.36) where the function sig[•] is the logistic sigmoid and is defined as: sig[z] = 1 1 + exp[−z]. (7.37)"
   ]
  },
  {
   "cell_type": "markdown",
   "id": "2652cc80-a36a-4e7a-9612-5fa23079bca3",
   "metadata": {},
   "source": [
    "Did this in problem 6.4"
   ]
  },
  {
   "cell_type": "markdown",
   "id": "d88c1d8b-2c02-41f6-9cf4-63aaf9650cb6",
   "metadata": {},
   "source": [
    "### Problem 7.6∗ Show that for z = β + Ωh: ∂z ∂h = Ω T , where ∂z/∂h is a matrix containing the term ∂zi/∂hj in its i th column and j th row. To do this, first find an expression for the constituent elements ∂zi/∂hj , and then consider the form that the matrix ∂z/∂h must take."
   ]
  },
  {
   "cell_type": "markdown",
   "id": "e71412f7-dda3-4502-a966-ae73751c2214",
   "metadata": {
    "execution": {
     "iopub.execute_input": "2024-08-02T21:21:45.460625Z",
     "iopub.status.busy": "2024-08-02T21:21:45.460327Z",
     "iopub.status.idle": "2024-08-02T21:21:45.465834Z",
     "shell.execute_reply": "2024-08-02T21:21:45.464957Z",
     "shell.execute_reply.started": "2024-08-02T21:21:45.460604Z"
    }
   },
   "source": [
    "\\begin{align}\n",
    "    \\mathbf{z} &= \\mathbf{\\beta} + \\mathbf{\\Omega}\\mathbf{h} \\\\\n",
    "    z_i &= \\beta_i + \\sum_j \\omega_{i, k} h_k \\\\\n",
    "    \\implies \\frac{\\partial z_i}{\\partial h_j} &=  \\omega_{i,j}\n",
    "\\end{align}\n",
    "\n",
    "So then, by the convention of putting $\\frac{\\partial \\mathbf{z}}{\\partial \\mathbf{h}}$ in denominator (or Hessian) format, we end up with $\\frac{\\partial \\mathbf{z}}{\\partial \\mathbf{h}}_{i,j} = \\omega_{j,i}$ so $\\frac{\\partial \\mathbf{z}}{\\partial \\mathbf{h}} = \\Omega^T$"
   ]
  },
  {
   "cell_type": "markdown",
   "id": "54d63dae-d6ed-4783-9121-ac510086f78f",
   "metadata": {},
   "source": [
    "### Problem 7.7 Consider the case where we use the logistic sigmoid (see equation 7.37) as an activation function, so h = sig[f]. Compute the derivative ∂h/∂f for this activation function. What happens to the derivative when the input takes (i) a large positive value and (ii) a large negative value?"
   ]
  },
  {
   "cell_type": "markdown",
   "id": "e1b133ec-6091-4373-aa4c-4f7366ef1f15",
   "metadata": {},
   "source": [
    "\\begin{align}\n",
    "    h &= sig[f] \\\\\n",
    "    \\frac{\\partial h}{\\partial f} &= \\frac{\\exp[-f]}{(1 + \\exp[-f])^2} \\\\\n",
    "    \\frac{\\partial h}{\\partial f} &= sig[f](1 - sig[f]) \\\\\n",
    "\\end{align}\n",
    "\n",
    "As $f$ gets very large, $sig[f]$ goes to 1, which means $\\frac{\\partial h}{\\partial f}$ goes to 0.  As $f$ becomes large and negative, $sig[f]$ goes to 0, so, again, $\\frac{\\partial h}{\\partial f}$ goes to 0."
   ]
  },
  {
   "cell_type": "markdown",
   "id": "5703a5ac-0340-42f4-acc7-dddc9b9a362d",
   "metadata": {},
   "source": [
    "### Problem 7.8 Consider using (i) the Heaviside function and (ii) the rectangular function as activation functions: Heaviside[z] = ( 0 z < 01 z ≥ 0, (7.38) and rect[z] = 0 z < 01 0 ≤ z ≤ 10 z > 1. (7.39) Discuss why these functions are problematic for neural network training with gradient-based optimization methods."
   ]
  },
  {
   "cell_type": "markdown",
   "id": "55c38ea5-d0a6-4cb5-a1ae-4cca8532bb1f",
   "metadata": {},
   "source": [
    "The reason both these functions are problematic is that their derivatives with respect to the inputs are either 0 or infinite (or an appropriately sized delta function), which makes it impossible for optimization based on gradients to propagate meaningful changes to the parameters."
   ]
  },
  {
   "cell_type": "markdown",
   "id": "b74adc63-e27d-4777-8bd9-34e923a0815b",
   "metadata": {},
   "source": [
    "### Problem 7.9∗ Consider a loss function ℓ[f], where f = β + Ωh. We want to find how the loss ℓ changes when we change Ω, which we’ll express with a matrix that contains the derivative∂ℓ/∂Ωij at the ith row and jth column. Find an expression for ∂fi/∂Ωij and, using the chain rule, show that:∂ℓ∂Ω=∂ℓ∂fh"
   ]
  },
  {
   "cell_type": "markdown",
   "id": "3aaf28dc-2831-4626-8e90-1f65cdaf70bb",
   "metadata": {
    "execution": {
     "iopub.execute_input": "2024-08-03T21:57:31.235671Z",
     "iopub.status.busy": "2024-08-03T21:57:31.235317Z",
     "iopub.status.idle": "2024-08-03T21:57:31.240808Z",
     "shell.execute_reply": "2024-08-03T21:57:31.239919Z",
     "shell.execute_reply.started": "2024-08-03T21:57:31.235648Z"
    }
   },
   "source": [
    "\\begin{align}\n",
    "    \\mathbf{f} &= \\mathbf{\\beta} * \\Omega\\mathbf{h} \\\\\n",
    "    f_i &= \\beta_i + \\sum_j \\omega_{ij}h_j \\\\\n",
    "    \\frac{\\partial f_i}{\\partial \\omega_{ij}} &= h_j \\\\\n",
    "    \\frac{\\partial l}{\\partial \\omega_{ij}} &= \\frac{\\partial l}{\\partial f_i}\\frac{\\partial f_i}{\\partial \\omega_{ij}} = \\frac{\\partial l}{\\partial f_i}h_j\n",
    "\\end{align}\n",
    "\n",
    "which we can use to rewrite $\\frac{\\partial l}{\\partial \\Omega}$ as the outer product $\\frac{\\partial l}{\\partial \\mathbf{f}} \\mathbf{h}^T$"
   ]
  },
  {
   "cell_type": "markdown",
   "id": "639eff73-5a91-40b6-83b3-6ef3f8bf16f9",
   "metadata": {},
   "source": [
    "### Problem 7.10∗ Derive the equations for the backward pass of the backpropagation algorithm for a network that uses leaky ReLU activations, which are defined as: a[z] = ReLU[z] = (α · z z < 0z z ≥ 0, (7.41) where α is a small positive constant (typically 0.1)."
   ]
  },
  {
   "cell_type": "markdown",
   "id": "4d2a6fff-9063-4c87-bbb6-6f9d776815fe",
   "metadata": {
    "execution": {
     "iopub.execute_input": "2024-08-04T20:32:56.862942Z",
     "iopub.status.busy": "2024-08-04T20:32:56.862657Z",
     "iopub.status.idle": "2024-08-04T20:32:56.867744Z",
     "shell.execute_reply": "2024-08-04T20:32:56.866830Z",
     "shell.execute_reply.started": "2024-08-04T20:32:56.862921Z"
    }
   },
   "source": [
    "The only piece we need to change from (7.24) is the last term, which is \n",
    "\n",
    "\\begin{align}\n",
    "    \\frac{\\partial l_i}{\\partial \\mathbf{f}_{k-1}} &= \\mathbb{I}[f_{k-1} > 0] \\odot \\left( \\Omega_k^T \\frac{\\partial l_i}{\\partial \\mathbf{f}_k}\\right)\n",
    "\\end{align}\n",
    "\n",
    "For a leaky ReLU, this becomes \n",
    "\n",
    "\\begin{align}\n",
    "    \\frac{\\partial l_i}{\\partial \\mathbf{f}_{k-1}} &= (\\alpha \\mathbb{I}[f_{k-1} < 0] + \\mathbb{I}[f_{k-1} \\ge 0]) \\odot \\left( \\Omega_k^T \\frac{\\partial l_i}{\\partial \\mathbf{f}_k}\\right)\n",
    "\\end{align}"
   ]
  },
  {
   "cell_type": "markdown",
   "id": "b8456026-3b2b-4ed7-a013-0c690533c3a3",
   "metadata": {},
   "source": [
    "### Problem 7.11 Consider training a network with fifty layers, where we only have enough memory to store the pre-activations at every tenth hidden layer during the forward pass. Explain how to compute the derivatives in this situation using gradient checkpointing."
   ]
  },
  {
   "cell_type": "markdown",
   "id": "3b70f4c6-0be3-4d46-9e61-41c4e03e0617",
   "metadata": {},
   "source": [
    "Very roughly, essentially what we do is we divide the network up into sub-networks of layers with an anchoring layer where we store pre-activations.  We can then re-evaluate the forward pass of the network from anchorning layer k to anchoring layer k+1 (ie redo the forward pass on the sub-network), followed by backpropagating the gradients through this subnetwork. This is sensible on directed graphs because the subnetworks are isolated."
   ]
  },
  {
   "cell_type": "markdown",
   "id": "2f348154-4925-4f7e-a4f6-1b328125cacd",
   "metadata": {},
   "source": [
    "### Problem 7.12∗ This problem explores computing derivatives on general acyclic computational graphs. Consider the function: y = exp exp[x] + exp[x] 2 + sin[exp[x] + exp[x]2]. (7.42)We can break this down into a series of intermediate computations so that f1 = exp[x] f2 = f21 f3 = f1 + f2 f4 = exp[f3] f5 = sin[f3] y = f4 + f5. (7.43) The associated computational graph is depicted in figure 7.9. Compute the derivative ∂y/∂x by reverse-mode differentiation. In other words, compute in order: ∂y∂f5 , ∂y∂f4, ∂y∂f3, ∂y∂f2, ∂y∂f1 and ∂y∂x, (7.44) using the chain rule in each case to make use of the derivatives already computed."
   ]
  },
  {
   "cell_type": "markdown",
   "id": "136959e8-7358-4e3e-9f6f-5516c4a58cf1",
   "metadata": {},
   "source": [
    "\\begin{align}\n",
    "    y &= \\exp[\\exp[x] + \\exp[x]^2] + \\sin[\\exp[x] + \\exp[x]^2] \\\\\n",
    "    f_1 &= \\exp[x] \\\\\n",
    "    f_2 &= f_1^2 \\\\\n",
    "    f_3 &= f_1 + f_2 \\\\\n",
    "    f_4 &= \\exp[f_3] \\\\\n",
    "    f_5 &= \\sin[f_3] \\\\\n",
    "    y &= f_4 + f_5 \\\\\n",
    "\\end{align}\n",
    "\n",
    "\\begin{align}\n",
    "    \\frac{\\partial y}{\\partial f_5} &= 1 \\\\\n",
    "    \\frac{\\partial y}{\\partial f_4} &= 1 \\\\\n",
    "    \\frac{\\partial y}{\\partial f_3} &= \\frac{\\partial y}{\\partial f_5}\\frac{\\partial f_5}{\\partial f_3} + \\frac{\\partial y}{\\partial f_4}\\frac{\\partial f_4}{\\partial f_3}\\\\\n",
    "    &= \\cos[f_3] + exp[f_3] \\\\\n",
    "    \\frac{\\partial y}{\\partial f_2} &= \\frac{\\partial y}{\\partial f_3}\\frac{\\partial f_3}{\\partial f_2}\\\\\n",
    "    &= \\cos[f_3] + exp[f_3] \\\\\n",
    "    \\frac{\\partial y}{\\partial f_1} &= \\frac{\\partial y}{\\partial f_3}\\left(\\frac{\\partial f_3}{\\partial f_1} + \\frac{\\partial f_3}{\\partial f_2}\\frac{\\partial f_2}{\\partial f_1}\\right)\\\\\n",
    "    &= (\\cos[f_3] + exp[f_3]) \\cdot (1 + 2f_1) \\\\    \n",
    "    \\frac{\\partial y}{\\partial x} &= \\frac{\\partial y}{\\partial f_1}\\frac{\\partial f_1}{\\partial x} \\\\\n",
    "    &= (\\cos[f_3] + exp[f_3]) \\cdot (1 + 2f_1]) \\exp[x]\\\\\n",
    "    &= (\\cos[\\exp[x] + \\exp[x]^2] + \\exp[\\exp[x] + \\exp[x]^2]) \\cdot (1 + 2\\exp[x]]) \\exp[x]\\\\\n",
    "\\end{align}"
   ]
  },
  {
   "cell_type": "markdown",
   "id": "96410eb5-13ad-438c-8df5-89cc36924e86",
   "metadata": {},
   "source": [
    "### Problem 7.13∗ For the same function as in problem 7.12, compute the derivative ∂y/∂x by forward-mode differentiation. In other words, compute in order: ∂f1∂x,∂f2∂x,∂f3∂x,∂f4∂x,∂f5∂x, and ∂y∂x, 7.45) using the chain rule in each case to make use of the derivatives already computed. Why do we not use forward-mode differentiation when we calculate the parameter gradients for deep networks?"
   ]
  },
  {
   "cell_type": "markdown",
   "id": "7028e8b7-6575-462a-8f36-22439c25bf24",
   "metadata": {},
   "source": [
    "\\begin{align}\n",
    "    \\frac{\\partial f_1}{\\partial x} &= \\exp[x] \\\\\n",
    "    \\frac{\\partial f_2}{\\partial x} &= 2 f_1 \\frac{\\partial f_1}{\\partial x} \\\\\n",
    "    &= 2 \\exp[x]^2 \\\\\n",
    "    \\frac{\\partial f_3}{\\partial x} &= \\frac{\\partial f_1}{\\partial x} + \\frac{\\partial f_2}{\\partial x} \\\\\n",
    "    &= \\exp[x] + 2 \\exp[x]^2 \\\\\n",
    "    \\frac{\\partial f_4}{\\partial x} &= \\exp[f_3] \\frac{\\partial f_3}{\\partial x} \\\\\n",
    "    &= \\exp[\\exp[x] + \\exp[x]^2] (\\exp[x] + 2 \\exp[x]^2) \\\\\n",
    "    \\frac{\\partial f_5}{\\partial x} &= \\cos[f_3]\\frac{\\partial f_3}{\\partial x} \\\\\n",
    "    &= \\cos[\\exp[x] + \\exp[x]^2] (\\exp[x] + 2 \\exp[x]^2) \\\\\n",
    "    \\frac{\\partial y}{\\partial x} &= \\frac{\\partial f_4}{\\partial x} + \\frac{\\partial f_5}{\\partial x} \\\\\n",
    "    &= \\exp[\\exp[x] + \\exp[x]^2] (\\exp[x] + 2 \\exp[x]^2) + \\cos[\\exp[x] + \\exp[x]^2] (\\exp[x] + 2 \\exp[x]^2)\n",
    "\\end{align}\n",
    "\n",
    "\n",
    "This problem is not a great illustration of why forward-mode differentiation is not what we want.  Forward-mode differentiation requires us to maintain an ever expanding collection of partial derivatives as each parameter can arbitrarily impact downstream parameters (as far as we can tell). Backwards differentiation, on the other hand, takes advantage of the fact that we can recursively explore the actual network structure and only compute and store partial derivatives we need."
   ]
  },
  {
   "cell_type": "markdown",
   "id": "370070ed-4546-4094-90d3-1578e25eda70",
   "metadata": {},
   "source": [
    "### Problem 7.14 Consider a random variable a with variance Var[a] = σ2and a symmetrical distribution around the mean E[a] = 0. Prove that if we pass this variable through the ReLU function: b = ReLU[a] = (0 a < 0 a a ≥ 0 , (7.46) then the second moment of the transformed variable is E[b2] = σ2/2."
   ]
  },
  {
   "cell_type": "markdown",
   "id": "cf3ce4cf-cb3b-4fb5-b2ea-1b48cdb4b61e",
   "metadata": {
    "execution": {
     "iopub.execute_input": "2024-08-04T22:20:00.848963Z",
     "iopub.status.busy": "2024-08-04T22:20:00.848678Z",
     "iopub.status.idle": "2024-08-04T22:20:00.852949Z",
     "shell.execute_reply": "2024-08-04T22:20:00.852081Z",
     "shell.execute_reply.started": "2024-08-04T22:20:00.848942Z"
    }
   },
   "source": [
    "\\begin{align}\n",
    "    E[b^2] &= \\int_{-{\\infty}}^{\\infty} b^2 p[a] da \\\\\n",
    "    &= \\int_{0}^{\\infty} a^2 p[a] da \\\\\n",
    "    &= \\frac{1}{2} E[a^2] \\\\\n",
    "    &= \\frac{\\sigma^2}{2}\n",
    "\\end{align}"
   ]
  },
  {
   "cell_type": "markdown",
   "id": "203ea306-9302-4cda-a3ad-e905781acf59",
   "metadata": {},
   "source": [
    "### Problem 7.15 What would you expect to happen if we initialized all of the weights and biases in the network to zero?"
   ]
  },
  {
   "cell_type": "markdown",
   "id": "66876d8b-2420-4c0d-ae0c-42566cf1fc3b",
   "metadata": {},
   "source": [
    "The gradients would all be zero and the network would be unable to learn"
   ]
  },
  {
   "cell_type": "markdown",
   "id": "62211ebd-0b71-4601-bdd7-0485aae88baa",
   "metadata": {},
   "source": [
    "### Problem 7.16 Implement the code in figure 7.8 in PyTorch and plot the training loss as a function of the number of epochs."
   ]
  },
  {
   "cell_type": "code",
   "execution_count": 10,
   "id": "ab78e8e7-1d88-4358-b9b5-c0c722fc5725",
   "metadata": {
    "execution": {
     "iopub.execute_input": "2024-08-04T22:27:28.624743Z",
     "iopub.status.busy": "2024-08-04T22:27:28.624406Z",
     "iopub.status.idle": "2024-08-04T22:27:29.810486Z",
     "shell.execute_reply": "2024-08-04T22:27:29.809708Z",
     "shell.execute_reply.started": "2024-08-04T22:27:28.624718Z"
    }
   },
   "outputs": [
    {
     "data": {
      "text/plain": [
       "Text(0, 0.5, 'Loss')"
      ]
     },
     "execution_count": 10,
     "metadata": {},
     "output_type": "execute_result"
    },
    {
     "data": {
      "image/png": "[encoded data removed]",
      "text/plain": [
       "<Figure size 800x400 with 1 Axes>"
      ]
     },
     "metadata": {},
     "output_type": "display_data"
    }
   ],
   "source": [
    "import torch, torch.nn as nn\n",
    "from torch.utils.data import TensorDataset, DataLoader\n",
    "from torch.optim.lr_scheduler import StepLR\n",
    "\n",
    "# define input size, hidden layer size, output size\n",
    "D_i, D_k, D_o = 10, 40, 5\n",
    "# create model with two hidden layers\n",
    "model = nn.Sequential(\n",
    "    nn.Linear(D_i, D_k),\n",
    "    nn.ReLU(),\n",
    "    nn.Linear(D_k, D_k),\n",
    "    nn.ReLU(),\n",
    "    nn.Linear(D_k, D_o),\n",
    ")\n",
    "\n",
    "# He initialization of weights\n",
    "def weights_init(layer_in):\n",
    "    if isinstance(layer_in, nn.Linear):\n",
    "        nn.init.kaiming_normal_(layer_in.weight)\n",
    "        layer_in.bias.data.fill_(0.0)\n",
    "model.apply(weights_init)\n",
    "\n",
    "# choose least squares loss function\n",
    "criterion = nn.MSELoss()\n",
    "# construct SGD optimizer and initialize learning rate and momentum\n",
    "optimizer = torch.optim.SGD(model.parameters(), lr = 0.1, momentum=0.9)\n",
    "# object that decreases learning rate by half every 10 epochs\n",
    "scheduler = StepLR(optimizer, step_size=10, gamma=0.5)\n",
    "\n",
    "# create 100 random data points and store in data loader class\n",
    "x = torch.randn(100, D_i)\n",
    "y = torch.randn(100, D_o)\n",
    "data_loader = DataLoader(TensorDataset(x,y), batch_size=10, shuffle=True)\n",
    "\n",
    "\n",
    "loss_data = []\n",
    "# loop over the dataset 100 times\n",
    "for epoch in range(100):\n",
    "    epoch_loss = 0.0\n",
    "    # loop over batches\n",
    "    for i, data in enumerate(data_loader):\n",
    "        # retrieve inputs and labels for this batch\n",
    "        x_batch, y_batch = data\n",
    "        # zero the parameter gradients\n",
    "        optimizer.zero_grad()\n",
    "        # forward pass\n",
    "        pred = model(x_batch)\n",
    "        loss = criterion(pred, y_batch)\n",
    "        # backward pass\n",
    "        loss.backward()\n",
    "        # SGD update\n",
    "        optimizer.step()\n",
    "        # update statistics\n",
    "        epoch_loss += loss.item()\n",
    "        # print error\n",
    "    loss_data.append((epoch, epoch_loss))\n",
    "    #print(f'Epoch {epoch:5d}, loss {epoch_loss:.3f}')\n",
    "    # tell scheduler to consider updating learning rate\n",
    "    scheduler.step()\n",
    "\n",
    "epochs, losses = zip(*loss_data)\n",
    "import matplotlib.pyplot as plt\n",
    "\n",
    "fig, ax = plt.subplots(figsize=(8, 4))\n",
    "ax.plot(epochs, losses)\n",
    "ax.set_xlabel('Epoch')\n",
    "ax.set_ylabel('Loss')"
   ]
  },
  {
   "cell_type": "markdown",
   "id": "e11ecd46-e8cb-451d-8c28-97d27f0c6c84",
   "metadata": {},
   "source": [
    "### Problem 7.17 Change the code in figure 7.8 to tackle a binary classification problem. You will need to (i) change the targets y so they are binary, (ii) change the network to predict numbers between zero and one (iii) change the loss function appropriately."
   ]
  },
  {
   "cell_type": "code",
   "execution_count": 22,
   "id": "bcd55db5-cac6-4eaf-93a6-94e840d907f3",
   "metadata": {
    "execution": {
     "iopub.execute_input": "2024-08-04T22:37:16.316394Z",
     "iopub.status.busy": "2024-08-04T22:37:16.316089Z",
     "iopub.status.idle": "2024-08-04T22:37:18.304360Z",
     "shell.execute_reply": "2024-08-04T22:37:18.303767Z",
     "shell.execute_reply.started": "2024-08-04T22:37:16.316374Z"
    }
   },
   "outputs": [
    {
     "data": {
      "text/plain": [
       "Text(0, 0.5, 'Loss')"
      ]
     },
     "execution_count": 22,
     "metadata": {},
     "output_type": "execute_result"
    },
    {
     "data": {
      "image/png": "[encoded data removed]",
      "text/plain": [
       "<Figure size 800x400 with 1 Axes>"
      ]
     },
     "metadata": {},
     "output_type": "display_data"
    }
   ],
   "source": [
    "# define input size, hidden layer size, output size\n",
    "D_i, D_k, D_o = 10, 40, 5\n",
    "# create model with two hidden layers\n",
    "model = nn.Sequential(\n",
    "    nn.Linear(D_i, D_k),\n",
    "    nn.ReLU(),\n",
    "    nn.Linear(D_k, D_k),\n",
    "    nn.ReLU(),\n",
    "    nn.Linear(D_k, D_o),\n",
    "    nn.Softmax(dim=1)\n",
    ")\n",
    "\n",
    "# He initialization of weights\n",
    "def weights_init(layer_in):\n",
    "    if isinstance(layer_in, nn.Linear):\n",
    "        nn.init.kaiming_normal_(layer_in.weight)\n",
    "        layer_in.bias.data.fill_(0.0)\n",
    "model.apply(weights_init)\n",
    "\n",
    "# choose least squares loss function\n",
    "criterion = nn.BCELoss()\n",
    "# construct SGD optimizer and initialize learning rate and momentum\n",
    "optimizer = torch.optim.SGD(model.parameters(), lr = 0.1, momentum=0.9)\n",
    "# object that decreases learning rate by half every 10 epochs\n",
    "scheduler = StepLR(optimizer, step_size=10, gamma=0.5)\n",
    "\n",
    "# create 100 random data points and store in data loader class\n",
    "x = torch.randn(100, D_i)\n",
    "y = (torch.randn(100, D_o) > 0.5).float()\n",
    "\n",
    "data_loader = DataLoader(TensorDataset(x,y), batch_size=10, shuffle=True)\n",
    "\n",
    "\n",
    "loss_data = []\n",
    "# loop over the dataset 100 times\n",
    "for epoch in range(100):\n",
    "    epoch_loss = 0.0\n",
    "    # loop over batches\n",
    "    for i, data in enumerate(data_loader):\n",
    "        # retrieve inputs and labels for this batch\n",
    "        x_batch, y_batch = data\n",
    "        # zero the parameter gradients\n",
    "        optimizer.zero_grad()\n",
    "        # forward pass\n",
    "        pred = model(x_batch)\n",
    "        loss = criterion(pred, y_batch)\n",
    "        # backward pass\n",
    "        loss.backward()\n",
    "        # SGD update\n",
    "        optimizer.step()\n",
    "        # update statistics\n",
    "        epoch_loss += loss.item()\n",
    "        # print error\n",
    "    loss_data.append((epoch, epoch_loss))\n",
    "    #print(f'Epoch {epoch:5d}, loss {epoch_loss:.3f}')\n",
    "    # tell scheduler to consider updating learning rate\n",
    "    scheduler.step()\n",
    "\n",
    "epochs, losses = zip(*loss_data)\n",
    "import matplotlib.pyplot as plt\n",
    "\n",
    "fig, ax = plt.subplots(figsize=(8, 4))\n",
    "ax.plot(epochs, losses)\n",
    "ax.set_xlabel('Epoch')\n",
    "ax.set_ylabel('Loss')"
   ]
  },
  {
   "cell_type": "code",
   "execution_count": null,
   "id": "28c25410-b988-4747-9cb0-fdb8d0549eb4",
   "metadata": {},
   "outputs": [],
   "source": []
  }
 ],
 "metadata": {
  "kernelspec": {
   "display_name": "Python 3 (ipykernel)",
   "language": "python",
   "name": "python3"
  },
  "language_info": {
   "codemirror_mode": {
    "name": "ipython",
    "version": 3
   },
   "file_extension": ".py",
   "mimetype": "text/x-python",
   "name": "python",
   "nbconvert_exporter": "python",
   "pygments_lexer": "ipython3",
   "version": "3.12.4"
  }
 },
 "nbformat": 4,
 "nbformat_minor": 5
}
